{
  "cells": [
    {
      "cell_type": "code",
      "execution_count": 1,
      "metadata": {
        "id": "AAKP-j6FqdEd"
      },
      "outputs": [],
      "source": [
        "import pandas as pd\n",
        "import numpy as np\n",
        "import matplotlib.pyplot as plt\n",
        "import seaborn as sns"
      ]
    },
    {
      "cell_type": "code",
      "execution_count": 2,
      "metadata": {
        "id": "DQaYZfXXrBmF"
      },
      "outputs": [],
      "source": [
        "data = pd.read_csv('ncr_ride_bookings.csv')"
      ]
    },
    {
      "cell_type": "markdown",
      "metadata": {
        "id": "KTY510R8yJ2E"
      },
      "source": [
        "# Exploring Data"
      ]
    },
    {
      "cell_type": "code",
      "execution_count": 3,
      "metadata": {
        "colab": {
          "base_uri": "https://localhost:8080/",
          "height": 394
        },
        "id": "lMd5GNOLrBid",
        "outputId": "dd5697fb-2b0c-4f7e-e5bf-e6f51379f439"
      },
      "outputs": [
        {
          "output_type": "execute_result",
          "data": {
            "text/plain": [
              "         Date      Time    Booking ID   Booking Status   Customer ID  \\\n",
              "0  2024-03-23  12:29:38  \"CNR5884300\"  No Driver Found  \"CID1982111\"   \n",
              "1  2024-11-29  18:01:39  \"CNR1326809\"       Incomplete  \"CID4604802\"   \n",
              "2  2024-08-23  08:56:10  \"CNR8494506\"        Completed  \"CID9202816\"   \n",
              "3  2024-10-21  17:17:25  \"CNR8906825\"        Completed  \"CID2610914\"   \n",
              "4  2024-09-16  22:08:00  \"CNR1950162\"        Completed  \"CID9933542\"   \n",
              "\n",
              "    Vehicle Type      Pickup Location      Drop Location  Avg VTAT  Avg CTAT  \\\n",
              "0          eBike          Palam Vihar            Jhilmil       NaN       NaN   \n",
              "1       Go Sedan        Shastri Nagar  Gurgaon Sector 56       4.9      14.0   \n",
              "2           Auto              Khandsa      Malviya Nagar      13.4      25.8   \n",
              "3  Premier Sedan  Central Secretariat           Inderlok      13.1      28.5   \n",
              "4           Bike     Ghitorni Village        Khan Market       5.3      19.6   \n",
              "\n",
              "   ...  Reason for cancelling by Customer Cancelled Rides by Driver  \\\n",
              "0  ...                                NaN                       NaN   \n",
              "1  ...                                NaN                       NaN   \n",
              "2  ...                                NaN                       NaN   \n",
              "3  ...                                NaN                       NaN   \n",
              "4  ...                                NaN                       NaN   \n",
              "\n",
              "   Driver Cancellation Reason Incomplete Rides  Incomplete Rides Reason  \\\n",
              "0                         NaN              NaN                      NaN   \n",
              "1                         NaN              1.0        Vehicle Breakdown   \n",
              "2                         NaN              NaN                      NaN   \n",
              "3                         NaN              NaN                      NaN   \n",
              "4                         NaN              NaN                      NaN   \n",
              "\n",
              "  Booking Value  Ride Distance  Driver Ratings  Customer Rating  \\\n",
              "0           NaN            NaN             NaN              NaN   \n",
              "1         237.0           5.73             NaN              NaN   \n",
              "2         627.0          13.58             4.9              4.9   \n",
              "3         416.0          34.02             4.6              5.0   \n",
              "4         737.0          48.21             4.1              4.3   \n",
              "\n",
              "   Payment Method  \n",
              "0             NaN  \n",
              "1             UPI  \n",
              "2      Debit Card  \n",
              "3             UPI  \n",
              "4             UPI  \n",
              "\n",
              "[5 rows x 21 columns]"
            ],
            "text/html": [
              "\n",
              "  <div id=\"df-72e43e8c-f11d-49d0-a07a-76ec95c5c4a2\" class=\"colab-df-container\">\n",
              "    <div>\n",
              "<style scoped>\n",
              "    .dataframe tbody tr th:only-of-type {\n",
              "        vertical-align: middle;\n",
              "    }\n",
              "\n",
              "    .dataframe tbody tr th {\n",
              "        vertical-align: top;\n",
              "    }\n",
              "\n",
              "    .dataframe thead th {\n",
              "        text-align: right;\n",
              "    }\n",
              "</style>\n",
              "<table border=\"1\" class=\"dataframe\">\n",
              "  <thead>\n",
              "    <tr style=\"text-align: right;\">\n",
              "      <th></th>\n",
              "      <th>Date</th>\n",
              "      <th>Time</th>\n",
              "      <th>Booking ID</th>\n",
              "      <th>Booking Status</th>\n",
              "      <th>Customer ID</th>\n",
              "      <th>Vehicle Type</th>\n",
              "      <th>Pickup Location</th>\n",
              "      <th>Drop Location</th>\n",
              "      <th>Avg VTAT</th>\n",
              "      <th>Avg CTAT</th>\n",
              "      <th>...</th>\n",
              "      <th>Reason for cancelling by Customer</th>\n",
              "      <th>Cancelled Rides by Driver</th>\n",
              "      <th>Driver Cancellation Reason</th>\n",
              "      <th>Incomplete Rides</th>\n",
              "      <th>Incomplete Rides Reason</th>\n",
              "      <th>Booking Value</th>\n",
              "      <th>Ride Distance</th>\n",
              "      <th>Driver Ratings</th>\n",
              "      <th>Customer Rating</th>\n",
              "      <th>Payment Method</th>\n",
              "    </tr>\n",
              "  </thead>\n",
              "  <tbody>\n",
              "    <tr>\n",
              "      <th>0</th>\n",
              "      <td>2024-03-23</td>\n",
              "      <td>12:29:38</td>\n",
              "      <td>\"CNR5884300\"</td>\n",
              "      <td>No Driver Found</td>\n",
              "      <td>\"CID1982111\"</td>\n",
              "      <td>eBike</td>\n",
              "      <td>Palam Vihar</td>\n",
              "      <td>Jhilmil</td>\n",
              "      <td>NaN</td>\n",
              "      <td>NaN</td>\n",
              "      <td>...</td>\n",
              "      <td>NaN</td>\n",
              "      <td>NaN</td>\n",
              "      <td>NaN</td>\n",
              "      <td>NaN</td>\n",
              "      <td>NaN</td>\n",
              "      <td>NaN</td>\n",
              "      <td>NaN</td>\n",
              "      <td>NaN</td>\n",
              "      <td>NaN</td>\n",
              "      <td>NaN</td>\n",
              "    </tr>\n",
              "    <tr>\n",
              "      <th>1</th>\n",
              "      <td>2024-11-29</td>\n",
              "      <td>18:01:39</td>\n",
              "      <td>\"CNR1326809\"</td>\n",
              "      <td>Incomplete</td>\n",
              "      <td>\"CID4604802\"</td>\n",
              "      <td>Go Sedan</td>\n",
              "      <td>Shastri Nagar</td>\n",
              "      <td>Gurgaon Sector 56</td>\n",
              "      <td>4.9</td>\n",
              "      <td>14.0</td>\n",
              "      <td>...</td>\n",
              "      <td>NaN</td>\n",
              "      <td>NaN</td>\n",
              "      <td>NaN</td>\n",
              "      <td>1.0</td>\n",
              "      <td>Vehicle Breakdown</td>\n",
              "      <td>237.0</td>\n",
              "      <td>5.73</td>\n",
              "      <td>NaN</td>\n",
              "      <td>NaN</td>\n",
              "      <td>UPI</td>\n",
              "    </tr>\n",
              "    <tr>\n",
              "      <th>2</th>\n",
              "      <td>2024-08-23</td>\n",
              "      <td>08:56:10</td>\n",
              "      <td>\"CNR8494506\"</td>\n",
              "      <td>Completed</td>\n",
              "      <td>\"CID9202816\"</td>\n",
              "      <td>Auto</td>\n",
              "      <td>Khandsa</td>\n",
              "      <td>Malviya Nagar</td>\n",
              "      <td>13.4</td>\n",
              "      <td>25.8</td>\n",
              "      <td>...</td>\n",
              "      <td>NaN</td>\n",
              "      <td>NaN</td>\n",
              "      <td>NaN</td>\n",
              "      <td>NaN</td>\n",
              "      <td>NaN</td>\n",
              "      <td>627.0</td>\n",
              "      <td>13.58</td>\n",
              "      <td>4.9</td>\n",
              "      <td>4.9</td>\n",
              "      <td>Debit Card</td>\n",
              "    </tr>\n",
              "    <tr>\n",
              "      <th>3</th>\n",
              "      <td>2024-10-21</td>\n",
              "      <td>17:17:25</td>\n",
              "      <td>\"CNR8906825\"</td>\n",
              "      <td>Completed</td>\n",
              "      <td>\"CID2610914\"</td>\n",
              "      <td>Premier Sedan</td>\n",
              "      <td>Central Secretariat</td>\n",
              "      <td>Inderlok</td>\n",
              "      <td>13.1</td>\n",
              "      <td>28.5</td>\n",
              "      <td>...</td>\n",
              "      <td>NaN</td>\n",
              "      <td>NaN</td>\n",
              "      <td>NaN</td>\n",
              "      <td>NaN</td>\n",
              "      <td>NaN</td>\n",
              "      <td>416.0</td>\n",
              "      <td>34.02</td>\n",
              "      <td>4.6</td>\n",
              "      <td>5.0</td>\n",
              "      <td>UPI</td>\n",
              "    </tr>\n",
              "    <tr>\n",
              "      <th>4</th>\n",
              "      <td>2024-09-16</td>\n",
              "      <td>22:08:00</td>\n",
              "      <td>\"CNR1950162\"</td>\n",
              "      <td>Completed</td>\n",
              "      <td>\"CID9933542\"</td>\n",
              "      <td>Bike</td>\n",
              "      <td>Ghitorni Village</td>\n",
              "      <td>Khan Market</td>\n",
              "      <td>5.3</td>\n",
              "      <td>19.6</td>\n",
              "      <td>...</td>\n",
              "      <td>NaN</td>\n",
              "      <td>NaN</td>\n",
              "      <td>NaN</td>\n",
              "      <td>NaN</td>\n",
              "      <td>NaN</td>\n",
              "      <td>737.0</td>\n",
              "      <td>48.21</td>\n",
              "      <td>4.1</td>\n",
              "      <td>4.3</td>\n",
              "      <td>UPI</td>\n",
              "    </tr>\n",
              "  </tbody>\n",
              "</table>\n",
              "<p>5 rows × 21 columns</p>\n",
              "</div>\n",
              "    <div class=\"colab-df-buttons\">\n",
              "\n",
              "  <div class=\"colab-df-container\">\n",
              "    <button class=\"colab-df-convert\" onclick=\"convertToInteractive('df-72e43e8c-f11d-49d0-a07a-76ec95c5c4a2')\"\n",
              "            title=\"Convert this dataframe to an interactive table.\"\n",
              "            style=\"display:none;\">\n",
              "\n",
              "  <svg xmlns=\"http://www.w3.org/2000/svg\" height=\"24px\" viewBox=\"0 -960 960 960\">\n",
              "    <path d=\"M120-120v-720h720v720H120Zm60-500h600v-160H180v160Zm220 220h160v-160H400v160Zm0 220h160v-160H400v160ZM180-400h160v-160H180v160Zm440 0h160v-160H620v160ZM180-180h160v-160H180v160Zm440 0h160v-160H620v160Z\"/>\n",
              "  </svg>\n",
              "    </button>\n",
              "\n",
              "  <style>\n",
              "    .colab-df-container {\n",
              "      display:flex;\n",
              "      gap: 12px;\n",
              "    }\n",
              "\n",
              "    .colab-df-convert {\n",
              "      background-color: #E8F0FE;\n",
              "      border: none;\n",
              "      border-radius: 50%;\n",
              "      cursor: pointer;\n",
              "      display: none;\n",
              "      fill: #1967D2;\n",
              "      height: 32px;\n",
              "      padding: 0 0 0 0;\n",
              "      width: 32px;\n",
              "    }\n",
              "\n",
              "    .colab-df-convert:hover {\n",
              "      background-color: #E2EBFA;\n",
              "      box-shadow: 0px 1px 2px rgba(60, 64, 67, 0.3), 0px 1px 3px 1px rgba(60, 64, 67, 0.15);\n",
              "      fill: #174EA6;\n",
              "    }\n",
              "\n",
              "    .colab-df-buttons div {\n",
              "      margin-bottom: 4px;\n",
              "    }\n",
              "\n",
              "    [theme=dark] .colab-df-convert {\n",
              "      background-color: #3B4455;\n",
              "      fill: #D2E3FC;\n",
              "    }\n",
              "\n",
              "    [theme=dark] .colab-df-convert:hover {\n",
              "      background-color: #434B5C;\n",
              "      box-shadow: 0px 1px 3px 1px rgba(0, 0, 0, 0.15);\n",
              "      filter: drop-shadow(0px 1px 2px rgba(0, 0, 0, 0.3));\n",
              "      fill: #FFFFFF;\n",
              "    }\n",
              "  </style>\n",
              "\n",
              "    <script>\n",
              "      const buttonEl =\n",
              "        document.querySelector('#df-72e43e8c-f11d-49d0-a07a-76ec95c5c4a2 button.colab-df-convert');\n",
              "      buttonEl.style.display =\n",
              "        google.colab.kernel.accessAllowed ? 'block' : 'none';\n",
              "\n",
              "      async function convertToInteractive(key) {\n",
              "        const element = document.querySelector('#df-72e43e8c-f11d-49d0-a07a-76ec95c5c4a2');\n",
              "        const dataTable =\n",
              "          await google.colab.kernel.invokeFunction('convertToInteractive',\n",
              "                                                    [key], {});\n",
              "        if (!dataTable) return;\n",
              "\n",
              "        const docLinkHtml = 'Like what you see? Visit the ' +\n",
              "          '<a target=\"_blank\" href=https://colab.research.google.com/notebooks/data_table.ipynb>data table notebook</a>'\n",
              "          + ' to learn more about interactive tables.';\n",
              "        element.innerHTML = '';\n",
              "        dataTable['output_type'] = 'display_data';\n",
              "        await google.colab.output.renderOutput(dataTable, element);\n",
              "        const docLink = document.createElement('div');\n",
              "        docLink.innerHTML = docLinkHtml;\n",
              "        element.appendChild(docLink);\n",
              "      }\n",
              "    </script>\n",
              "  </div>\n",
              "\n",
              "\n",
              "    <div id=\"df-f594b025-19e8-4af9-a607-c899e64211b0\">\n",
              "      <button class=\"colab-df-quickchart\" onclick=\"quickchart('df-f594b025-19e8-4af9-a607-c899e64211b0')\"\n",
              "                title=\"Suggest charts\"\n",
              "                style=\"display:none;\">\n",
              "\n",
              "<svg xmlns=\"http://www.w3.org/2000/svg\" height=\"24px\"viewBox=\"0 0 24 24\"\n",
              "     width=\"24px\">\n",
              "    <g>\n",
              "        <path d=\"M19 3H5c-1.1 0-2 .9-2 2v14c0 1.1.9 2 2 2h14c1.1 0 2-.9 2-2V5c0-1.1-.9-2-2-2zM9 17H7v-7h2v7zm4 0h-2V7h2v10zm4 0h-2v-4h2v4z\"/>\n",
              "    </g>\n",
              "</svg>\n",
              "      </button>\n",
              "\n",
              "<style>\n",
              "  .colab-df-quickchart {\n",
              "      --bg-color: #E8F0FE;\n",
              "      --fill-color: #1967D2;\n",
              "      --hover-bg-color: #E2EBFA;\n",
              "      --hover-fill-color: #174EA6;\n",
              "      --disabled-fill-color: #AAA;\n",
              "      --disabled-bg-color: #DDD;\n",
              "  }\n",
              "\n",
              "  [theme=dark] .colab-df-quickchart {\n",
              "      --bg-color: #3B4455;\n",
              "      --fill-color: #D2E3FC;\n",
              "      --hover-bg-color: #434B5C;\n",
              "      --hover-fill-color: #FFFFFF;\n",
              "      --disabled-bg-color: #3B4455;\n",
              "      --disabled-fill-color: #666;\n",
              "  }\n",
              "\n",
              "  .colab-df-quickchart {\n",
              "    background-color: var(--bg-color);\n",
              "    border: none;\n",
              "    border-radius: 50%;\n",
              "    cursor: pointer;\n",
              "    display: none;\n",
              "    fill: var(--fill-color);\n",
              "    height: 32px;\n",
              "    padding: 0;\n",
              "    width: 32px;\n",
              "  }\n",
              "\n",
              "  .colab-df-quickchart:hover {\n",
              "    background-color: var(--hover-bg-color);\n",
              "    box-shadow: 0 1px 2px rgba(60, 64, 67, 0.3), 0 1px 3px 1px rgba(60, 64, 67, 0.15);\n",
              "    fill: var(--button-hover-fill-color);\n",
              "  }\n",
              "\n",
              "  .colab-df-quickchart-complete:disabled,\n",
              "  .colab-df-quickchart-complete:disabled:hover {\n",
              "    background-color: var(--disabled-bg-color);\n",
              "    fill: var(--disabled-fill-color);\n",
              "    box-shadow: none;\n",
              "  }\n",
              "\n",
              "  .colab-df-spinner {\n",
              "    border: 2px solid var(--fill-color);\n",
              "    border-color: transparent;\n",
              "    border-bottom-color: var(--fill-color);\n",
              "    animation:\n",
              "      spin 1s steps(1) infinite;\n",
              "  }\n",
              "\n",
              "  @keyframes spin {\n",
              "    0% {\n",
              "      border-color: transparent;\n",
              "      border-bottom-color: var(--fill-color);\n",
              "      border-left-color: var(--fill-color);\n",
              "    }\n",
              "    20% {\n",
              "      border-color: transparent;\n",
              "      border-left-color: var(--fill-color);\n",
              "      border-top-color: var(--fill-color);\n",
              "    }\n",
              "    30% {\n",
              "      border-color: transparent;\n",
              "      border-left-color: var(--fill-color);\n",
              "      border-top-color: var(--fill-color);\n",
              "      border-right-color: var(--fill-color);\n",
              "    }\n",
              "    40% {\n",
              "      border-color: transparent;\n",
              "      border-right-color: var(--fill-color);\n",
              "      border-top-color: var(--fill-color);\n",
              "    }\n",
              "    60% {\n",
              "      border-color: transparent;\n",
              "      border-right-color: var(--fill-color);\n",
              "    }\n",
              "    80% {\n",
              "      border-color: transparent;\n",
              "      border-right-color: var(--fill-color);\n",
              "      border-bottom-color: var(--fill-color);\n",
              "    }\n",
              "    90% {\n",
              "      border-color: transparent;\n",
              "      border-bottom-color: var(--fill-color);\n",
              "    }\n",
              "  }\n",
              "</style>\n",
              "\n",
              "      <script>\n",
              "        async function quickchart(key) {\n",
              "          const quickchartButtonEl =\n",
              "            document.querySelector('#' + key + ' button');\n",
              "          quickchartButtonEl.disabled = true;  // To prevent multiple clicks.\n",
              "          quickchartButtonEl.classList.add('colab-df-spinner');\n",
              "          try {\n",
              "            const charts = await google.colab.kernel.invokeFunction(\n",
              "                'suggestCharts', [key], {});\n",
              "          } catch (error) {\n",
              "            console.error('Error during call to suggestCharts:', error);\n",
              "          }\n",
              "          quickchartButtonEl.classList.remove('colab-df-spinner');\n",
              "          quickchartButtonEl.classList.add('colab-df-quickchart-complete');\n",
              "        }\n",
              "        (() => {\n",
              "          let quickchartButtonEl =\n",
              "            document.querySelector('#df-f594b025-19e8-4af9-a607-c899e64211b0 button');\n",
              "          quickchartButtonEl.style.display =\n",
              "            google.colab.kernel.accessAllowed ? 'block' : 'none';\n",
              "        })();\n",
              "      </script>\n",
              "    </div>\n",
              "\n",
              "    </div>\n",
              "  </div>\n"
            ],
            "application/vnd.google.colaboratory.intrinsic+json": {
              "type": "dataframe",
              "variable_name": "data"
            }
          },
          "metadata": {},
          "execution_count": 3
        }
      ],
      "source": [
        "data.head()"
      ]
    },
    {
      "cell_type": "code",
      "execution_count": 4,
      "metadata": {
        "colab": {
          "base_uri": "https://localhost:8080/",
          "height": 429
        },
        "id": "Y_F5NPO6rBef",
        "outputId": "68768b28-bd8f-4a52-ae3c-797b84976b93"
      },
      "outputs": [
        {
          "output_type": "execute_result",
          "data": {
            "text/plain": [
              "              Date      Time    Booking ID Booking Status   Customer ID  \\\n",
              "149995  2024-11-11  19:34:01  \"CNR6500631\"      Completed  \"CID4337371\"   \n",
              "149996  2024-11-24  15:55:09  \"CNR2468611\"      Completed  \"CID2325623\"   \n",
              "149997  2024-09-18  10:55:15  \"CNR6358306\"      Completed  \"CID9925486\"   \n",
              "149998  2024-10-05  07:53:34  \"CNR3030099\"      Completed  \"CID9415487\"   \n",
              "149999  2024-03-10  15:38:03  \"CNR3447390\"      Completed  \"CID4108667\"   \n",
              "\n",
              "         Vehicle Type         Pickup Location      Drop Location  Avg VTAT  \\\n",
              "149995        Go Mini                 MG Road           Ghitorni      10.2   \n",
              "149996        Go Mini        Golf Course Road         Akshardham       5.1   \n",
              "149997       Go Sedan  Satguru Ram Singh Marg           Jor Bagh       2.7   \n",
              "149998           Auto               Ghaziabad         Saidulajab       6.9   \n",
              "149999  Premier Sedan         Ashok Park Main  Gurgaon Sector 29       3.5   \n",
              "\n",
              "        Avg CTAT  ...  Reason for cancelling by Customer  \\\n",
              "149995      44.4  ...                                NaN   \n",
              "149996      30.8  ...                                NaN   \n",
              "149997      23.4  ...                                NaN   \n",
              "149998      39.6  ...                                NaN   \n",
              "149999      33.7  ...                                NaN   \n",
              "\n",
              "       Cancelled Rides by Driver  Driver Cancellation Reason Incomplete Rides  \\\n",
              "149995                       NaN                         NaN              NaN   \n",
              "149996                       NaN                         NaN              NaN   \n",
              "149997                       NaN                         NaN              NaN   \n",
              "149998                       NaN                         NaN              NaN   \n",
              "149999                       NaN                         NaN              NaN   \n",
              "\n",
              "        Incomplete Rides Reason Booking Value  Ride Distance  Driver Ratings  \\\n",
              "149995                      NaN         475.0          40.08             3.7   \n",
              "149996                      NaN        1093.0          21.31             4.8   \n",
              "149997                      NaN         852.0          15.93             3.9   \n",
              "149998                      NaN         333.0          45.54             4.1   \n",
              "149999                      NaN         806.0          21.19             4.6   \n",
              "\n",
              "        Customer Rating  Payment Method  \n",
              "149995              4.1     Uber Wallet  \n",
              "149996              5.0             UPI  \n",
              "149997              4.4            Cash  \n",
              "149998              3.7             UPI  \n",
              "149999              4.9     Credit Card  \n",
              "\n",
              "[5 rows x 21 columns]"
            ],
            "text/html": [
              "\n",
              "  <div id=\"df-b1cabc8e-d4e7-4cbe-ac6f-2937db40a07a\" class=\"colab-df-container\">\n",
              "    <div>\n",
              "<style scoped>\n",
              "    .dataframe tbody tr th:only-of-type {\n",
              "        vertical-align: middle;\n",
              "    }\n",
              "\n",
              "    .dataframe tbody tr th {\n",
              "        vertical-align: top;\n",
              "    }\n",
              "\n",
              "    .dataframe thead th {\n",
              "        text-align: right;\n",
              "    }\n",
              "</style>\n",
              "<table border=\"1\" class=\"dataframe\">\n",
              "  <thead>\n",
              "    <tr style=\"text-align: right;\">\n",
              "      <th></th>\n",
              "      <th>Date</th>\n",
              "      <th>Time</th>\n",
              "      <th>Booking ID</th>\n",
              "      <th>Booking Status</th>\n",
              "      <th>Customer ID</th>\n",
              "      <th>Vehicle Type</th>\n",
              "      <th>Pickup Location</th>\n",
              "      <th>Drop Location</th>\n",
              "      <th>Avg VTAT</th>\n",
              "      <th>Avg CTAT</th>\n",
              "      <th>...</th>\n",
              "      <th>Reason for cancelling by Customer</th>\n",
              "      <th>Cancelled Rides by Driver</th>\n",
              "      <th>Driver Cancellation Reason</th>\n",
              "      <th>Incomplete Rides</th>\n",
              "      <th>Incomplete Rides Reason</th>\n",
              "      <th>Booking Value</th>\n",
              "      <th>Ride Distance</th>\n",
              "      <th>Driver Ratings</th>\n",
              "      <th>Customer Rating</th>\n",
              "      <th>Payment Method</th>\n",
              "    </tr>\n",
              "  </thead>\n",
              "  <tbody>\n",
              "    <tr>\n",
              "      <th>149995</th>\n",
              "      <td>2024-11-11</td>\n",
              "      <td>19:34:01</td>\n",
              "      <td>\"CNR6500631\"</td>\n",
              "      <td>Completed</td>\n",
              "      <td>\"CID4337371\"</td>\n",
              "      <td>Go Mini</td>\n",
              "      <td>MG Road</td>\n",
              "      <td>Ghitorni</td>\n",
              "      <td>10.2</td>\n",
              "      <td>44.4</td>\n",
              "      <td>...</td>\n",
              "      <td>NaN</td>\n",
              "      <td>NaN</td>\n",
              "      <td>NaN</td>\n",
              "      <td>NaN</td>\n",
              "      <td>NaN</td>\n",
              "      <td>475.0</td>\n",
              "      <td>40.08</td>\n",
              "      <td>3.7</td>\n",
              "      <td>4.1</td>\n",
              "      <td>Uber Wallet</td>\n",
              "    </tr>\n",
              "    <tr>\n",
              "      <th>149996</th>\n",
              "      <td>2024-11-24</td>\n",
              "      <td>15:55:09</td>\n",
              "      <td>\"CNR2468611\"</td>\n",
              "      <td>Completed</td>\n",
              "      <td>\"CID2325623\"</td>\n",
              "      <td>Go Mini</td>\n",
              "      <td>Golf Course Road</td>\n",
              "      <td>Akshardham</td>\n",
              "      <td>5.1</td>\n",
              "      <td>30.8</td>\n",
              "      <td>...</td>\n",
              "      <td>NaN</td>\n",
              "      <td>NaN</td>\n",
              "      <td>NaN</td>\n",
              "      <td>NaN</td>\n",
              "      <td>NaN</td>\n",
              "      <td>1093.0</td>\n",
              "      <td>21.31</td>\n",
              "      <td>4.8</td>\n",
              "      <td>5.0</td>\n",
              "      <td>UPI</td>\n",
              "    </tr>\n",
              "    <tr>\n",
              "      <th>149997</th>\n",
              "      <td>2024-09-18</td>\n",
              "      <td>10:55:15</td>\n",
              "      <td>\"CNR6358306\"</td>\n",
              "      <td>Completed</td>\n",
              "      <td>\"CID9925486\"</td>\n",
              "      <td>Go Sedan</td>\n",
              "      <td>Satguru Ram Singh Marg</td>\n",
              "      <td>Jor Bagh</td>\n",
              "      <td>2.7</td>\n",
              "      <td>23.4</td>\n",
              "      <td>...</td>\n",
              "      <td>NaN</td>\n",
              "      <td>NaN</td>\n",
              "      <td>NaN</td>\n",
              "      <td>NaN</td>\n",
              "      <td>NaN</td>\n",
              "      <td>852.0</td>\n",
              "      <td>15.93</td>\n",
              "      <td>3.9</td>\n",
              "      <td>4.4</td>\n",
              "      <td>Cash</td>\n",
              "    </tr>\n",
              "    <tr>\n",
              "      <th>149998</th>\n",
              "      <td>2024-10-05</td>\n",
              "      <td>07:53:34</td>\n",
              "      <td>\"CNR3030099\"</td>\n",
              "      <td>Completed</td>\n",
              "      <td>\"CID9415487\"</td>\n",
              "      <td>Auto</td>\n",
              "      <td>Ghaziabad</td>\n",
              "      <td>Saidulajab</td>\n",
              "      <td>6.9</td>\n",
              "      <td>39.6</td>\n",
              "      <td>...</td>\n",
              "      <td>NaN</td>\n",
              "      <td>NaN</td>\n",
              "      <td>NaN</td>\n",
              "      <td>NaN</td>\n",
              "      <td>NaN</td>\n",
              "      <td>333.0</td>\n",
              "      <td>45.54</td>\n",
              "      <td>4.1</td>\n",
              "      <td>3.7</td>\n",
              "      <td>UPI</td>\n",
              "    </tr>\n",
              "    <tr>\n",
              "      <th>149999</th>\n",
              "      <td>2024-03-10</td>\n",
              "      <td>15:38:03</td>\n",
              "      <td>\"CNR3447390\"</td>\n",
              "      <td>Completed</td>\n",
              "      <td>\"CID4108667\"</td>\n",
              "      <td>Premier Sedan</td>\n",
              "      <td>Ashok Park Main</td>\n",
              "      <td>Gurgaon Sector 29</td>\n",
              "      <td>3.5</td>\n",
              "      <td>33.7</td>\n",
              "      <td>...</td>\n",
              "      <td>NaN</td>\n",
              "      <td>NaN</td>\n",
              "      <td>NaN</td>\n",
              "      <td>NaN</td>\n",
              "      <td>NaN</td>\n",
              "      <td>806.0</td>\n",
              "      <td>21.19</td>\n",
              "      <td>4.6</td>\n",
              "      <td>4.9</td>\n",
              "      <td>Credit Card</td>\n",
              "    </tr>\n",
              "  </tbody>\n",
              "</table>\n",
              "<p>5 rows × 21 columns</p>\n",
              "</div>\n",
              "    <div class=\"colab-df-buttons\">\n",
              "\n",
              "  <div class=\"colab-df-container\">\n",
              "    <button class=\"colab-df-convert\" onclick=\"convertToInteractive('df-b1cabc8e-d4e7-4cbe-ac6f-2937db40a07a')\"\n",
              "            title=\"Convert this dataframe to an interactive table.\"\n",
              "            style=\"display:none;\">\n",
              "\n",
              "  <svg xmlns=\"http://www.w3.org/2000/svg\" height=\"24px\" viewBox=\"0 -960 960 960\">\n",
              "    <path d=\"M120-120v-720h720v720H120Zm60-500h600v-160H180v160Zm220 220h160v-160H400v160Zm0 220h160v-160H400v160ZM180-400h160v-160H180v160Zm440 0h160v-160H620v160ZM180-180h160v-160H180v160Zm440 0h160v-160H620v160Z\"/>\n",
              "  </svg>\n",
              "    </button>\n",
              "\n",
              "  <style>\n",
              "    .colab-df-container {\n",
              "      display:flex;\n",
              "      gap: 12px;\n",
              "    }\n",
              "\n",
              "    .colab-df-convert {\n",
              "      background-color: #E8F0FE;\n",
              "      border: none;\n",
              "      border-radius: 50%;\n",
              "      cursor: pointer;\n",
              "      display: none;\n",
              "      fill: #1967D2;\n",
              "      height: 32px;\n",
              "      padding: 0 0 0 0;\n",
              "      width: 32px;\n",
              "    }\n",
              "\n",
              "    .colab-df-convert:hover {\n",
              "      background-color: #E2EBFA;\n",
              "      box-shadow: 0px 1px 2px rgba(60, 64, 67, 0.3), 0px 1px 3px 1px rgba(60, 64, 67, 0.15);\n",
              "      fill: #174EA6;\n",
              "    }\n",
              "\n",
              "    .colab-df-buttons div {\n",
              "      margin-bottom: 4px;\n",
              "    }\n",
              "\n",
              "    [theme=dark] .colab-df-convert {\n",
              "      background-color: #3B4455;\n",
              "      fill: #D2E3FC;\n",
              "    }\n",
              "\n",
              "    [theme=dark] .colab-df-convert:hover {\n",
              "      background-color: #434B5C;\n",
              "      box-shadow: 0px 1px 3px 1px rgba(0, 0, 0, 0.15);\n",
              "      filter: drop-shadow(0px 1px 2px rgba(0, 0, 0, 0.3));\n",
              "      fill: #FFFFFF;\n",
              "    }\n",
              "  </style>\n",
              "\n",
              "    <script>\n",
              "      const buttonEl =\n",
              "        document.querySelector('#df-b1cabc8e-d4e7-4cbe-ac6f-2937db40a07a button.colab-df-convert');\n",
              "      buttonEl.style.display =\n",
              "        google.colab.kernel.accessAllowed ? 'block' : 'none';\n",
              "\n",
              "      async function convertToInteractive(key) {\n",
              "        const element = document.querySelector('#df-b1cabc8e-d4e7-4cbe-ac6f-2937db40a07a');\n",
              "        const dataTable =\n",
              "          await google.colab.kernel.invokeFunction('convertToInteractive',\n",
              "                                                    [key], {});\n",
              "        if (!dataTable) return;\n",
              "\n",
              "        const docLinkHtml = 'Like what you see? Visit the ' +\n",
              "          '<a target=\"_blank\" href=https://colab.research.google.com/notebooks/data_table.ipynb>data table notebook</a>'\n",
              "          + ' to learn more about interactive tables.';\n",
              "        element.innerHTML = '';\n",
              "        dataTable['output_type'] = 'display_data';\n",
              "        await google.colab.output.renderOutput(dataTable, element);\n",
              "        const docLink = document.createElement('div');\n",
              "        docLink.innerHTML = docLinkHtml;\n",
              "        element.appendChild(docLink);\n",
              "      }\n",
              "    </script>\n",
              "  </div>\n",
              "\n",
              "\n",
              "    <div id=\"df-3ffaf814-8f36-4792-897d-f89ccd09d912\">\n",
              "      <button class=\"colab-df-quickchart\" onclick=\"quickchart('df-3ffaf814-8f36-4792-897d-f89ccd09d912')\"\n",
              "                title=\"Suggest charts\"\n",
              "                style=\"display:none;\">\n",
              "\n",
              "<svg xmlns=\"http://www.w3.org/2000/svg\" height=\"24px\"viewBox=\"0 0 24 24\"\n",
              "     width=\"24px\">\n",
              "    <g>\n",
              "        <path d=\"M19 3H5c-1.1 0-2 .9-2 2v14c0 1.1.9 2 2 2h14c1.1 0 2-.9 2-2V5c0-1.1-.9-2-2-2zM9 17H7v-7h2v7zm4 0h-2V7h2v10zm4 0h-2v-4h2v4z\"/>\n",
              "    </g>\n",
              "</svg>\n",
              "      </button>\n",
              "\n",
              "<style>\n",
              "  .colab-df-quickchart {\n",
              "      --bg-color: #E8F0FE;\n",
              "      --fill-color: #1967D2;\n",
              "      --hover-bg-color: #E2EBFA;\n",
              "      --hover-fill-color: #174EA6;\n",
              "      --disabled-fill-color: #AAA;\n",
              "      --disabled-bg-color: #DDD;\n",
              "  }\n",
              "\n",
              "  [theme=dark] .colab-df-quickchart {\n",
              "      --bg-color: #3B4455;\n",
              "      --fill-color: #D2E3FC;\n",
              "      --hover-bg-color: #434B5C;\n",
              "      --hover-fill-color: #FFFFFF;\n",
              "      --disabled-bg-color: #3B4455;\n",
              "      --disabled-fill-color: #666;\n",
              "  }\n",
              "\n",
              "  .colab-df-quickchart {\n",
              "    background-color: var(--bg-color);\n",
              "    border: none;\n",
              "    border-radius: 50%;\n",
              "    cursor: pointer;\n",
              "    display: none;\n",
              "    fill: var(--fill-color);\n",
              "    height: 32px;\n",
              "    padding: 0;\n",
              "    width: 32px;\n",
              "  }\n",
              "\n",
              "  .colab-df-quickchart:hover {\n",
              "    background-color: var(--hover-bg-color);\n",
              "    box-shadow: 0 1px 2px rgba(60, 64, 67, 0.3), 0 1px 3px 1px rgba(60, 64, 67, 0.15);\n",
              "    fill: var(--button-hover-fill-color);\n",
              "  }\n",
              "\n",
              "  .colab-df-quickchart-complete:disabled,\n",
              "  .colab-df-quickchart-complete:disabled:hover {\n",
              "    background-color: var(--disabled-bg-color);\n",
              "    fill: var(--disabled-fill-color);\n",
              "    box-shadow: none;\n",
              "  }\n",
              "\n",
              "  .colab-df-spinner {\n",
              "    border: 2px solid var(--fill-color);\n",
              "    border-color: transparent;\n",
              "    border-bottom-color: var(--fill-color);\n",
              "    animation:\n",
              "      spin 1s steps(1) infinite;\n",
              "  }\n",
              "\n",
              "  @keyframes spin {\n",
              "    0% {\n",
              "      border-color: transparent;\n",
              "      border-bottom-color: var(--fill-color);\n",
              "      border-left-color: var(--fill-color);\n",
              "    }\n",
              "    20% {\n",
              "      border-color: transparent;\n",
              "      border-left-color: var(--fill-color);\n",
              "      border-top-color: var(--fill-color);\n",
              "    }\n",
              "    30% {\n",
              "      border-color: transparent;\n",
              "      border-left-color: var(--fill-color);\n",
              "      border-top-color: var(--fill-color);\n",
              "      border-right-color: var(--fill-color);\n",
              "    }\n",
              "    40% {\n",
              "      border-color: transparent;\n",
              "      border-right-color: var(--fill-color);\n",
              "      border-top-color: var(--fill-color);\n",
              "    }\n",
              "    60% {\n",
              "      border-color: transparent;\n",
              "      border-right-color: var(--fill-color);\n",
              "    }\n",
              "    80% {\n",
              "      border-color: transparent;\n",
              "      border-right-color: var(--fill-color);\n",
              "      border-bottom-color: var(--fill-color);\n",
              "    }\n",
              "    90% {\n",
              "      border-color: transparent;\n",
              "      border-bottom-color: var(--fill-color);\n",
              "    }\n",
              "  }\n",
              "</style>\n",
              "\n",
              "      <script>\n",
              "        async function quickchart(key) {\n",
              "          const quickchartButtonEl =\n",
              "            document.querySelector('#' + key + ' button');\n",
              "          quickchartButtonEl.disabled = true;  // To prevent multiple clicks.\n",
              "          quickchartButtonEl.classList.add('colab-df-spinner');\n",
              "          try {\n",
              "            const charts = await google.colab.kernel.invokeFunction(\n",
              "                'suggestCharts', [key], {});\n",
              "          } catch (error) {\n",
              "            console.error('Error during call to suggestCharts:', error);\n",
              "          }\n",
              "          quickchartButtonEl.classList.remove('colab-df-spinner');\n",
              "          quickchartButtonEl.classList.add('colab-df-quickchart-complete');\n",
              "        }\n",
              "        (() => {\n",
              "          let quickchartButtonEl =\n",
              "            document.querySelector('#df-3ffaf814-8f36-4792-897d-f89ccd09d912 button');\n",
              "          quickchartButtonEl.style.display =\n",
              "            google.colab.kernel.accessAllowed ? 'block' : 'none';\n",
              "        })();\n",
              "      </script>\n",
              "    </div>\n",
              "\n",
              "    </div>\n",
              "  </div>\n"
            ],
            "application/vnd.google.colaboratory.intrinsic+json": {
              "type": "dataframe"
            }
          },
          "metadata": {},
          "execution_count": 4
        }
      ],
      "source": [
        "data.tail()"
      ]
    },
    {
      "cell_type": "code",
      "execution_count": 5,
      "metadata": {
        "colab": {
          "base_uri": "https://localhost:8080/"
        },
        "id": "iFiUJZiGtBIX",
        "outputId": "8b5d1070-e2ae-4442-e062-f980a84f3529"
      },
      "outputs": [
        {
          "output_type": "execute_result",
          "data": {
            "text/plain": [
              "(150000, 21)"
            ]
          },
          "metadata": {},
          "execution_count": 5
        }
      ],
      "source": [
        "data.shape"
      ]
    },
    {
      "cell_type": "code",
      "execution_count": 6,
      "metadata": {
        "colab": {
          "base_uri": "https://localhost:8080/",
          "height": 317
        },
        "id": "9_KxnXvcyDt3",
        "outputId": "8ada992e-99aa-44bc-8361-522a8c2525dd"
      },
      "outputs": [
        {
          "output_type": "execute_result",
          "data": {
            "text/plain": [
              "            Avg VTAT       Avg CTAT  Cancelled Rides by Customer  \\\n",
              "count  139500.000000  102000.000000                      10500.0   \n",
              "mean        8.456352      29.149636                          1.0   \n",
              "std         3.773564       8.902577                          0.0   \n",
              "min         2.000000      10.000000                          1.0   \n",
              "25%         5.300000      21.600000                          1.0   \n",
              "50%         8.300000      28.800000                          1.0   \n",
              "75%        11.300000      36.800000                          1.0   \n",
              "max        20.000000      45.000000                          1.0   \n",
              "\n",
              "       Cancelled Rides by Driver  Incomplete Rides  Booking Value  \\\n",
              "count                    27000.0            9000.0  102000.000000   \n",
              "mean                         1.0               1.0     508.295912   \n",
              "std                          0.0               0.0     395.805774   \n",
              "min                          1.0               1.0      50.000000   \n",
              "25%                          1.0               1.0     234.000000   \n",
              "50%                          1.0               1.0     414.000000   \n",
              "75%                          1.0               1.0     689.000000   \n",
              "max                          1.0               1.0    4277.000000   \n",
              "\n",
              "       Ride Distance  Driver Ratings  Customer Rating  \n",
              "count  102000.000000    93000.000000     93000.000000  \n",
              "mean       24.637012        4.230992         4.404584  \n",
              "std        14.002138        0.436871         0.437819  \n",
              "min         1.000000        3.000000         3.000000  \n",
              "25%        12.460000        4.100000         4.200000  \n",
              "50%        23.720000        4.300000         4.500000  \n",
              "75%        36.820000        4.600000         4.800000  \n",
              "max        50.000000        5.000000         5.000000  "
            ],
            "text/html": [
              "\n",
              "  <div id=\"df-82874743-0af2-49cb-bfba-3534e6e2f8ce\" class=\"colab-df-container\">\n",
              "    <div>\n",
              "<style scoped>\n",
              "    .dataframe tbody tr th:only-of-type {\n",
              "        vertical-align: middle;\n",
              "    }\n",
              "\n",
              "    .dataframe tbody tr th {\n",
              "        vertical-align: top;\n",
              "    }\n",
              "\n",
              "    .dataframe thead th {\n",
              "        text-align: right;\n",
              "    }\n",
              "</style>\n",
              "<table border=\"1\" class=\"dataframe\">\n",
              "  <thead>\n",
              "    <tr style=\"text-align: right;\">\n",
              "      <th></th>\n",
              "      <th>Avg VTAT</th>\n",
              "      <th>Avg CTAT</th>\n",
              "      <th>Cancelled Rides by Customer</th>\n",
              "      <th>Cancelled Rides by Driver</th>\n",
              "      <th>Incomplete Rides</th>\n",
              "      <th>Booking Value</th>\n",
              "      <th>Ride Distance</th>\n",
              "      <th>Driver Ratings</th>\n",
              "      <th>Customer Rating</th>\n",
              "    </tr>\n",
              "  </thead>\n",
              "  <tbody>\n",
              "    <tr>\n",
              "      <th>count</th>\n",
              "      <td>139500.000000</td>\n",
              "      <td>102000.000000</td>\n",
              "      <td>10500.0</td>\n",
              "      <td>27000.0</td>\n",
              "      <td>9000.0</td>\n",
              "      <td>102000.000000</td>\n",
              "      <td>102000.000000</td>\n",
              "      <td>93000.000000</td>\n",
              "      <td>93000.000000</td>\n",
              "    </tr>\n",
              "    <tr>\n",
              "      <th>mean</th>\n",
              "      <td>8.456352</td>\n",
              "      <td>29.149636</td>\n",
              "      <td>1.0</td>\n",
              "      <td>1.0</td>\n",
              "      <td>1.0</td>\n",
              "      <td>508.295912</td>\n",
              "      <td>24.637012</td>\n",
              "      <td>4.230992</td>\n",
              "      <td>4.404584</td>\n",
              "    </tr>\n",
              "    <tr>\n",
              "      <th>std</th>\n",
              "      <td>3.773564</td>\n",
              "      <td>8.902577</td>\n",
              "      <td>0.0</td>\n",
              "      <td>0.0</td>\n",
              "      <td>0.0</td>\n",
              "      <td>395.805774</td>\n",
              "      <td>14.002138</td>\n",
              "      <td>0.436871</td>\n",
              "      <td>0.437819</td>\n",
              "    </tr>\n",
              "    <tr>\n",
              "      <th>min</th>\n",
              "      <td>2.000000</td>\n",
              "      <td>10.000000</td>\n",
              "      <td>1.0</td>\n",
              "      <td>1.0</td>\n",
              "      <td>1.0</td>\n",
              "      <td>50.000000</td>\n",
              "      <td>1.000000</td>\n",
              "      <td>3.000000</td>\n",
              "      <td>3.000000</td>\n",
              "    </tr>\n",
              "    <tr>\n",
              "      <th>25%</th>\n",
              "      <td>5.300000</td>\n",
              "      <td>21.600000</td>\n",
              "      <td>1.0</td>\n",
              "      <td>1.0</td>\n",
              "      <td>1.0</td>\n",
              "      <td>234.000000</td>\n",
              "      <td>12.460000</td>\n",
              "      <td>4.100000</td>\n",
              "      <td>4.200000</td>\n",
              "    </tr>\n",
              "    <tr>\n",
              "      <th>50%</th>\n",
              "      <td>8.300000</td>\n",
              "      <td>28.800000</td>\n",
              "      <td>1.0</td>\n",
              "      <td>1.0</td>\n",
              "      <td>1.0</td>\n",
              "      <td>414.000000</td>\n",
              "      <td>23.720000</td>\n",
              "      <td>4.300000</td>\n",
              "      <td>4.500000</td>\n",
              "    </tr>\n",
              "    <tr>\n",
              "      <th>75%</th>\n",
              "      <td>11.300000</td>\n",
              "      <td>36.800000</td>\n",
              "      <td>1.0</td>\n",
              "      <td>1.0</td>\n",
              "      <td>1.0</td>\n",
              "      <td>689.000000</td>\n",
              "      <td>36.820000</td>\n",
              "      <td>4.600000</td>\n",
              "      <td>4.800000</td>\n",
              "    </tr>\n",
              "    <tr>\n",
              "      <th>max</th>\n",
              "      <td>20.000000</td>\n",
              "      <td>45.000000</td>\n",
              "      <td>1.0</td>\n",
              "      <td>1.0</td>\n",
              "      <td>1.0</td>\n",
              "      <td>4277.000000</td>\n",
              "      <td>50.000000</td>\n",
              "      <td>5.000000</td>\n",
              "      <td>5.000000</td>\n",
              "    </tr>\n",
              "  </tbody>\n",
              "</table>\n",
              "</div>\n",
              "    <div class=\"colab-df-buttons\">\n",
              "\n",
              "  <div class=\"colab-df-container\">\n",
              "    <button class=\"colab-df-convert\" onclick=\"convertToInteractive('df-82874743-0af2-49cb-bfba-3534e6e2f8ce')\"\n",
              "            title=\"Convert this dataframe to an interactive table.\"\n",
              "            style=\"display:none;\">\n",
              "\n",
              "  <svg xmlns=\"http://www.w3.org/2000/svg\" height=\"24px\" viewBox=\"0 -960 960 960\">\n",
              "    <path d=\"M120-120v-720h720v720H120Zm60-500h600v-160H180v160Zm220 220h160v-160H400v160Zm0 220h160v-160H400v160ZM180-400h160v-160H180v160Zm440 0h160v-160H620v160ZM180-180h160v-160H180v160Zm440 0h160v-160H620v160Z\"/>\n",
              "  </svg>\n",
              "    </button>\n",
              "\n",
              "  <style>\n",
              "    .colab-df-container {\n",
              "      display:flex;\n",
              "      gap: 12px;\n",
              "    }\n",
              "\n",
              "    .colab-df-convert {\n",
              "      background-color: #E8F0FE;\n",
              "      border: none;\n",
              "      border-radius: 50%;\n",
              "      cursor: pointer;\n",
              "      display: none;\n",
              "      fill: #1967D2;\n",
              "      height: 32px;\n",
              "      padding: 0 0 0 0;\n",
              "      width: 32px;\n",
              "    }\n",
              "\n",
              "    .colab-df-convert:hover {\n",
              "      background-color: #E2EBFA;\n",
              "      box-shadow: 0px 1px 2px rgba(60, 64, 67, 0.3), 0px 1px 3px 1px rgba(60, 64, 67, 0.15);\n",
              "      fill: #174EA6;\n",
              "    }\n",
              "\n",
              "    .colab-df-buttons div {\n",
              "      margin-bottom: 4px;\n",
              "    }\n",
              "\n",
              "    [theme=dark] .colab-df-convert {\n",
              "      background-color: #3B4455;\n",
              "      fill: #D2E3FC;\n",
              "    }\n",
              "\n",
              "    [theme=dark] .colab-df-convert:hover {\n",
              "      background-color: #434B5C;\n",
              "      box-shadow: 0px 1px 3px 1px rgba(0, 0, 0, 0.15);\n",
              "      filter: drop-shadow(0px 1px 2px rgba(0, 0, 0, 0.3));\n",
              "      fill: #FFFFFF;\n",
              "    }\n",
              "  </style>\n",
              "\n",
              "    <script>\n",
              "      const buttonEl =\n",
              "        document.querySelector('#df-82874743-0af2-49cb-bfba-3534e6e2f8ce button.colab-df-convert');\n",
              "      buttonEl.style.display =\n",
              "        google.colab.kernel.accessAllowed ? 'block' : 'none';\n",
              "\n",
              "      async function convertToInteractive(key) {\n",
              "        const element = document.querySelector('#df-82874743-0af2-49cb-bfba-3534e6e2f8ce');\n",
              "        const dataTable =\n",
              "          await google.colab.kernel.invokeFunction('convertToInteractive',\n",
              "                                                    [key], {});\n",
              "        if (!dataTable) return;\n",
              "\n",
              "        const docLinkHtml = 'Like what you see? Visit the ' +\n",
              "          '<a target=\"_blank\" href=https://colab.research.google.com/notebooks/data_table.ipynb>data table notebook</a>'\n",
              "          + ' to learn more about interactive tables.';\n",
              "        element.innerHTML = '';\n",
              "        dataTable['output_type'] = 'display_data';\n",
              "        await google.colab.output.renderOutput(dataTable, element);\n",
              "        const docLink = document.createElement('div');\n",
              "        docLink.innerHTML = docLinkHtml;\n",
              "        element.appendChild(docLink);\n",
              "      }\n",
              "    </script>\n",
              "  </div>\n",
              "\n",
              "\n",
              "    <div id=\"df-77b276d4-9bda-4ca6-b29c-978583516e18\">\n",
              "      <button class=\"colab-df-quickchart\" onclick=\"quickchart('df-77b276d4-9bda-4ca6-b29c-978583516e18')\"\n",
              "                title=\"Suggest charts\"\n",
              "                style=\"display:none;\">\n",
              "\n",
              "<svg xmlns=\"http://www.w3.org/2000/svg\" height=\"24px\"viewBox=\"0 0 24 24\"\n",
              "     width=\"24px\">\n",
              "    <g>\n",
              "        <path d=\"M19 3H5c-1.1 0-2 .9-2 2v14c0 1.1.9 2 2 2h14c1.1 0 2-.9 2-2V5c0-1.1-.9-2-2-2zM9 17H7v-7h2v7zm4 0h-2V7h2v10zm4 0h-2v-4h2v4z\"/>\n",
              "    </g>\n",
              "</svg>\n",
              "      </button>\n",
              "\n",
              "<style>\n",
              "  .colab-df-quickchart {\n",
              "      --bg-color: #E8F0FE;\n",
              "      --fill-color: #1967D2;\n",
              "      --hover-bg-color: #E2EBFA;\n",
              "      --hover-fill-color: #174EA6;\n",
              "      --disabled-fill-color: #AAA;\n",
              "      --disabled-bg-color: #DDD;\n",
              "  }\n",
              "\n",
              "  [theme=dark] .colab-df-quickchart {\n",
              "      --bg-color: #3B4455;\n",
              "      --fill-color: #D2E3FC;\n",
              "      --hover-bg-color: #434B5C;\n",
              "      --hover-fill-color: #FFFFFF;\n",
              "      --disabled-bg-color: #3B4455;\n",
              "      --disabled-fill-color: #666;\n",
              "  }\n",
              "\n",
              "  .colab-df-quickchart {\n",
              "    background-color: var(--bg-color);\n",
              "    border: none;\n",
              "    border-radius: 50%;\n",
              "    cursor: pointer;\n",
              "    display: none;\n",
              "    fill: var(--fill-color);\n",
              "    height: 32px;\n",
              "    padding: 0;\n",
              "    width: 32px;\n",
              "  }\n",
              "\n",
              "  .colab-df-quickchart:hover {\n",
              "    background-color: var(--hover-bg-color);\n",
              "    box-shadow: 0 1px 2px rgba(60, 64, 67, 0.3), 0 1px 3px 1px rgba(60, 64, 67, 0.15);\n",
              "    fill: var(--button-hover-fill-color);\n",
              "  }\n",
              "\n",
              "  .colab-df-quickchart-complete:disabled,\n",
              "  .colab-df-quickchart-complete:disabled:hover {\n",
              "    background-color: var(--disabled-bg-color);\n",
              "    fill: var(--disabled-fill-color);\n",
              "    box-shadow: none;\n",
              "  }\n",
              "\n",
              "  .colab-df-spinner {\n",
              "    border: 2px solid var(--fill-color);\n",
              "    border-color: transparent;\n",
              "    border-bottom-color: var(--fill-color);\n",
              "    animation:\n",
              "      spin 1s steps(1) infinite;\n",
              "  }\n",
              "\n",
              "  @keyframes spin {\n",
              "    0% {\n",
              "      border-color: transparent;\n",
              "      border-bottom-color: var(--fill-color);\n",
              "      border-left-color: var(--fill-color);\n",
              "    }\n",
              "    20% {\n",
              "      border-color: transparent;\n",
              "      border-left-color: var(--fill-color);\n",
              "      border-top-color: var(--fill-color);\n",
              "    }\n",
              "    30% {\n",
              "      border-color: transparent;\n",
              "      border-left-color: var(--fill-color);\n",
              "      border-top-color: var(--fill-color);\n",
              "      border-right-color: var(--fill-color);\n",
              "    }\n",
              "    40% {\n",
              "      border-color: transparent;\n",
              "      border-right-color: var(--fill-color);\n",
              "      border-top-color: var(--fill-color);\n",
              "    }\n",
              "    60% {\n",
              "      border-color: transparent;\n",
              "      border-right-color: var(--fill-color);\n",
              "    }\n",
              "    80% {\n",
              "      border-color: transparent;\n",
              "      border-right-color: var(--fill-color);\n",
              "      border-bottom-color: var(--fill-color);\n",
              "    }\n",
              "    90% {\n",
              "      border-color: transparent;\n",
              "      border-bottom-color: var(--fill-color);\n",
              "    }\n",
              "  }\n",
              "</style>\n",
              "\n",
              "      <script>\n",
              "        async function quickchart(key) {\n",
              "          const quickchartButtonEl =\n",
              "            document.querySelector('#' + key + ' button');\n",
              "          quickchartButtonEl.disabled = true;  // To prevent multiple clicks.\n",
              "          quickchartButtonEl.classList.add('colab-df-spinner');\n",
              "          try {\n",
              "            const charts = await google.colab.kernel.invokeFunction(\n",
              "                'suggestCharts', [key], {});\n",
              "          } catch (error) {\n",
              "            console.error('Error during call to suggestCharts:', error);\n",
              "          }\n",
              "          quickchartButtonEl.classList.remove('colab-df-spinner');\n",
              "          quickchartButtonEl.classList.add('colab-df-quickchart-complete');\n",
              "        }\n",
              "        (() => {\n",
              "          let quickchartButtonEl =\n",
              "            document.querySelector('#df-77b276d4-9bda-4ca6-b29c-978583516e18 button');\n",
              "          quickchartButtonEl.style.display =\n",
              "            google.colab.kernel.accessAllowed ? 'block' : 'none';\n",
              "        })();\n",
              "      </script>\n",
              "    </div>\n",
              "\n",
              "    </div>\n",
              "  </div>\n"
            ],
            "application/vnd.google.colaboratory.intrinsic+json": {
              "type": "dataframe",
              "summary": "{\n  \"name\": \"data\",\n  \"rows\": 8,\n  \"fields\": [\n    {\n      \"column\": \"Avg VTAT\",\n      \"properties\": {\n        \"dtype\": \"number\",\n        \"std\": 49317.71178732395,\n        \"min\": 2.0,\n        \"max\": 139500.0,\n        \"num_unique_values\": 8,\n        \"samples\": [\n          8.456351971326164,\n          8.3,\n          139500.0\n        ],\n        \"semantic_type\": \"\",\n        \"description\": \"\"\n      }\n    },\n    {\n      \"column\": \"Avg CTAT\",\n      \"properties\": {\n        \"dtype\": \"number\",\n        \"std\": 36053.34383421101,\n        \"min\": 8.902577244373434,\n        \"max\": 102000.0,\n        \"num_unique_values\": 8,\n        \"samples\": [\n          29.149636274509803,\n          28.8,\n          102000.0\n        ],\n        \"semantic_type\": \"\",\n        \"description\": \"\"\n      }\n    },\n    {\n      \"column\": \"Cancelled Rides by Customer\",\n      \"properties\": {\n        \"dtype\": \"number\",\n        \"std\": 3712.0075719596416,\n        \"min\": 0.0,\n        \"max\": 10500.0,\n        \"num_unique_values\": 3,\n        \"samples\": [\n          10500.0,\n          1.0,\n          0.0\n        ],\n        \"semantic_type\": \"\",\n        \"description\": \"\"\n      }\n    },\n    {\n      \"column\": \"Cancelled Rides by Driver\",\n      \"properties\": {\n        \"dtype\": \"number\",\n        \"std\": 9545.638506668896,\n        \"min\": 0.0,\n        \"max\": 27000.0,\n        \"num_unique_values\": 3,\n        \"samples\": [\n          27000.0,\n          1.0,\n          0.0\n        ],\n        \"semantic_type\": \"\",\n        \"description\": \"\"\n      }\n    },\n    {\n      \"column\": \"Incomplete Rides\",\n      \"properties\": {\n        \"dtype\": \"number\",\n        \"std\": 3181.6774888189316,\n        \"min\": 0.0,\n        \"max\": 9000.0,\n        \"num_unique_values\": 3,\n        \"samples\": [\n          9000.0,\n          1.0,\n          0.0\n        ],\n        \"semantic_type\": \"\",\n        \"description\": \"\"\n      }\n    },\n    {\n      \"column\": \"Booking Value\",\n      \"properties\": {\n        \"dtype\": \"number\",\n        \"std\": 35757.18117882523,\n        \"min\": 50.0,\n        \"max\": 102000.0,\n        \"num_unique_values\": 8,\n        \"samples\": [\n          508.29591176470586,\n          414.0,\n          102000.0\n        ],\n        \"semantic_type\": \"\",\n        \"description\": \"\"\n      }\n    },\n    {\n      \"column\": \"Ride Distance\",\n      \"properties\": {\n        \"dtype\": \"number\",\n        \"std\": 36054.23449052313,\n        \"min\": 1.0,\n        \"max\": 102000.0,\n        \"num_unique_values\": 8,\n        \"samples\": [\n          24.637011666666666,\n          23.72,\n          102000.0\n        ],\n        \"semantic_type\": \"\",\n        \"description\": \"\"\n      }\n    },\n    {\n      \"column\": \"Driver Ratings\",\n      \"properties\": {\n        \"dtype\": \"number\",\n        \"std\": 32879.16893362422,\n        \"min\": 0.43687146865278875,\n        \"max\": 93000.0,\n        \"num_unique_values\": 8,\n        \"samples\": [\n          4.230992473118278,\n          4.3,\n          93000.0\n        ],\n        \"semantic_type\": \"\",\n        \"description\": \"\"\n      }\n    },\n    {\n      \"column\": \"Customer Rating\",\n      \"properties\": {\n        \"dtype\": \"number\",\n        \"std\": 32879.13486635827,\n        \"min\": 0.4378187328186964,\n        \"max\": 93000.0,\n        \"num_unique_values\": 8,\n        \"samples\": [\n          4.404583870967742,\n          4.5,\n          93000.0\n        ],\n        \"semantic_type\": \"\",\n        \"description\": \"\"\n      }\n    }\n  ]\n}"
            }
          },
          "metadata": {},
          "execution_count": 6
        }
      ],
      "source": [
        "data.describe()"
      ]
    },
    {
      "cell_type": "code",
      "execution_count": 7,
      "metadata": {
        "colab": {
          "base_uri": "https://localhost:8080/"
        },
        "id": "V4fd10EBrBap",
        "outputId": "f5b1d5b2-a9c6-4a62-cfea-80fa7faab099"
      },
      "outputs": [
        {
          "output_type": "stream",
          "name": "stdout",
          "text": [
            "<class 'pandas.core.frame.DataFrame'>\n",
            "RangeIndex: 150000 entries, 0 to 149999\n",
            "Data columns (total 21 columns):\n",
            " #   Column                             Non-Null Count   Dtype  \n",
            "---  ------                             --------------   -----  \n",
            " 0   Date                               150000 non-null  object \n",
            " 1   Time                               150000 non-null  object \n",
            " 2   Booking ID                         150000 non-null  object \n",
            " 3   Booking Status                     150000 non-null  object \n",
            " 4   Customer ID                        150000 non-null  object \n",
            " 5   Vehicle Type                       150000 non-null  object \n",
            " 6   Pickup Location                    150000 non-null  object \n",
            " 7   Drop Location                      150000 non-null  object \n",
            " 8   Avg VTAT                           139500 non-null  float64\n",
            " 9   Avg CTAT                           102000 non-null  float64\n",
            " 10  Cancelled Rides by Customer        10500 non-null   float64\n",
            " 11  Reason for cancelling by Customer  10500 non-null   object \n",
            " 12  Cancelled Rides by Driver          27000 non-null   float64\n",
            " 13  Driver Cancellation Reason         27000 non-null   object \n",
            " 14  Incomplete Rides                   9000 non-null    float64\n",
            " 15  Incomplete Rides Reason            9000 non-null    object \n",
            " 16  Booking Value                      102000 non-null  float64\n",
            " 17  Ride Distance                      102000 non-null  float64\n",
            " 18  Driver Ratings                     93000 non-null   float64\n",
            " 19  Customer Rating                    93000 non-null   float64\n",
            " 20  Payment Method                     102000 non-null  object \n",
            "dtypes: float64(9), object(12)\n",
            "memory usage: 24.0+ MB\n"
          ]
        }
      ],
      "source": [
        "data.info()"
      ]
    },
    {
      "cell_type": "markdown",
      "metadata": {
        "id": "Wfm5orMhyTj3"
      },
      "source": [
        "# Data Cleaning"
      ]
    },
    {
      "cell_type": "markdown",
      "metadata": {
        "id": "XuUefNzwyX0d"
      },
      "source": [
        "## Duplication Check"
      ]
    },
    {
      "cell_type": "code",
      "execution_count": 8,
      "metadata": {
        "id": "EJPoiBSDyS-8"
      },
      "outputs": [],
      "source": [
        "## Booking ID is my Primary Key\n",
        "data= data.drop(data[data['Booking ID'].duplicated(keep= 'first')].index)"
      ]
    },
    {
      "cell_type": "markdown",
      "metadata": {
        "id": "ea9VgH73yrD_"
      },
      "source": [
        "## Filling Nulls"
      ]
    },
    {
      "cell_type": "code",
      "execution_count": 9,
      "metadata": {
        "colab": {
          "base_uri": "https://localhost:8080/",
          "height": 743
        },
        "id": "8mxwr7m6rBSP",
        "outputId": "5e2e042a-8901-4512-ba5a-b6c06a80264b"
      },
      "outputs": [
        {
          "output_type": "execute_result",
          "data": {
            "text/plain": [
              "Incomplete Rides Reason              139840\n",
              "Incomplete Rides                     139840\n",
              "Reason for cancelling by Customer    138365\n",
              "Cancelled Rides by Customer          138365\n",
              "Cancelled Rides by Driver            121978\n",
              "Driver Cancellation Reason           121978\n",
              "Driver Ratings                        56519\n",
              "Customer Rating                       56519\n",
              "Avg CTAT                              47592\n",
              "Ride Distance                         47592\n",
              "Booking Value                         47592\n",
              "Payment Method                        47592\n",
              "Avg VTAT                              10401\n",
              "Customer ID                               0\n",
              "Booking Status                            0\n",
              "Booking ID                                0\n",
              "Time                                      0\n",
              "Date                                      0\n",
              "Pickup Location                           0\n",
              "Drop Location                             0\n",
              "Vehicle Type                              0\n",
              "dtype: int64"
            ],
            "text/html": [
              "<div>\n",
              "<style scoped>\n",
              "    .dataframe tbody tr th:only-of-type {\n",
              "        vertical-align: middle;\n",
              "    }\n",
              "\n",
              "    .dataframe tbody tr th {\n",
              "        vertical-align: top;\n",
              "    }\n",
              "\n",
              "    .dataframe thead th {\n",
              "        text-align: right;\n",
              "    }\n",
              "</style>\n",
              "<table border=\"1\" class=\"dataframe\">\n",
              "  <thead>\n",
              "    <tr style=\"text-align: right;\">\n",
              "      <th></th>\n",
              "      <th>0</th>\n",
              "    </tr>\n",
              "  </thead>\n",
              "  <tbody>\n",
              "    <tr>\n",
              "      <th>Incomplete Rides Reason</th>\n",
              "      <td>139840</td>\n",
              "    </tr>\n",
              "    <tr>\n",
              "      <th>Incomplete Rides</th>\n",
              "      <td>139840</td>\n",
              "    </tr>\n",
              "    <tr>\n",
              "      <th>Reason for cancelling by Customer</th>\n",
              "      <td>138365</td>\n",
              "    </tr>\n",
              "    <tr>\n",
              "      <th>Cancelled Rides by Customer</th>\n",
              "      <td>138365</td>\n",
              "    </tr>\n",
              "    <tr>\n",
              "      <th>Cancelled Rides by Driver</th>\n",
              "      <td>121978</td>\n",
              "    </tr>\n",
              "    <tr>\n",
              "      <th>Driver Cancellation Reason</th>\n",
              "      <td>121978</td>\n",
              "    </tr>\n",
              "    <tr>\n",
              "      <th>Driver Ratings</th>\n",
              "      <td>56519</td>\n",
              "    </tr>\n",
              "    <tr>\n",
              "      <th>Customer Rating</th>\n",
              "      <td>56519</td>\n",
              "    </tr>\n",
              "    <tr>\n",
              "      <th>Avg CTAT</th>\n",
              "      <td>47592</td>\n",
              "    </tr>\n",
              "    <tr>\n",
              "      <th>Ride Distance</th>\n",
              "      <td>47592</td>\n",
              "    </tr>\n",
              "    <tr>\n",
              "      <th>Booking Value</th>\n",
              "      <td>47592</td>\n",
              "    </tr>\n",
              "    <tr>\n",
              "      <th>Payment Method</th>\n",
              "      <td>47592</td>\n",
              "    </tr>\n",
              "    <tr>\n",
              "      <th>Avg VTAT</th>\n",
              "      <td>10401</td>\n",
              "    </tr>\n",
              "    <tr>\n",
              "      <th>Customer ID</th>\n",
              "      <td>0</td>\n",
              "    </tr>\n",
              "    <tr>\n",
              "      <th>Booking Status</th>\n",
              "      <td>0</td>\n",
              "    </tr>\n",
              "    <tr>\n",
              "      <th>Booking ID</th>\n",
              "      <td>0</td>\n",
              "    </tr>\n",
              "    <tr>\n",
              "      <th>Time</th>\n",
              "      <td>0</td>\n",
              "    </tr>\n",
              "    <tr>\n",
              "      <th>Date</th>\n",
              "      <td>0</td>\n",
              "    </tr>\n",
              "    <tr>\n",
              "      <th>Pickup Location</th>\n",
              "      <td>0</td>\n",
              "    </tr>\n",
              "    <tr>\n",
              "      <th>Drop Location</th>\n",
              "      <td>0</td>\n",
              "    </tr>\n",
              "    <tr>\n",
              "      <th>Vehicle Type</th>\n",
              "      <td>0</td>\n",
              "    </tr>\n",
              "  </tbody>\n",
              "</table>\n",
              "</div><br><label><b>dtype:</b> int64</label>"
            ]
          },
          "metadata": {},
          "execution_count": 9
        }
      ],
      "source": [
        "data.isnull().sum().sort_values(ascending=False)"
      ]
    },
    {
      "cell_type": "code",
      "execution_count": 10,
      "metadata": {
        "colab": {
          "base_uri": "https://localhost:8080/"
        },
        "id": "jUUTilQYOyll",
        "outputId": "d5d3def9-6416-4374-c2b7-530d37ca2928"
      },
      "outputs": [
        {
          "output_type": "execute_result",
          "data": {
            "text/plain": [
              "Index(['Date', 'Time', 'Booking ID', 'Booking Status', 'Customer ID',\n",
              "       'Vehicle Type', 'Pickup Location', 'Drop Location', 'Avg VTAT',\n",
              "       'Avg CTAT', 'Cancelled Rides by Customer',\n",
              "       'Reason for cancelling by Customer', 'Cancelled Rides by Driver',\n",
              "       'Driver Cancellation Reason', 'Incomplete Rides',\n",
              "       'Incomplete Rides Reason', 'Booking Value', 'Ride Distance',\n",
              "       'Driver Ratings', 'Customer Rating', 'Payment Method'],\n",
              "      dtype='object')"
            ]
          },
          "metadata": {},
          "execution_count": 10
        }
      ],
      "source": [
        "data.columns"
      ]
    },
    {
      "cell_type": "markdown",
      "metadata": {
        "id": "0Fi8YOexO45j"
      },
      "source": [
        "#### Date and Time"
      ]
    },
    {
      "cell_type": "code",
      "execution_count": 11,
      "metadata": {
        "id": "PM58glowrBIU"
      },
      "outputs": [],
      "source": [
        "data['Date'] = pd.to_datetime(data['Date'])\n",
        "data['Time'] = pd.to_datetime(data['Time'], format='%H:%M:%S').dt.time"
      ]
    },
    {
      "cell_type": "code",
      "execution_count": 12,
      "metadata": {
        "id": "BPmcwGiAt-ad"
      },
      "outputs": [],
      "source": [
        "data['Complete Date Time'] = pd.to_datetime(data['Date'].astype(str) + ' ' + data['Time'].astype(str))"
      ]
    },
    {
      "cell_type": "code",
      "execution_count": 13,
      "metadata": {
        "id": "t_3_0WTTt-XJ"
      },
      "outputs": [],
      "source": [
        "data['Month'] = data['Complete Date Time'].dt.month\n",
        "data['Day'] = data['Complete Date Time'].dt.day\n",
        "data['Hour'] = data['Complete Date Time'].dt.hour\n",
        "data['Is Weekend'] = (data['Complete Date Time'].dt.dayofweek >= 5).astype(int)\n",
        "data['time_of_day'] = pd.cut(data['Hour'], bins=[0, 6, 12, 18, 24], labels=['Night', 'Morning', 'Afternoon', 'Evening'], include_lowest=True)"
      ]
    },
    {
      "cell_type": "code",
      "execution_count": 14,
      "metadata": {
        "id": "_DWFlO_VFUe4"
      },
      "outputs": [],
      "source": [
        "data.drop(columns=['Date','Time','Complete Date Time'],axis=1,inplace=True)"
      ]
    },
    {
      "cell_type": "markdown",
      "metadata": {
        "id": "mv0NQ9iNQJbe"
      },
      "source": [
        "#### Booking ID"
      ]
    },
    {
      "cell_type": "code",
      "execution_count": 15,
      "metadata": {
        "colab": {
          "base_uri": "https://localhost:8080/"
        },
        "id": "FhwxhyNFZzxp",
        "outputId": "d93c932c-b027-42cc-9fcd-a7e4c7716432"
      },
      "outputs": [
        {
          "output_type": "execute_result",
          "data": {
            "text/plain": [
              "(148767, 24)"
            ]
          },
          "metadata": {},
          "execution_count": 15
        }
      ],
      "source": [
        "data.shape"
      ]
    },
    {
      "cell_type": "code",
      "execution_count": 16,
      "metadata": {
        "colab": {
          "base_uri": "https://localhost:8080/"
        },
        "id": "HVEhvtJJZfs-",
        "outputId": "e7d55e7a-a1b9-405b-ca81-f101c4b879d3"
      },
      "outputs": [
        {
          "output_type": "execute_result",
          "data": {
            "text/plain": [
              "148767"
            ]
          },
          "metadata": {},
          "execution_count": 16
        }
      ],
      "source": [
        "len(data['Booking ID'].unique())"
      ]
    },
    {
      "cell_type": "code",
      "execution_count": 17,
      "metadata": {
        "colab": {
          "base_uri": "https://localhost:8080/"
        },
        "id": "dgTQr-zWZSpg",
        "outputId": "db1f5000-8549-45cc-cad1-4039849fa888"
      },
      "outputs": [
        {
          "output_type": "execute_result",
          "data": {
            "text/plain": [
              "np.int64(0)"
            ]
          },
          "metadata": {},
          "execution_count": 17
        }
      ],
      "source": [
        "data['Booking ID'].isnull().sum()"
      ]
    },
    {
      "cell_type": "markdown",
      "metadata": {
        "id": "N0ejLo9gXMOg"
      },
      "source": [
        "#### Booking Status"
      ]
    },
    {
      "cell_type": "code",
      "execution_count": 18,
      "metadata": {
        "colab": {
          "base_uri": "https://localhost:8080/"
        },
        "id": "1N5uxGIdXQlX",
        "outputId": "6d14a1d9-8eba-474d-cdc9-e0641dea1c9a"
      },
      "outputs": [
        {
          "output_type": "execute_result",
          "data": {
            "text/plain": [
              "array(['No Driver Found', 'Incomplete', 'Completed',\n",
              "       'Cancelled by Driver', 'Cancelled by Customer'], dtype=object)"
            ]
          },
          "metadata": {},
          "execution_count": 18
        }
      ],
      "source": [
        "data['Booking Status'].unique()"
      ]
    },
    {
      "cell_type": "code",
      "execution_count": 19,
      "metadata": {
        "colab": {
          "base_uri": "https://localhost:8080/",
          "height": 272
        },
        "id": "g2TXidr7XT6x",
        "outputId": "172c8e3e-7cb9-4ae6-c9b7-18c1be99c0b8"
      },
      "outputs": [
        {
          "output_type": "execute_result",
          "data": {
            "text/plain": [
              "Booking Status\n",
              "Completed                92248\n",
              "Cancelled by Driver      26789\n",
              "Cancelled by Customer    10402\n",
              "No Driver Found          10401\n",
              "Incomplete                8927\n",
              "Name: count, dtype: int64"
            ],
            "text/html": [
              "<div>\n",
              "<style scoped>\n",
              "    .dataframe tbody tr th:only-of-type {\n",
              "        vertical-align: middle;\n",
              "    }\n",
              "\n",
              "    .dataframe tbody tr th {\n",
              "        vertical-align: top;\n",
              "    }\n",
              "\n",
              "    .dataframe thead th {\n",
              "        text-align: right;\n",
              "    }\n",
              "</style>\n",
              "<table border=\"1\" class=\"dataframe\">\n",
              "  <thead>\n",
              "    <tr style=\"text-align: right;\">\n",
              "      <th></th>\n",
              "      <th>count</th>\n",
              "    </tr>\n",
              "    <tr>\n",
              "      <th>Booking Status</th>\n",
              "      <th></th>\n",
              "    </tr>\n",
              "  </thead>\n",
              "  <tbody>\n",
              "    <tr>\n",
              "      <th>Completed</th>\n",
              "      <td>92248</td>\n",
              "    </tr>\n",
              "    <tr>\n",
              "      <th>Cancelled by Driver</th>\n",
              "      <td>26789</td>\n",
              "    </tr>\n",
              "    <tr>\n",
              "      <th>Cancelled by Customer</th>\n",
              "      <td>10402</td>\n",
              "    </tr>\n",
              "    <tr>\n",
              "      <th>No Driver Found</th>\n",
              "      <td>10401</td>\n",
              "    </tr>\n",
              "    <tr>\n",
              "      <th>Incomplete</th>\n",
              "      <td>8927</td>\n",
              "    </tr>\n",
              "  </tbody>\n",
              "</table>\n",
              "</div><br><label><b>dtype:</b> int64</label>"
            ]
          },
          "metadata": {},
          "execution_count": 19
        }
      ],
      "source": [
        "data['Booking Status'].value_counts().sort_values(ascending= False)"
      ]
    },
    {
      "cell_type": "code",
      "execution_count": 20,
      "metadata": {
        "id": "x8zIYTPyrTkD"
      },
      "outputs": [],
      "source": [
        "completed_status= data[data['Booking Status'] == 'Completed']\n",
        "incomplete_status= data[data['Booking Status'] != 'Completed']\n",
        "driver_cancelled_status= data[data['Booking Status'] == 'Cancelled by Driver']\n",
        "customer_cancelled_status= data[data['Booking Status'] == 'Cancelled by Customer']\n",
        "failed_status= data[data['Booking Status'] == 'Incomplete']"
      ]
    },
    {
      "cell_type": "markdown",
      "metadata": {
        "id": "ir0rS7TLYGgq"
      },
      "source": [
        "#### Vehicle Type"
      ]
    },
    {
      "cell_type": "code",
      "execution_count": 21,
      "metadata": {
        "colab": {
          "base_uri": "https://localhost:8080/"
        },
        "id": "Jnr3n5RqYH8v",
        "outputId": "fae8380e-a211-4b25-c97a-72d7178209b9"
      },
      "outputs": [
        {
          "output_type": "execute_result",
          "data": {
            "text/plain": [
              "array(['eBike', 'Go Sedan', 'Auto', 'Premier Sedan', 'Bike', 'Go Mini',\n",
              "       'Uber XL'], dtype=object)"
            ]
          },
          "metadata": {},
          "execution_count": 21
        }
      ],
      "source": [
        "data['Vehicle Type'].unique()"
      ]
    },
    {
      "cell_type": "code",
      "execution_count": 22,
      "metadata": {
        "colab": {
          "base_uri": "https://localhost:8080/",
          "height": 335
        },
        "id": "BIo1sxnRYPRX",
        "outputId": "e24b4546-bf83-4a6f-d0e2-b939f3637b51"
      },
      "outputs": [
        {
          "output_type": "execute_result",
          "data": {
            "text/plain": [
              "Vehicle Type\n",
              "Auto             37129\n",
              "Go Mini          29556\n",
              "Go Sedan         26934\n",
              "Bike             22318\n",
              "Premier Sedan    17950\n",
              "eBike            10458\n",
              "Uber XL           4422\n",
              "Name: count, dtype: int64"
            ],
            "text/html": [
              "<div>\n",
              "<style scoped>\n",
              "    .dataframe tbody tr th:only-of-type {\n",
              "        vertical-align: middle;\n",
              "    }\n",
              "\n",
              "    .dataframe tbody tr th {\n",
              "        vertical-align: top;\n",
              "    }\n",
              "\n",
              "    .dataframe thead th {\n",
              "        text-align: right;\n",
              "    }\n",
              "</style>\n",
              "<table border=\"1\" class=\"dataframe\">\n",
              "  <thead>\n",
              "    <tr style=\"text-align: right;\">\n",
              "      <th></th>\n",
              "      <th>count</th>\n",
              "    </tr>\n",
              "    <tr>\n",
              "      <th>Vehicle Type</th>\n",
              "      <th></th>\n",
              "    </tr>\n",
              "  </thead>\n",
              "  <tbody>\n",
              "    <tr>\n",
              "      <th>Auto</th>\n",
              "      <td>37129</td>\n",
              "    </tr>\n",
              "    <tr>\n",
              "      <th>Go Mini</th>\n",
              "      <td>29556</td>\n",
              "    </tr>\n",
              "    <tr>\n",
              "      <th>Go Sedan</th>\n",
              "      <td>26934</td>\n",
              "    </tr>\n",
              "    <tr>\n",
              "      <th>Bike</th>\n",
              "      <td>22318</td>\n",
              "    </tr>\n",
              "    <tr>\n",
              "      <th>Premier Sedan</th>\n",
              "      <td>17950</td>\n",
              "    </tr>\n",
              "    <tr>\n",
              "      <th>eBike</th>\n",
              "      <td>10458</td>\n",
              "    </tr>\n",
              "    <tr>\n",
              "      <th>Uber XL</th>\n",
              "      <td>4422</td>\n",
              "    </tr>\n",
              "  </tbody>\n",
              "</table>\n",
              "</div><br><label><b>dtype:</b> int64</label>"
            ]
          },
          "metadata": {},
          "execution_count": 22
        }
      ],
      "source": [
        "data['Vehicle Type'].value_counts().sort_values(ascending= False)"
      ]
    },
    {
      "cell_type": "markdown",
      "metadata": {
        "id": "LUCjC0w5RB7D"
      },
      "source": [
        "#### Customer Rating"
      ]
    },
    {
      "cell_type": "code",
      "execution_count": 23,
      "metadata": {
        "colab": {
          "base_uri": "https://localhost:8080/"
        },
        "id": "ghYcnN04QRmj",
        "outputId": "ca2cb0b8-1867-45d1-dd24-5410cd163932"
      },
      "outputs": [
        {
          "output_type": "execute_result",
          "data": {
            "text/plain": [
              "array([nan, 4.9, 5. , 4.3, 4.6, 4.1, 4.2, 4.7, 4.4, 3.6, 4.5, 3.3, 3.8,\n",
              "       3.7, 4.8, 3.9, 3.4, 3.2, 3.1, 4. , 3. , 3.5])"
            ]
          },
          "metadata": {},
          "execution_count": 23
        }
      ],
      "source": [
        "data['Customer Rating'].unique()"
      ]
    },
    {
      "cell_type": "code",
      "execution_count": 24,
      "metadata": {
        "colab": {
          "base_uri": "https://localhost:8080/"
        },
        "id": "nCQjcZMRrTkd",
        "outputId": "e9f44708-ff4f-45ee-9203-d45c3b27f4fc"
      },
      "outputs": [
        {
          "output_type": "execute_result",
          "data": {
            "text/plain": [
              "np.int64(0)"
            ]
          },
          "metadata": {},
          "execution_count": 24
        }
      ],
      "source": [
        "completed_status['Customer Rating'].isnull().sum()"
      ]
    },
    {
      "cell_type": "code",
      "execution_count": 25,
      "metadata": {
        "colab": {
          "base_uri": "https://localhost:8080/"
        },
        "id": "ueE4sFairTkh",
        "outputId": "b8bbd6a1-8de5-425b-ad34-7ef2a410cab1"
      },
      "outputs": [
        {
          "output_type": "execute_result",
          "data": {
            "text/plain": [
              "array([nan])"
            ]
          },
          "metadata": {},
          "execution_count": 25
        }
      ],
      "source": [
        "incomplete_status['Customer Rating'].unique()"
      ]
    },
    {
      "cell_type": "code",
      "execution_count": 26,
      "metadata": {
        "colab": {
          "base_uri": "https://localhost:8080/",
          "height": 335
        },
        "id": "zwuQszRHQRgy",
        "outputId": "623eea77-eb59-4fb1-94ac-14c96a52f3db"
      },
      "outputs": [
        {
          "output_type": "execute_result",
          "data": {
            "text/plain": [
              "count    92248.000000\n",
              "mean         4.404301\n",
              "std          0.437908\n",
              "min          3.000000\n",
              "25%          4.200000\n",
              "50%          4.500000\n",
              "75%          4.800000\n",
              "max          5.000000\n",
              "Name: Customer Rating, dtype: float64"
            ],
            "text/html": [
              "<div>\n",
              "<style scoped>\n",
              "    .dataframe tbody tr th:only-of-type {\n",
              "        vertical-align: middle;\n",
              "    }\n",
              "\n",
              "    .dataframe tbody tr th {\n",
              "        vertical-align: top;\n",
              "    }\n",
              "\n",
              "    .dataframe thead th {\n",
              "        text-align: right;\n",
              "    }\n",
              "</style>\n",
              "<table border=\"1\" class=\"dataframe\">\n",
              "  <thead>\n",
              "    <tr style=\"text-align: right;\">\n",
              "      <th></th>\n",
              "      <th>Customer Rating</th>\n",
              "    </tr>\n",
              "  </thead>\n",
              "  <tbody>\n",
              "    <tr>\n",
              "      <th>count</th>\n",
              "      <td>92248.000000</td>\n",
              "    </tr>\n",
              "    <tr>\n",
              "      <th>mean</th>\n",
              "      <td>4.404301</td>\n",
              "    </tr>\n",
              "    <tr>\n",
              "      <th>std</th>\n",
              "      <td>0.437908</td>\n",
              "    </tr>\n",
              "    <tr>\n",
              "      <th>min</th>\n",
              "      <td>3.000000</td>\n",
              "    </tr>\n",
              "    <tr>\n",
              "      <th>25%</th>\n",
              "      <td>4.200000</td>\n",
              "    </tr>\n",
              "    <tr>\n",
              "      <th>50%</th>\n",
              "      <td>4.500000</td>\n",
              "    </tr>\n",
              "    <tr>\n",
              "      <th>75%</th>\n",
              "      <td>4.800000</td>\n",
              "    </tr>\n",
              "    <tr>\n",
              "      <th>max</th>\n",
              "      <td>5.000000</td>\n",
              "    </tr>\n",
              "  </tbody>\n",
              "</table>\n",
              "</div><br><label><b>dtype:</b> float64</label>"
            ]
          },
          "metadata": {},
          "execution_count": 26
        }
      ],
      "source": [
        "data['Customer Rating'].describe()"
      ]
    },
    {
      "cell_type": "markdown",
      "metadata": {
        "id": "BMt5nLOERr0p"
      },
      "source": [
        "#### Driver Ratings"
      ]
    },
    {
      "cell_type": "code",
      "execution_count": 27,
      "metadata": {
        "colab": {
          "base_uri": "https://localhost:8080/"
        },
        "id": "ndSIWjdoRksw",
        "outputId": "d1f053ac-efe8-4844-ca0d-782a31df0eea"
      },
      "outputs": [
        {
          "output_type": "execute_result",
          "data": {
            "text/plain": [
              "array([nan, 4.9, 4.6, 4.1, 4. , 4.4, 4.2, 4.7, 3.8, 5. , 3.7, 3.1, 4.5,\n",
              "       3.9, 4.3, 3.3, 3.2, 4.8, 3.6, 3.5, 3.4, 3. ])"
            ]
          },
          "metadata": {},
          "execution_count": 27
        }
      ],
      "source": [
        "data['Driver Ratings'].unique()"
      ]
    },
    {
      "cell_type": "code",
      "execution_count": 28,
      "metadata": {
        "colab": {
          "base_uri": "https://localhost:8080/"
        },
        "id": "ig3jqivPrTkn",
        "outputId": "835bf162-b82c-4258-d49f-e136d6132bbc"
      },
      "outputs": [
        {
          "output_type": "execute_result",
          "data": {
            "text/plain": [
              "np.int64(0)"
            ]
          },
          "metadata": {},
          "execution_count": 28
        }
      ],
      "source": [
        "completed_status['Driver Ratings'].isnull().sum()"
      ]
    },
    {
      "cell_type": "code",
      "execution_count": 29,
      "metadata": {
        "colab": {
          "base_uri": "https://localhost:8080/"
        },
        "id": "nqrdQBuNrTko",
        "outputId": "82433299-641d-492e-d652-15d4e2bee823"
      },
      "outputs": [
        {
          "output_type": "execute_result",
          "data": {
            "text/plain": [
              "array([nan])"
            ]
          },
          "metadata": {},
          "execution_count": 29
        }
      ],
      "source": [
        "incomplete_status['Driver Ratings'].unique()"
      ]
    },
    {
      "cell_type": "code",
      "execution_count": 30,
      "metadata": {
        "colab": {
          "base_uri": "https://localhost:8080/",
          "height": 335
        },
        "id": "cQijI4FURkjp",
        "outputId": "307191b5-a9e3-4ab5-a086-c8bdd353b2da"
      },
      "outputs": [
        {
          "output_type": "execute_result",
          "data": {
            "text/plain": [
              "count    92248.000000\n",
              "mean         4.230756\n",
              "std          0.436741\n",
              "min          3.000000\n",
              "25%          4.100000\n",
              "50%          4.300000\n",
              "75%          4.600000\n",
              "max          5.000000\n",
              "Name: Driver Ratings, dtype: float64"
            ],
            "text/html": [
              "<div>\n",
              "<style scoped>\n",
              "    .dataframe tbody tr th:only-of-type {\n",
              "        vertical-align: middle;\n",
              "    }\n",
              "\n",
              "    .dataframe tbody tr th {\n",
              "        vertical-align: top;\n",
              "    }\n",
              "\n",
              "    .dataframe thead th {\n",
              "        text-align: right;\n",
              "    }\n",
              "</style>\n",
              "<table border=\"1\" class=\"dataframe\">\n",
              "  <thead>\n",
              "    <tr style=\"text-align: right;\">\n",
              "      <th></th>\n",
              "      <th>Driver Ratings</th>\n",
              "    </tr>\n",
              "  </thead>\n",
              "  <tbody>\n",
              "    <tr>\n",
              "      <th>count</th>\n",
              "      <td>92248.000000</td>\n",
              "    </tr>\n",
              "    <tr>\n",
              "      <th>mean</th>\n",
              "      <td>4.230756</td>\n",
              "    </tr>\n",
              "    <tr>\n",
              "      <th>std</th>\n",
              "      <td>0.436741</td>\n",
              "    </tr>\n",
              "    <tr>\n",
              "      <th>min</th>\n",
              "      <td>3.000000</td>\n",
              "    </tr>\n",
              "    <tr>\n",
              "      <th>25%</th>\n",
              "      <td>4.100000</td>\n",
              "    </tr>\n",
              "    <tr>\n",
              "      <th>50%</th>\n",
              "      <td>4.300000</td>\n",
              "    </tr>\n",
              "    <tr>\n",
              "      <th>75%</th>\n",
              "      <td>4.600000</td>\n",
              "    </tr>\n",
              "    <tr>\n",
              "      <th>max</th>\n",
              "      <td>5.000000</td>\n",
              "    </tr>\n",
              "  </tbody>\n",
              "</table>\n",
              "</div><br><label><b>dtype:</b> float64</label>"
            ]
          },
          "metadata": {},
          "execution_count": 30
        }
      ],
      "source": [
        "data['Driver Ratings'].describe()"
      ]
    },
    {
      "cell_type": "markdown",
      "metadata": {
        "id": "_HVq2_oCTcnY"
      },
      "source": [
        "#### Avg VTAT : Average time for driver to reach pickup location (in minutes)"
      ]
    },
    {
      "cell_type": "code",
      "execution_count": 31,
      "metadata": {
        "colab": {
          "base_uri": "https://localhost:8080/"
        },
        "id": "_qAvB9ESSayM",
        "outputId": "9e2d35e6-df66-4e2f-efc6-75146c2c33ed"
      },
      "outputs": [
        {
          "output_type": "execute_result",
          "data": {
            "text/plain": [
              "array([ nan,  4.9, 13.4, 13.1,  5.3,  5.1,  7.1, 12.1,  6.1,  7.7,  4.6,\n",
              "       12.2, 14. ,  8.5,  5.6,  6. , 12.4, 10.3,  7. , 10.4,  7.9, 13.6,\n",
              "       11.5,  3.1,  8.9,  9.2,  2. ,  5.4, 14.6,  6.7,  6.6, 10. , 11. ,\n",
              "        8. , 12.8,  6.4, 11.3,  2.3,  7.8,  8.8,  9.9,  4.1, 11.2,  3. ,\n",
              "        9.1,  4.3, 11.4,  6.3, 11.7, 16.6,  5.8,  4. ,  3.4, 11.1,  5.9,\n",
              "        8.1,  5. , 12. ,  3.2,  9.6,  3.9,  8.4, 10.9,  5.7,  8.6,  9.5,\n",
              "        2.6,  2.1, 14.4,  7.5, 10.8, 14.7,  3.5,  8.3, 11.9, 12.5, 13.3,\n",
              "        9.7,  3.6,  9.4,  9. ,  2.4, 19.1,  2.9, 18.5, 16.1, 13.7,  4.5,\n",
              "        6.9,  6.2,  7.2,  3.7, 11.6,  3.3,  4.7,  7.4,  9.3,  8.2, 13.5,\n",
              "        4.4,  2.7,  7.3, 10.5,  6.8, 10.7, 12.3,  3.8, 10.2,  9.8,  8.7,\n",
              "       14.2,  6.5, 12.9,  4.2,  5.2, 16.9,  7.6, 14.9, 11.8, 14.3, 10.1,\n",
              "       12.6, 14.8, 13.2, 14.5,  4.8, 14.1,  2.5, 15. , 16.2, 12.7,  5.5,\n",
              "        2.8, 19.2, 18. , 13.9, 13. , 10.6, 20. , 17.6, 15.7,  2.2, 16.5,\n",
              "       15.9, 19.6, 19.9, 19.8, 16. , 16.4, 13.8, 18.7, 17. , 15.5, 16.8,\n",
              "       16.7, 15.4, 18.8, 17.8, 19.3, 17.2, 15.2, 19.7, 17.5, 17.1, 16.3,\n",
              "       15.1, 18.3, 17.3, 19.4, 19.5, 17.4, 19. , 18.6, 15.6, 18.2, 18.4,\n",
              "       18.1, 15.3, 17.9, 17.7, 18.9, 15.8])"
            ]
          },
          "metadata": {},
          "execution_count": 31
        }
      ],
      "source": [
        "data['Avg VTAT'].unique()"
      ]
    },
    {
      "cell_type": "code",
      "execution_count": 32,
      "metadata": {
        "colab": {
          "base_uri": "https://localhost:8080/"
        },
        "id": "KQHjNpaarTkr",
        "outputId": "bca39da2-ad7f-4e0f-d8b7-1d52e010752d"
      },
      "outputs": [
        {
          "output_type": "execute_result",
          "data": {
            "text/plain": [
              "np.int64(0)"
            ]
          },
          "metadata": {},
          "execution_count": 32
        }
      ],
      "source": [
        "failed_status['Avg VTAT'].isnull().sum()"
      ]
    },
    {
      "cell_type": "code",
      "execution_count": 33,
      "metadata": {
        "colab": {
          "base_uri": "https://localhost:8080/"
        },
        "id": "DOi7YrLHrTks",
        "outputId": "01a68cb2-2f84-4115-9337-3c1a5cb3ff35"
      },
      "outputs": [
        {
          "output_type": "execute_result",
          "data": {
            "text/plain": [
              "np.int64(0)"
            ]
          },
          "metadata": {},
          "execution_count": 33
        }
      ],
      "source": [
        "customer_cancelled_status['Avg VTAT'].isnull().sum()"
      ]
    },
    {
      "cell_type": "code",
      "execution_count": 34,
      "metadata": {
        "colab": {
          "base_uri": "https://localhost:8080/"
        },
        "id": "HovjtnLvrTks",
        "outputId": "0eaa8745-526c-41fc-f199-57435af76667"
      },
      "outputs": [
        {
          "output_type": "execute_result",
          "data": {
            "text/plain": [
              "np.int64(0)"
            ]
          },
          "metadata": {},
          "execution_count": 34
        }
      ],
      "source": [
        "driver_cancelled_status['Avg VTAT'].isnull().sum()"
      ]
    },
    {
      "cell_type": "code",
      "execution_count": 35,
      "metadata": {
        "colab": {
          "base_uri": "https://localhost:8080/"
        },
        "id": "oH_nACFmrTks",
        "outputId": "451e0139-fe49-49c4-89f8-71c05caa7153"
      },
      "outputs": [
        {
          "output_type": "execute_result",
          "data": {
            "text/plain": [
              "np.int64(0)"
            ]
          },
          "metadata": {},
          "execution_count": 35
        }
      ],
      "source": [
        "completed_status['Avg VTAT'].isnull().sum()"
      ]
    },
    {
      "cell_type": "code",
      "execution_count": 36,
      "metadata": {
        "colab": {
          "base_uri": "https://localhost:8080/"
        },
        "id": "3C_oaRQ7rTkt",
        "outputId": "e95e8ff1-dac5-4d31-ba09-e7e0a972f658"
      },
      "outputs": [
        {
          "output_type": "execute_result",
          "data": {
            "text/plain": [
              "np.int64(10401)"
            ]
          },
          "metadata": {},
          "execution_count": 36
        }
      ],
      "source": [
        "incomplete_status['Avg VTAT'].isnull().sum()"
      ]
    },
    {
      "cell_type": "markdown",
      "metadata": {
        "id": "Bdfdmuh7rTkv"
      },
      "source": [
        "#### Avg CTAT : Average time for customer to reach pickup location (in minutes)"
      ]
    },
    {
      "cell_type": "code",
      "execution_count": 37,
      "metadata": {
        "colab": {
          "base_uri": "https://localhost:8080/"
        },
        "id": "CwSPKcmyrTkv",
        "outputId": "3046dc8c-3efc-46f7-cfce-d97aa4c3f9d7"
      },
      "outputs": [
        {
          "output_type": "execute_result",
          "data": {
            "text/plain": [
              "array([ nan, 14. , 25.8, 28.5, 19.6, 18.1, 20.4, 16.5, 26. , 18.9, 28.2,\n",
              "       30.9, 36.9, 27.5, 33.7, 21.3, 25.1, 41.1, 25.2, 20.7, 31.1, 41. ,\n",
              "       20.5, 19.4, 25.4, 30. , 35.8, 18.7, 10.5, 42.3, 29.7, 42.2, 21.6,\n",
              "       40.7, 35.4, 23.2, 42.1, 21.5, 33. , 10.1, 24.3, 44.5, 27.1, 38.5,\n",
              "       17.2, 37.3, 26.7, 34.7, 39.1, 23. , 31.3, 43.7, 35. , 15.6, 43.6,\n",
              "       18. , 32.7, 24.6, 38.9, 16.4, 36.2, 35.5, 41.7, 38. , 40. , 37. ,\n",
              "       40.4, 28.7, 30.6, 21.1, 18.8, 30.4, 15.9, 21.9, 25. , 44.4, 16.7,\n",
              "       26.3, 15.8, 31.5, 30.7, 23.6, 24.2, 17.9, 15.5, 25.3, 37.4, 22.8,\n",
              "       28.9, 44.7, 24.8, 26.6, 32.6, 24.4, 39.3, 32.5, 43.1, 26.5, 17. ,\n",
              "       20.6, 37.7, 40.2, 31.6, 33.5, 32.9, 17.7, 39. , 18.4, 41.8, 22. ,\n",
              "       10.3, 15.7, 16.8, 22.2, 33.1, 27.9, 34.1, 33.9, 22.4, 34.6, 20.2,\n",
              "       30.8, 20. , 43.4, 27.2, 30.5, 27.4, 28.1, 31.4, 15.3, 39.9, 37.9,\n",
              "       37.8, 40.6, 23.7, 31.9, 19.7, 23.1, 20.9, 25.5, 42.5, 29.8, 42.6,\n",
              "       41.6, 34.9, 23.4, 17.3, 41.2, 27.3, 20.1, 18.5, 36.4, 12.4, 35.7,\n",
              "       27.7, 33.6, 26.2, 26.4, 19.2, 21. , 36.8, 31.7, 33.8, 19.8, 18.2,\n",
              "       28.4, 44.8, 39.6, 39.8, 42.4, 29. , 24. , 18.3, 34.8, 16. , 22.6,\n",
              "       30.1, 44. , 17.6, 29.1, 15.4, 19.1, 38.3, 36.3, 30.2, 24.7, 21.7,\n",
              "       18.6, 35.2, 37.2, 35.3, 34. , 22.7, 29.4, 32. , 17.1, 36.5, 24.9,\n",
              "       15.1, 35.9, 11. , 21.2, 38.6, 14.8, 32.1, 36.7, 24.1, 15. , 43. ,\n",
              "       41.4, 43.3, 15.2, 42.8, 25.6, 22.1, 32.4, 23.5, 34.2, 39.2, 43.8,\n",
              "       19.5, 37.1, 43.5, 32.8, 36.1, 41.9, 37.5, 44.2, 29.3, 19.9, 16.6,\n",
              "       43.2, 16.9, 26.8, 22.5, 31. , 23.9, 21.4, 27.8, 13.2, 43.9, 19. ,\n",
              "       39.5, 21.8, 44.9, 29.2, 33.3, 34.4, 31.8, 29.5, 30.3, 25.7, 38.2,\n",
              "       16.2, 23.3, 20.8, 28.3, 28. , 23.8, 35.6, 41.5, 37.6, 28.8, 17.8,\n",
              "       40.3, 42.9, 14.1, 27. , 16.3, 44.3, 16.1, 42. , 22.9, 33.4, 27.6,\n",
              "       40.5, 34.3, 31.2, 33.2, 25.9, 10.7, 32.3, 40.1, 19.3, 36.6, 11.3,\n",
              "       22.3, 36. , 39.7, 38.1, 12.2, 26.9, 35.1, 17.5, 28.6, 40.8, 29.9,\n",
              "       44.6, 45. , 13.6, 38.7, 29.6, 20.3, 34.5, 26.1, 38.8, 17.4, 42.7,\n",
              "       14.4, 14.5, 24.5, 41.3, 44.1, 12.8, 32.2, 39.4, 11.1, 38.4, 13. ,\n",
              "       13.7, 13.1, 12.7, 13.9, 10.6, 11.7, 14.9, 40.9, 11.8, 10.4, 10.8,\n",
              "       11.9, 14.7, 11.5, 13.3, 11.6, 14.6, 12. , 13.5, 12.9, 10.2, 10. ,\n",
              "       11.4, 12.5, 14.3, 11.2, 10.9, 13.4, 12.3, 14.2, 13.8, 12.1, 12.6])"
            ]
          },
          "metadata": {},
          "execution_count": 37
        }
      ],
      "source": [
        "data['Avg CTAT'].unique()"
      ]
    },
    {
      "cell_type": "code",
      "execution_count": 38,
      "metadata": {
        "colab": {
          "base_uri": "https://localhost:8080/"
        },
        "id": "fw4OiJq_rTkx",
        "outputId": "cde70049-820d-4f4e-9124-989a0fee71ff"
      },
      "outputs": [
        {
          "output_type": "execute_result",
          "data": {
            "text/plain": [
              "np.int64(47592)"
            ]
          },
          "metadata": {},
          "execution_count": 38
        }
      ],
      "source": [
        "data['Avg CTAT'].isnull().sum()"
      ]
    },
    {
      "cell_type": "code",
      "execution_count": 39,
      "metadata": {
        "colab": {
          "base_uri": "https://localhost:8080/"
        },
        "id": "rMY7lw86rTkx",
        "outputId": "604c408c-e916-4811-edc4-49cb8fda5a8c"
      },
      "outputs": [
        {
          "output_type": "execute_result",
          "data": {
            "text/plain": [
              "np.int64(0)"
            ]
          },
          "metadata": {},
          "execution_count": 39
        }
      ],
      "source": [
        "completed_status['Avg CTAT'].isnull().sum()"
      ]
    },
    {
      "cell_type": "code",
      "execution_count": 40,
      "metadata": {
        "colab": {
          "base_uri": "https://localhost:8080/"
        },
        "id": "M7EqPyHHGXoM",
        "outputId": "0f120550-f7e5-4898-de2e-8c8f5694eced"
      },
      "outputs": [
        {
          "output_type": "execute_result",
          "data": {
            "text/plain": [
              "np.int64(47592)"
            ]
          },
          "metadata": {},
          "execution_count": 40
        }
      ],
      "source": [
        "incomplete_status['Avg CTAT'].isnull().sum()"
      ]
    },
    {
      "cell_type": "markdown",
      "metadata": {
        "id": "g-bnfMofS5q1"
      },
      "source": [
        "#### Booking Value"
      ]
    },
    {
      "cell_type": "code",
      "execution_count": 41,
      "metadata": {
        "colab": {
          "base_uri": "https://localhost:8080/"
        },
        "id": "cM8RGXyrS3Da",
        "outputId": "c749b1dd-4b18-41ad-8bf2-133f42ff01b1"
      },
      "outputs": [
        {
          "output_type": "execute_result",
          "data": {
            "text/plain": [
              "array([  nan,  237.,  627., ..., 3161., 2842., 3028.])"
            ]
          },
          "metadata": {},
          "execution_count": 41
        }
      ],
      "source": [
        "data['Booking Value'].unique()"
      ]
    },
    {
      "cell_type": "code",
      "execution_count": 42,
      "metadata": {
        "colab": {
          "base_uri": "https://localhost:8080/",
          "height": 335
        },
        "id": "IhDxtT6TS_Px",
        "outputId": "f999d835-a40c-4c80-8309-81922aaefe84"
      },
      "outputs": [
        {
          "output_type": "execute_result",
          "data": {
            "text/plain": [
              "count    101175.000000\n",
              "mean        508.290230\n",
              "std         395.913208\n",
              "min          50.000000\n",
              "25%         234.000000\n",
              "50%         414.000000\n",
              "75%         689.000000\n",
              "max        4277.000000\n",
              "Name: Booking Value, dtype: float64"
            ],
            "text/html": [
              "<div>\n",
              "<style scoped>\n",
              "    .dataframe tbody tr th:only-of-type {\n",
              "        vertical-align: middle;\n",
              "    }\n",
              "\n",
              "    .dataframe tbody tr th {\n",
              "        vertical-align: top;\n",
              "    }\n",
              "\n",
              "    .dataframe thead th {\n",
              "        text-align: right;\n",
              "    }\n",
              "</style>\n",
              "<table border=\"1\" class=\"dataframe\">\n",
              "  <thead>\n",
              "    <tr style=\"text-align: right;\">\n",
              "      <th></th>\n",
              "      <th>Booking Value</th>\n",
              "    </tr>\n",
              "  </thead>\n",
              "  <tbody>\n",
              "    <tr>\n",
              "      <th>count</th>\n",
              "      <td>101175.000000</td>\n",
              "    </tr>\n",
              "    <tr>\n",
              "      <th>mean</th>\n",
              "      <td>508.290230</td>\n",
              "    </tr>\n",
              "    <tr>\n",
              "      <th>std</th>\n",
              "      <td>395.913208</td>\n",
              "    </tr>\n",
              "    <tr>\n",
              "      <th>min</th>\n",
              "      <td>50.000000</td>\n",
              "    </tr>\n",
              "    <tr>\n",
              "      <th>25%</th>\n",
              "      <td>234.000000</td>\n",
              "    </tr>\n",
              "    <tr>\n",
              "      <th>50%</th>\n",
              "      <td>414.000000</td>\n",
              "    </tr>\n",
              "    <tr>\n",
              "      <th>75%</th>\n",
              "      <td>689.000000</td>\n",
              "    </tr>\n",
              "    <tr>\n",
              "      <th>max</th>\n",
              "      <td>4277.000000</td>\n",
              "    </tr>\n",
              "  </tbody>\n",
              "</table>\n",
              "</div><br><label><b>dtype:</b> float64</label>"
            ]
          },
          "metadata": {},
          "execution_count": 42
        }
      ],
      "source": [
        "data['Booking Value'].describe()"
      ]
    },
    {
      "cell_type": "code",
      "execution_count": 43,
      "metadata": {
        "colab": {
          "base_uri": "https://localhost:8080/"
        },
        "id": "yE8aHmHNrTk0",
        "outputId": "b9c8abfb-697b-41fb-9c13-a3b6b9b4469b"
      },
      "outputs": [
        {
          "output_type": "execute_result",
          "data": {
            "text/plain": [
              "np.int64(47592)"
            ]
          },
          "metadata": {},
          "execution_count": 43
        }
      ],
      "source": [
        "data['Booking Value'].isnull().sum()"
      ]
    },
    {
      "cell_type": "code",
      "execution_count": 44,
      "metadata": {
        "colab": {
          "base_uri": "https://localhost:8080/"
        },
        "id": "0AbL1vHFrTk0",
        "outputId": "d7e99fd7-89fa-4b1e-99d9-6424f298fc67"
      },
      "outputs": [
        {
          "output_type": "execute_result",
          "data": {
            "text/plain": [
              "np.int64(47592)"
            ]
          },
          "metadata": {},
          "execution_count": 44
        }
      ],
      "source": [
        "incomplete_status['Booking Value'].isnull().sum()"
      ]
    },
    {
      "cell_type": "markdown",
      "metadata": {
        "id": "S8j9suMLTuHm"
      },
      "source": [
        "#### Ride Distance"
      ]
    },
    {
      "cell_type": "code",
      "execution_count": 45,
      "metadata": {
        "colab": {
          "base_uri": "https://localhost:8080/"
        },
        "id": "HlXyw2F_TLVS",
        "outputId": "3d5448cc-e09b-45a1-c23a-2a74adea9564"
      },
      "outputs": [
        {
          "output_type": "execute_result",
          "data": {
            "text/plain": [
              "array([  nan,  5.73, 13.58, ...,  1.93,  1.19,  1.2 ])"
            ]
          },
          "metadata": {},
          "execution_count": 45
        }
      ],
      "source": [
        "data['Ride Distance'].unique()"
      ]
    },
    {
      "cell_type": "code",
      "execution_count": 46,
      "metadata": {
        "colab": {
          "base_uri": "https://localhost:8080/",
          "height": 335
        },
        "id": "_tqDhx8yTLP4",
        "outputId": "2d586d7a-bfec-4fea-d69b-40cf5465e625"
      },
      "outputs": [
        {
          "output_type": "execute_result",
          "data": {
            "text/plain": [
              "count    101175.000000\n",
              "mean         24.640956\n",
              "std          14.002172\n",
              "min           1.000000\n",
              "25%          12.460000\n",
              "50%          23.720000\n",
              "75%          36.820000\n",
              "max          50.000000\n",
              "Name: Ride Distance, dtype: float64"
            ],
            "text/html": [
              "<div>\n",
              "<style scoped>\n",
              "    .dataframe tbody tr th:only-of-type {\n",
              "        vertical-align: middle;\n",
              "    }\n",
              "\n",
              "    .dataframe tbody tr th {\n",
              "        vertical-align: top;\n",
              "    }\n",
              "\n",
              "    .dataframe thead th {\n",
              "        text-align: right;\n",
              "    }\n",
              "</style>\n",
              "<table border=\"1\" class=\"dataframe\">\n",
              "  <thead>\n",
              "    <tr style=\"text-align: right;\">\n",
              "      <th></th>\n",
              "      <th>Ride Distance</th>\n",
              "    </tr>\n",
              "  </thead>\n",
              "  <tbody>\n",
              "    <tr>\n",
              "      <th>count</th>\n",
              "      <td>101175.000000</td>\n",
              "    </tr>\n",
              "    <tr>\n",
              "      <th>mean</th>\n",
              "      <td>24.640956</td>\n",
              "    </tr>\n",
              "    <tr>\n",
              "      <th>std</th>\n",
              "      <td>14.002172</td>\n",
              "    </tr>\n",
              "    <tr>\n",
              "      <th>min</th>\n",
              "      <td>1.000000</td>\n",
              "    </tr>\n",
              "    <tr>\n",
              "      <th>25%</th>\n",
              "      <td>12.460000</td>\n",
              "    </tr>\n",
              "    <tr>\n",
              "      <th>50%</th>\n",
              "      <td>23.720000</td>\n",
              "    </tr>\n",
              "    <tr>\n",
              "      <th>75%</th>\n",
              "      <td>36.820000</td>\n",
              "    </tr>\n",
              "    <tr>\n",
              "      <th>max</th>\n",
              "      <td>50.000000</td>\n",
              "    </tr>\n",
              "  </tbody>\n",
              "</table>\n",
              "</div><br><label><b>dtype:</b> float64</label>"
            ]
          },
          "metadata": {},
          "execution_count": 46
        }
      ],
      "source": [
        "data['Ride Distance'].describe()"
      ]
    },
    {
      "cell_type": "code",
      "execution_count": 47,
      "metadata": {
        "colab": {
          "base_uri": "https://localhost:8080/"
        },
        "id": "nGBIkUIHrTk2",
        "outputId": "d191bdff-b8b9-40ea-dd8e-26d6f706adc2"
      },
      "outputs": [
        {
          "output_type": "execute_result",
          "data": {
            "text/plain": [
              "np.int64(47592)"
            ]
          },
          "metadata": {},
          "execution_count": 47
        }
      ],
      "source": [
        "data['Ride Distance'].isnull().sum()"
      ]
    },
    {
      "cell_type": "code",
      "execution_count": 48,
      "metadata": {
        "colab": {
          "base_uri": "https://localhost:8080/"
        },
        "id": "A43sIFZ4rTk2",
        "outputId": "a04df6e4-53c2-42f4-dc76-c22b2eee1dbc"
      },
      "outputs": [
        {
          "output_type": "execute_result",
          "data": {
            "text/plain": [
              "np.int64(47592)"
            ]
          },
          "metadata": {},
          "execution_count": 48
        }
      ],
      "source": [
        "incomplete_status['Ride Distance'].isnull().sum()"
      ]
    },
    {
      "cell_type": "markdown",
      "metadata": {
        "id": "5GR1CUElrTk4"
      },
      "source": [
        "#### Payment Method"
      ]
    },
    {
      "cell_type": "code",
      "execution_count": 49,
      "metadata": {
        "colab": {
          "base_uri": "https://localhost:8080/"
        },
        "id": "CP3k7AytTvsD",
        "outputId": "519edfab-d8be-4ffd-a250-62c94d7a8d92"
      },
      "outputs": [
        {
          "output_type": "execute_result",
          "data": {
            "text/plain": [
              "array([nan, 'UPI', 'Debit Card', 'Cash', 'Uber Wallet', 'Credit Card'],\n",
              "      dtype=object)"
            ]
          },
          "metadata": {},
          "execution_count": 49
        }
      ],
      "source": [
        "data['Payment Method'].unique()"
      ]
    },
    {
      "cell_type": "code",
      "execution_count": 50,
      "metadata": {
        "colab": {
          "base_uri": "https://localhost:8080/",
          "height": 272
        },
        "id": "zP_JjAbWrTk8",
        "outputId": "d95af838-2f01-4fd8-b2b4-fb19349221fe"
      },
      "outputs": [
        {
          "output_type": "execute_result",
          "data": {
            "text/plain": [
              "Payment Method\n",
              "UPI            45542\n",
              "Cash           25157\n",
              "Uber Wallet    12174\n",
              "Credit Card    10119\n",
              "Debit Card      8183\n",
              "Name: count, dtype: int64"
            ],
            "text/html": [
              "<div>\n",
              "<style scoped>\n",
              "    .dataframe tbody tr th:only-of-type {\n",
              "        vertical-align: middle;\n",
              "    }\n",
              "\n",
              "    .dataframe tbody tr th {\n",
              "        vertical-align: top;\n",
              "    }\n",
              "\n",
              "    .dataframe thead th {\n",
              "        text-align: right;\n",
              "    }\n",
              "</style>\n",
              "<table border=\"1\" class=\"dataframe\">\n",
              "  <thead>\n",
              "    <tr style=\"text-align: right;\">\n",
              "      <th></th>\n",
              "      <th>count</th>\n",
              "    </tr>\n",
              "    <tr>\n",
              "      <th>Payment Method</th>\n",
              "      <th></th>\n",
              "    </tr>\n",
              "  </thead>\n",
              "  <tbody>\n",
              "    <tr>\n",
              "      <th>UPI</th>\n",
              "      <td>45542</td>\n",
              "    </tr>\n",
              "    <tr>\n",
              "      <th>Cash</th>\n",
              "      <td>25157</td>\n",
              "    </tr>\n",
              "    <tr>\n",
              "      <th>Uber Wallet</th>\n",
              "      <td>12174</td>\n",
              "    </tr>\n",
              "    <tr>\n",
              "      <th>Credit Card</th>\n",
              "      <td>10119</td>\n",
              "    </tr>\n",
              "    <tr>\n",
              "      <th>Debit Card</th>\n",
              "      <td>8183</td>\n",
              "    </tr>\n",
              "  </tbody>\n",
              "</table>\n",
              "</div><br><label><b>dtype:</b> int64</label>"
            ]
          },
          "metadata": {},
          "execution_count": 50
        }
      ],
      "source": [
        "data['Payment Method'].value_counts().sort_values(ascending= False)"
      ]
    },
    {
      "cell_type": "code",
      "execution_count": 51,
      "metadata": {
        "colab": {
          "base_uri": "https://localhost:8080/"
        },
        "id": "CiZQ8UrLrTk-",
        "outputId": "37d73322-aa38-4f5a-e7ed-6d95fa58ac5f"
      },
      "outputs": [
        {
          "output_type": "execute_result",
          "data": {
            "text/plain": [
              "np.int64(47592)"
            ]
          },
          "metadata": {},
          "execution_count": 51
        }
      ],
      "source": [
        "data['Payment Method'].isnull().sum()"
      ]
    },
    {
      "cell_type": "code",
      "execution_count": 52,
      "metadata": {
        "colab": {
          "base_uri": "https://localhost:8080/"
        },
        "id": "_oPhSL56rTlC",
        "outputId": "134f3e84-c480-492f-9c16-5c0abe236962"
      },
      "outputs": [
        {
          "output_type": "execute_result",
          "data": {
            "text/plain": [
              "np.int64(47592)"
            ]
          },
          "metadata": {},
          "execution_count": 52
        }
      ],
      "source": [
        "incomplete_status['Payment Method'].isnull().sum()"
      ]
    },
    {
      "cell_type": "markdown",
      "metadata": {
        "id": "pHsNzJiNrTlI"
      },
      "source": [
        "#### Incomplete Rides"
      ]
    },
    {
      "cell_type": "code",
      "execution_count": 53,
      "metadata": {
        "colab": {
          "base_uri": "https://localhost:8080/"
        },
        "id": "KldY9yyrrTlL",
        "outputId": "6692d2cf-c9e5-4758-f1ed-af1713b3fc26"
      },
      "outputs": [
        {
          "output_type": "execute_result",
          "data": {
            "text/plain": [
              "array([nan,  1.])"
            ]
          },
          "metadata": {},
          "execution_count": 53
        }
      ],
      "source": [
        "data['Incomplete Rides'].unique()"
      ]
    },
    {
      "cell_type": "code",
      "execution_count": 54,
      "metadata": {
        "colab": {
          "base_uri": "https://localhost:8080/",
          "height": 147
        },
        "id": "6Q2oDvYXrTlO",
        "outputId": "67fb0115-97dc-4241-858d-a3451b66d775"
      },
      "outputs": [
        {
          "output_type": "execute_result",
          "data": {
            "text/plain": [
              "Incomplete Rides\n",
              "1.0    8927\n",
              "Name: count, dtype: int64"
            ],
            "text/html": [
              "<div>\n",
              "<style scoped>\n",
              "    .dataframe tbody tr th:only-of-type {\n",
              "        vertical-align: middle;\n",
              "    }\n",
              "\n",
              "    .dataframe tbody tr th {\n",
              "        vertical-align: top;\n",
              "    }\n",
              "\n",
              "    .dataframe thead th {\n",
              "        text-align: right;\n",
              "    }\n",
              "</style>\n",
              "<table border=\"1\" class=\"dataframe\">\n",
              "  <thead>\n",
              "    <tr style=\"text-align: right;\">\n",
              "      <th></th>\n",
              "      <th>count</th>\n",
              "    </tr>\n",
              "    <tr>\n",
              "      <th>Incomplete Rides</th>\n",
              "      <th></th>\n",
              "    </tr>\n",
              "  </thead>\n",
              "  <tbody>\n",
              "    <tr>\n",
              "      <th>1.0</th>\n",
              "      <td>8927</td>\n",
              "    </tr>\n",
              "  </tbody>\n",
              "</table>\n",
              "</div><br><label><b>dtype:</b> int64</label>"
            ]
          },
          "metadata": {},
          "execution_count": 54
        }
      ],
      "source": [
        "# All UNcompleted rows has 1 in the column 'Incomplete Rides'\n",
        "incomplete_status['Incomplete Rides'].value_counts()"
      ]
    },
    {
      "cell_type": "code",
      "execution_count": 55,
      "metadata": {
        "id": "_JrS_qQerTlP"
      },
      "outputs": [],
      "source": [
        "data['Incomplete Rides']= data['Incomplete Rides'].fillna(0)"
      ]
    },
    {
      "cell_type": "markdown",
      "metadata": {
        "id": "ou6Oj69lrTlR"
      },
      "source": [
        "#### Incomplete Rides Reason"
      ]
    },
    {
      "cell_type": "code",
      "execution_count": 56,
      "metadata": {
        "colab": {
          "base_uri": "https://localhost:8080/"
        },
        "id": "5BR3UQBmrTlR",
        "outputId": "00a0460c-7d15-425f-cf2a-3d9015dbd8b9"
      },
      "outputs": [
        {
          "output_type": "execute_result",
          "data": {
            "text/plain": [
              "array([nan, 'Vehicle Breakdown', 'Other Issue', 'Customer Demand'],\n",
              "      dtype=object)"
            ]
          },
          "metadata": {},
          "execution_count": 56
        }
      ],
      "source": [
        "data['Incomplete Rides Reason'].unique()"
      ]
    },
    {
      "cell_type": "code",
      "execution_count": 57,
      "metadata": {
        "colab": {
          "base_uri": "https://localhost:8080/"
        },
        "id": "5IibSp7BrTlS",
        "outputId": "bd229b63-d755-49e2-fca9-5dfb120b4ad4"
      },
      "outputs": [
        {
          "output_type": "execute_result",
          "data": {
            "text/plain": [
              "np.int64(0)"
            ]
          },
          "metadata": {},
          "execution_count": 57
        }
      ],
      "source": [
        "# OK no null reasons for the Uncomplete rides\n",
        "data[data['Incomplete Rides'] == 1]['Incomplete Rides Reason'].isnull().sum()"
      ]
    },
    {
      "cell_type": "markdown",
      "metadata": {
        "id": "qUQQsHxfrTlT"
      },
      "source": [
        "#### Cancelled Rides by Customer"
      ]
    },
    {
      "cell_type": "code",
      "execution_count": 58,
      "metadata": {
        "colab": {
          "base_uri": "https://localhost:8080/"
        },
        "id": "MsA30wFtrTlU",
        "outputId": "3906348a-6f4a-47de-9278-7e84472034d8"
      },
      "outputs": [
        {
          "output_type": "execute_result",
          "data": {
            "text/plain": [
              "array([nan,  1.])"
            ]
          },
          "metadata": {},
          "execution_count": 58
        }
      ],
      "source": [
        "data['Cancelled Rides by Customer'].unique()"
      ]
    },
    {
      "cell_type": "code",
      "execution_count": 59,
      "metadata": {
        "id": "o6eQEBTqrTlV"
      },
      "outputs": [],
      "source": [
        "data['Cancelled Rides by Customer']= data['Cancelled Rides by Customer'].fillna(0)"
      ]
    },
    {
      "cell_type": "markdown",
      "metadata": {
        "id": "MM-XZAUQrTlW"
      },
      "source": [
        "#### Reason for cancelling by Customer"
      ]
    },
    {
      "cell_type": "code",
      "execution_count": 60,
      "metadata": {
        "colab": {
          "base_uri": "https://localhost:8080/"
        },
        "id": "rt8wDTuqrTlY",
        "outputId": "8031117d-302c-4106-b970-72a1342f1d2f"
      },
      "outputs": [
        {
          "output_type": "execute_result",
          "data": {
            "text/plain": [
              "array([nan, 'Driver is not moving towards pickup location',\n",
              "       'Driver asked to cancel', 'AC is not working', 'Change of plans',\n",
              "       'Wrong Address'], dtype=object)"
            ]
          },
          "metadata": {},
          "execution_count": 60
        }
      ],
      "source": [
        "data['Reason for cancelling by Customer'].unique()"
      ]
    },
    {
      "cell_type": "code",
      "execution_count": 61,
      "metadata": {
        "colab": {
          "base_uri": "https://localhost:8080/"
        },
        "id": "NRmKJze4rTla",
        "outputId": "83695b4e-5b30-42ea-cf10-1a8bcb473e88"
      },
      "outputs": [
        {
          "output_type": "execute_result",
          "data": {
            "text/plain": [
              "np.int64(0)"
            ]
          },
          "metadata": {},
          "execution_count": 61
        }
      ],
      "source": [
        "data[data['Cancelled Rides by Customer'] == 1]['Reason for cancelling by Customer'].isnull().sum()"
      ]
    },
    {
      "cell_type": "markdown",
      "metadata": {
        "id": "sj0XZWQnrTld"
      },
      "source": [
        "#### Cancelled Rides by Driver"
      ]
    },
    {
      "cell_type": "code",
      "execution_count": 62,
      "metadata": {
        "colab": {
          "base_uri": "https://localhost:8080/"
        },
        "id": "h8Zl8JmbrTlf",
        "outputId": "5b2add13-ac80-4b93-f20e-433f1f530e8b"
      },
      "outputs": [
        {
          "output_type": "execute_result",
          "data": {
            "text/plain": [
              "array([nan,  1.])"
            ]
          },
          "metadata": {},
          "execution_count": 62
        }
      ],
      "source": [
        "data['Cancelled Rides by Driver'].unique()"
      ]
    },
    {
      "cell_type": "code",
      "execution_count": 63,
      "metadata": {
        "id": "sc86YPPMrTli"
      },
      "outputs": [],
      "source": [
        "data['Cancelled Rides by Driver']= data['Cancelled Rides by Driver'].fillna(0)"
      ]
    },
    {
      "cell_type": "markdown",
      "metadata": {
        "id": "Ypje0OyUrTln"
      },
      "source": [
        "#### Driver Cancellation Reason"
      ]
    },
    {
      "cell_type": "code",
      "execution_count": 64,
      "metadata": {
        "colab": {
          "base_uri": "https://localhost:8080/"
        },
        "id": "bm3fdL6yrTls",
        "outputId": "7116c760-cca5-435e-cbe5-3fa07c53bedd"
      },
      "outputs": [
        {
          "output_type": "execute_result",
          "data": {
            "text/plain": [
              "array([nan, 'Personal & Car related issues', 'Customer related issue',\n",
              "       'More than permitted people in there',\n",
              "       'The customer was coughing/sick'], dtype=object)"
            ]
          },
          "metadata": {},
          "execution_count": 64
        }
      ],
      "source": [
        "data['Driver Cancellation Reason'].unique()"
      ]
    },
    {
      "cell_type": "code",
      "execution_count": 65,
      "metadata": {
        "colab": {
          "base_uri": "https://localhost:8080/"
        },
        "id": "evEW4Td7rTlt",
        "outputId": "bdd3da70-4f33-49f3-82e7-e2441c2ae0a8"
      },
      "outputs": [
        {
          "output_type": "execute_result",
          "data": {
            "text/plain": [
              "np.int64(0)"
            ]
          },
          "metadata": {},
          "execution_count": 65
        }
      ],
      "source": [
        "data[data['Cancelled Rides by Driver'] == 1]['Driver Cancellation Reason'].isnull().sum()"
      ]
    },
    {
      "cell_type": "markdown",
      "metadata": {
        "id": "cUsaWHK5rTlv"
      },
      "source": [
        "## Handling Outliers"
      ]
    },
    {
      "cell_type": "code",
      "execution_count": 66,
      "metadata": {
        "id": "phNjqXg5GXoX"
      },
      "outputs": [],
      "source": [
        "bool_col = ['Incomplete Rides','Cancelled Rides by Customer', 'Cancelled Rides by Driver']"
      ]
    },
    {
      "cell_type": "code",
      "execution_count": 67,
      "metadata": {
        "colab": {
          "base_uri": "https://localhost:8080/"
        },
        "id": "ULYOfre_GXoX",
        "outputId": "5151522d-ec4e-43e6-8a24-b5353f64d1f2"
      },
      "outputs": [
        {
          "output_type": "execute_result",
          "data": {
            "text/plain": [
              "['Avg VTAT',\n",
              " 'Avg CTAT',\n",
              " 'Booking Value',\n",
              " 'Ride Distance',\n",
              " 'Driver Ratings',\n",
              " 'Customer Rating',\n",
              " 'Month',\n",
              " 'Day',\n",
              " 'Hour',\n",
              " 'Is Weekend']"
            ]
          },
          "metadata": {},
          "execution_count": 67
        }
      ],
      "source": [
        "numeric =list( data.describe().columns.drop(bool_col))\n",
        "numeric"
      ]
    },
    {
      "cell_type": "code",
      "execution_count": 68,
      "metadata": {
        "id": "zz8r-E04rTlz"
      },
      "outputs": [],
      "source": [
        "def find_outliers_iqr(data):\n",
        "    outliers= []\n",
        "    for col in data.columns:\n",
        "        Q1 = data[col].quantile(0.25)\n",
        "        Q3 = data[col].quantile(0.75)\n",
        "        IQR = Q3 - Q1\n",
        "        lower_bound = Q1 - (1.5 * IQR)\n",
        "        upper_bound = Q3 + (1.5 * IQR)\n",
        "        if (data[col] < lower_bound).any() | (data[col] > upper_bound).any():\n",
        "            outliers.append(col)\n",
        "    return outliers"
      ]
    },
    {
      "cell_type": "code",
      "execution_count": 69,
      "metadata": {
        "colab": {
          "base_uri": "https://localhost:8080/"
        },
        "id": "dQbwYV8-rTl0",
        "outputId": "4628a4c7-8c5d-47b2-a1f7-de669b42a67e"
      },
      "outputs": [
        {
          "output_type": "execute_result",
          "data": {
            "text/plain": [
              "['Booking Value', 'Driver Ratings', 'Customer Rating']"
            ]
          },
          "metadata": {},
          "execution_count": 69
        }
      ],
      "source": [
        "outliers_columns= find_outliers_iqr(data[numeric])\n",
        "outliers_columns"
      ]
    },
    {
      "cell_type": "code",
      "execution_count": 70,
      "metadata": {
        "id": "o-m9u44yrTl0"
      },
      "outputs": [],
      "source": [
        "def outliers_values(data, col):\n",
        "    Q1 = data[col].quantile(0.25)\n",
        "    Q3 = data[col].quantile(0.75)\n",
        "    IQR = Q3 - Q1\n",
        "    lower_bound = Q1 - (1.5 * IQR)\n",
        "    upper_bound = Q3 + (1.5 * IQR)\n",
        "\n",
        "    outliers = data[(data[col] < lower_bound) | (data[col] > upper_bound)][col]\n",
        "    return outliers"
      ]
    },
    {
      "cell_type": "code",
      "execution_count": 71,
      "metadata": {
        "id": "yOoiEQe_rTl1"
      },
      "outputs": [],
      "source": [
        "def get_bounds(data, col):\n",
        "    Q1 = data[col].quantile(0.25)\n",
        "    Q3 = data[col].quantile(0.75)\n",
        "    IQR = Q3 - Q1\n",
        "    lower_bound = Q1 - (1.5 * IQR)\n",
        "    upper_bound = Q3 + (1.5 * IQR)\n",
        "    return lower_bound, upper_bound"
      ]
    },
    {
      "cell_type": "markdown",
      "metadata": {
        "id": "HoFgWKHNrTmL"
      },
      "source": [
        "#### Driver Ratings"
      ]
    },
    {
      "cell_type": "code",
      "execution_count": 72,
      "metadata": {
        "colab": {
          "base_uri": "https://localhost:8080/",
          "height": 448
        },
        "id": "PSMgrTdQrTmO",
        "outputId": "13b8a8e3-2689-40c0-8396-29309631de00"
      },
      "outputs": [
        {
          "output_type": "execute_result",
          "data": {
            "text/plain": [
              "<Axes: >"
            ]
          },
          "metadata": {},
          "execution_count": 72
        },
        {
          "output_type": "display_data",
          "data": {
            "text/plain": [
              "<Figure size 640x480 with 1 Axes>"
            ],
            "image/png": "[encoded data removed]"
          },
          "metadata": {}
        }
      ],
      "source": [
        "data['Driver Ratings'].hist()"
      ]
    },
    {
      "cell_type": "code",
      "execution_count": 73,
      "metadata": {
        "colab": {
          "base_uri": "https://localhost:8080/"
        },
        "id": "aR4D_WHnrTmR",
        "outputId": "1b99545b-4571-4afe-876c-8e4d1a90c4eb"
      },
      "outputs": [
        {
          "output_type": "execute_result",
          "data": {
            "text/plain": [
              "5162"
            ]
          },
          "metadata": {},
          "execution_count": 73
        }
      ],
      "source": [
        "outlier = outliers_values(data, 'Driver Ratings')\n",
        "len(outlier)"
      ]
    },
    {
      "cell_type": "code",
      "execution_count": 74,
      "metadata": {
        "colab": {
          "base_uri": "https://localhost:8080/",
          "height": 241
        },
        "id": "daRLfoW9rTmT",
        "outputId": "0af7f8bf-8601-4405-e8fb-7dad576d32f7"
      },
      "outputs": [
        {
          "output_type": "execute_result",
          "data": {
            "text/plain": [
              "Driver Ratings\n",
              "3.0     740\n",
              "3.1    1445\n",
              "3.2    1530\n",
              "3.3    1447\n",
              "Name: count, dtype: int64"
            ],
            "text/html": [
              "<div>\n",
              "<style scoped>\n",
              "    .dataframe tbody tr th:only-of-type {\n",
              "        vertical-align: middle;\n",
              "    }\n",
              "\n",
              "    .dataframe tbody tr th {\n",
              "        vertical-align: top;\n",
              "    }\n",
              "\n",
              "    .dataframe thead th {\n",
              "        text-align: right;\n",
              "    }\n",
              "</style>\n",
              "<table border=\"1\" class=\"dataframe\">\n",
              "  <thead>\n",
              "    <tr style=\"text-align: right;\">\n",
              "      <th></th>\n",
              "      <th>count</th>\n",
              "    </tr>\n",
              "    <tr>\n",
              "      <th>Driver Ratings</th>\n",
              "      <th></th>\n",
              "    </tr>\n",
              "  </thead>\n",
              "  <tbody>\n",
              "    <tr>\n",
              "      <th>3.0</th>\n",
              "      <td>740</td>\n",
              "    </tr>\n",
              "    <tr>\n",
              "      <th>3.1</th>\n",
              "      <td>1445</td>\n",
              "    </tr>\n",
              "    <tr>\n",
              "      <th>3.2</th>\n",
              "      <td>1530</td>\n",
              "    </tr>\n",
              "    <tr>\n",
              "      <th>3.3</th>\n",
              "      <td>1447</td>\n",
              "    </tr>\n",
              "  </tbody>\n",
              "</table>\n",
              "</div><br><label><b>dtype:</b> int64</label>"
            ]
          },
          "metadata": {},
          "execution_count": 74
        }
      ],
      "source": [
        "outlier.value_counts().sort_index()"
      ]
    },
    {
      "cell_type": "code",
      "execution_count": 75,
      "metadata": {
        "colab": {
          "base_uri": "https://localhost:8080/"
        },
        "id": "-2B00cpHrTmV",
        "outputId": "ada28a47-c247-4f4a-a2c1-cfe9fdc57f5e"
      },
      "outputs": [
        {
          "output_type": "execute_result",
          "data": {
            "text/plain": [
              "np.float64(3.3499999999999996)"
            ]
          },
          "metadata": {},
          "execution_count": 75
        }
      ],
      "source": [
        "lower, upper= get_bounds(data, 'Driver Ratings')\n",
        "lower"
      ]
    },
    {
      "cell_type": "code",
      "execution_count": 76,
      "metadata": {
        "colab": {
          "base_uri": "https://localhost:8080/"
        },
        "id": "Li7Xtq59GXod",
        "outputId": "e2cad472-c09d-4927-f304-f19c32074740"
      },
      "outputs": [
        {
          "output_type": "execute_result",
          "data": {
            "text/plain": [
              "array(['No Driver Found', 'Incomplete', 'Completed',\n",
              "       'Cancelled by Driver', 'Cancelled by Customer'], dtype=object)"
            ]
          },
          "metadata": {},
          "execution_count": 76
        }
      ],
      "source": [
        "data['Booking Status'].unique()"
      ]
    },
    {
      "cell_type": "code",
      "execution_count": 77,
      "metadata": {
        "id": "p1vv17EbrTmW"
      },
      "outputs": [],
      "source": [
        "## Capping values\n",
        "data['Driver Ratings']= data['Driver Ratings'].replace([3.0, 3.1, 3.2, 3.3] ,lower)"
      ]
    },
    {
      "cell_type": "code",
      "execution_count": 78,
      "metadata": {
        "colab": {
          "base_uri": "https://localhost:8080/",
          "height": 429
        },
        "id": "YSCo284brTmW",
        "outputId": "f4d7e9a4-23c7-402f-e07a-f3aeffedb3cd"
      },
      "outputs": [
        {
          "output_type": "execute_result",
          "data": {
            "text/plain": [
              "<Axes: ylabel='Driver Ratings'>"
            ]
          },
          "metadata": {},
          "execution_count": 78
        },
        {
          "output_type": "display_data",
          "data": {
            "text/plain": [
              "<Figure size 640x480 with 1 Axes>"
            ],
            "image/png": "[encoded data removed]"
          },
          "metadata": {}
        }
      ],
      "source": [
        "sns.boxplot(data= data['Driver Ratings'])"
      ]
    },
    {
      "cell_type": "markdown",
      "metadata": {
        "id": "pb24u4IIrTmX"
      },
      "source": [
        "#### Customer Rating"
      ]
    },
    {
      "cell_type": "code",
      "execution_count": 79,
      "metadata": {
        "colab": {
          "base_uri": "https://localhost:8080/",
          "height": 448
        },
        "id": "7N2_nixsrTmX",
        "outputId": "ca14facd-08b0-4c4e-9a75-ec3d6525ff65"
      },
      "outputs": [
        {
          "output_type": "execute_result",
          "data": {
            "text/plain": [
              "<Axes: >"
            ]
          },
          "metadata": {},
          "execution_count": 79
        },
        {
          "output_type": "display_data",
          "data": {
            "text/plain": [
              "<Figure size 640x480 with 1 Axes>"
            ],
            "image/png": "[encoded data removed]"
          },
          "metadata": {}
        }
      ],
      "source": [
        "data['Customer Rating'].hist()"
      ]
    },
    {
      "cell_type": "code",
      "execution_count": 80,
      "metadata": {
        "colab": {
          "base_uri": "https://localhost:8080/"
        },
        "id": "XpFck341rTmX",
        "outputId": "f32e3912-f2d5-4643-8f47-4b880c243f59"
      },
      "outputs": [
        {
          "output_type": "execute_result",
          "data": {
            "text/plain": [
              "3237"
            ]
          },
          "metadata": {},
          "execution_count": 80
        }
      ],
      "source": [
        "outlier = outliers_values(data, 'Customer Rating')\n",
        "len(outlier)"
      ]
    },
    {
      "cell_type": "code",
      "execution_count": 81,
      "metadata": {
        "colab": {
          "base_uri": "https://localhost:8080/",
          "height": 241
        },
        "id": "urEWoJYdrTmY",
        "outputId": "8f171bbb-26cc-4e28-8a4a-9d5aee58312a"
      },
      "outputs": [
        {
          "output_type": "execute_result",
          "data": {
            "text/plain": [
              "Customer Rating\n",
              "3.1    999\n",
              "3.3    898\n",
              "3.2    873\n",
              "3.0    467\n",
              "Name: count, dtype: int64"
            ],
            "text/html": [
              "<div>\n",
              "<style scoped>\n",
              "    .dataframe tbody tr th:only-of-type {\n",
              "        vertical-align: middle;\n",
              "    }\n",
              "\n",
              "    .dataframe tbody tr th {\n",
              "        vertical-align: top;\n",
              "    }\n",
              "\n",
              "    .dataframe thead th {\n",
              "        text-align: right;\n",
              "    }\n",
              "</style>\n",
              "<table border=\"1\" class=\"dataframe\">\n",
              "  <thead>\n",
              "    <tr style=\"text-align: right;\">\n",
              "      <th></th>\n",
              "      <th>count</th>\n",
              "    </tr>\n",
              "    <tr>\n",
              "      <th>Customer Rating</th>\n",
              "      <th></th>\n",
              "    </tr>\n",
              "  </thead>\n",
              "  <tbody>\n",
              "    <tr>\n",
              "      <th>3.1</th>\n",
              "      <td>999</td>\n",
              "    </tr>\n",
              "    <tr>\n",
              "      <th>3.3</th>\n",
              "      <td>898</td>\n",
              "    </tr>\n",
              "    <tr>\n",
              "      <th>3.2</th>\n",
              "      <td>873</td>\n",
              "    </tr>\n",
              "    <tr>\n",
              "      <th>3.0</th>\n",
              "      <td>467</td>\n",
              "    </tr>\n",
              "  </tbody>\n",
              "</table>\n",
              "</div><br><label><b>dtype:</b> int64</label>"
            ]
          },
          "metadata": {},
          "execution_count": 81
        }
      ],
      "source": [
        "outlier.value_counts()"
      ]
    },
    {
      "cell_type": "code",
      "execution_count": 82,
      "metadata": {
        "colab": {
          "base_uri": "https://localhost:8080/"
        },
        "id": "pJNO5F-lrTmY",
        "outputId": "ba9392df-3f83-4eab-d2f0-d78c81e822a7"
      },
      "outputs": [
        {
          "output_type": "execute_result",
          "data": {
            "text/plain": [
              "np.float64(3.3000000000000007)"
            ]
          },
          "metadata": {},
          "execution_count": 82
        }
      ],
      "source": [
        "lower, upper= get_bounds(data, 'Customer Rating')\n",
        "lower"
      ]
    },
    {
      "cell_type": "code",
      "execution_count": 83,
      "metadata": {
        "id": "9rfgQt64rTmZ"
      },
      "outputs": [],
      "source": [
        "## Capping values\n",
        "data['Customer Rating']= data['Customer Rating'].replace([3.0, 3.1, 3.2, 3.3] ,lower)"
      ]
    },
    {
      "cell_type": "code",
      "execution_count": 84,
      "metadata": {
        "colab": {
          "base_uri": "https://localhost:8080/",
          "height": 429
        },
        "id": "kD2D9-FcrTmb",
        "outputId": "8928a93d-1297-4508-a4dc-1fe75ae785d7"
      },
      "outputs": [
        {
          "output_type": "execute_result",
          "data": {
            "text/plain": [
              "<Axes: ylabel='Customer Rating'>"
            ]
          },
          "metadata": {},
          "execution_count": 84
        },
        {
          "output_type": "display_data",
          "data": {
            "text/plain": [
              "<Figure size 640x480 with 1 Axes>"
            ],
            "image/png": "[encoded data removed]"
          },
          "metadata": {}
        }
      ],
      "source": [
        "sns.boxplot(data= data['Customer Rating'])"
      ]
    },
    {
      "cell_type": "markdown",
      "metadata": {
        "id": "lFSGMRBFrTme"
      },
      "source": [
        "#### Booking Value"
      ]
    },
    {
      "cell_type": "code",
      "execution_count": 85,
      "metadata": {
        "colab": {
          "base_uri": "https://localhost:8080/",
          "height": 335
        },
        "id": "52ulIOuXrTmg",
        "outputId": "37b79733-4b26-42ba-d109-efd1367868be"
      },
      "outputs": [
        {
          "output_type": "execute_result",
          "data": {
            "text/plain": [
              "count    101175.000000\n",
              "mean        508.290230\n",
              "std         395.913208\n",
              "min          50.000000\n",
              "25%         234.000000\n",
              "50%         414.000000\n",
              "75%         689.000000\n",
              "max        4277.000000\n",
              "Name: Booking Value, dtype: float64"
            ],
            "text/html": [
              "<div>\n",
              "<style scoped>\n",
              "    .dataframe tbody tr th:only-of-type {\n",
              "        vertical-align: middle;\n",
              "    }\n",
              "\n",
              "    .dataframe tbody tr th {\n",
              "        vertical-align: top;\n",
              "    }\n",
              "\n",
              "    .dataframe thead th {\n",
              "        text-align: right;\n",
              "    }\n",
              "</style>\n",
              "<table border=\"1\" class=\"dataframe\">\n",
              "  <thead>\n",
              "    <tr style=\"text-align: right;\">\n",
              "      <th></th>\n",
              "      <th>Booking Value</th>\n",
              "    </tr>\n",
              "  </thead>\n",
              "  <tbody>\n",
              "    <tr>\n",
              "      <th>count</th>\n",
              "      <td>101175.000000</td>\n",
              "    </tr>\n",
              "    <tr>\n",
              "      <th>mean</th>\n",
              "      <td>508.290230</td>\n",
              "    </tr>\n",
              "    <tr>\n",
              "      <th>std</th>\n",
              "      <td>395.913208</td>\n",
              "    </tr>\n",
              "    <tr>\n",
              "      <th>min</th>\n",
              "      <td>50.000000</td>\n",
              "    </tr>\n",
              "    <tr>\n",
              "      <th>25%</th>\n",
              "      <td>234.000000</td>\n",
              "    </tr>\n",
              "    <tr>\n",
              "      <th>50%</th>\n",
              "      <td>414.000000</td>\n",
              "    </tr>\n",
              "    <tr>\n",
              "      <th>75%</th>\n",
              "      <td>689.000000</td>\n",
              "    </tr>\n",
              "    <tr>\n",
              "      <th>max</th>\n",
              "      <td>4277.000000</td>\n",
              "    </tr>\n",
              "  </tbody>\n",
              "</table>\n",
              "</div><br><label><b>dtype:</b> float64</label>"
            ]
          },
          "metadata": {},
          "execution_count": 85
        }
      ],
      "source": [
        "data['Booking Value'].describe()"
      ]
    },
    {
      "cell_type": "code",
      "execution_count": 86,
      "metadata": {
        "colab": {
          "base_uri": "https://localhost:8080/",
          "height": 448
        },
        "id": "cG_2DbiUrTmi",
        "outputId": "0d698e31-c216-46be-cacd-f26cec1d0dac"
      },
      "outputs": [
        {
          "output_type": "execute_result",
          "data": {
            "text/plain": [
              "<Axes: >"
            ]
          },
          "metadata": {},
          "execution_count": 86
        },
        {
          "output_type": "display_data",
          "data": {
            "text/plain": [
              "<Figure size 640x480 with 1 Axes>"
            ],
            "image/png": "[encoded data removed]"
          },
          "metadata": {}
        }
      ],
      "source": [
        "data['Booking Value'].hist()"
      ]
    },
    {
      "cell_type": "code",
      "execution_count": 87,
      "metadata": {
        "colab": {
          "base_uri": "https://localhost:8080/",
          "height": 429
        },
        "id": "EEU_cfWQrTmi",
        "outputId": "12bfe933-5f6b-4d7c-db0a-f0febb21606f"
      },
      "outputs": [
        {
          "output_type": "execute_result",
          "data": {
            "text/plain": [
              "<Axes: ylabel='Booking Value'>"
            ]
          },
          "metadata": {},
          "execution_count": 87
        },
        {
          "output_type": "display_data",
          "data": {
            "text/plain": [
              "<Figure size 640x480 with 1 Axes>"
            ],
            "image/png": "[encoded data removed]"
          },
          "metadata": {}
        }
      ],
      "source": [
        "sns.boxplot(data= data['Booking Value'])"
      ]
    },
    {
      "cell_type": "code",
      "execution_count": 88,
      "metadata": {
        "colab": {
          "base_uri": "https://localhost:8080/"
        },
        "id": "Uc6Ur8_YrTmm",
        "outputId": "2da1bc35-6793-4711-bbee-28745db28295"
      },
      "outputs": [
        {
          "output_type": "execute_result",
          "data": {
            "text/plain": [
              "3410"
            ]
          },
          "metadata": {},
          "execution_count": 88
        }
      ],
      "source": [
        "outlier = outliers_values(data, 'Booking Value')\n",
        "len(outlier)"
      ]
    },
    {
      "cell_type": "code",
      "execution_count": 89,
      "metadata": {
        "colab": {
          "base_uri": "https://localhost:8080/",
          "height": 490
        },
        "id": "1YyxIvKyrTmo",
        "outputId": "a7c5fe05-dc28-4ba0-c147-00020a3900e4"
      },
      "outputs": [
        {
          "output_type": "execute_result",
          "data": {
            "text/plain": [
              "Booking Value\n",
              "1889.0     1\n",
              "2430.0     1\n",
              "1487.0     1\n",
              "2805.0     1\n",
              "2838.0     1\n",
              "          ..\n",
              "1395.0    13\n",
              "1394.0    13\n",
              "1429.0    13\n",
              "1410.0    16\n",
              "1388.0    16\n",
              "Name: count, Length: 1239, dtype: int64"
            ],
            "text/html": [
              "<div>\n",
              "<style scoped>\n",
              "    .dataframe tbody tr th:only-of-type {\n",
              "        vertical-align: middle;\n",
              "    }\n",
              "\n",
              "    .dataframe tbody tr th {\n",
              "        vertical-align: top;\n",
              "    }\n",
              "\n",
              "    .dataframe thead th {\n",
              "        text-align: right;\n",
              "    }\n",
              "</style>\n",
              "<table border=\"1\" class=\"dataframe\">\n",
              "  <thead>\n",
              "    <tr style=\"text-align: right;\">\n",
              "      <th></th>\n",
              "      <th>count</th>\n",
              "    </tr>\n",
              "    <tr>\n",
              "      <th>Booking Value</th>\n",
              "      <th></th>\n",
              "    </tr>\n",
              "  </thead>\n",
              "  <tbody>\n",
              "    <tr>\n",
              "      <th>1889.0</th>\n",
              "      <td>1</td>\n",
              "    </tr>\n",
              "    <tr>\n",
              "      <th>2430.0</th>\n",
              "      <td>1</td>\n",
              "    </tr>\n",
              "    <tr>\n",
              "      <th>1487.0</th>\n",
              "      <td>1</td>\n",
              "    </tr>\n",
              "    <tr>\n",
              "      <th>2805.0</th>\n",
              "      <td>1</td>\n",
              "    </tr>\n",
              "    <tr>\n",
              "      <th>2838.0</th>\n",
              "      <td>1</td>\n",
              "    </tr>\n",
              "    <tr>\n",
              "      <th>...</th>\n",
              "      <td>...</td>\n",
              "    </tr>\n",
              "    <tr>\n",
              "      <th>1395.0</th>\n",
              "      <td>13</td>\n",
              "    </tr>\n",
              "    <tr>\n",
              "      <th>1394.0</th>\n",
              "      <td>13</td>\n",
              "    </tr>\n",
              "    <tr>\n",
              "      <th>1429.0</th>\n",
              "      <td>13</td>\n",
              "    </tr>\n",
              "    <tr>\n",
              "      <th>1410.0</th>\n",
              "      <td>16</td>\n",
              "    </tr>\n",
              "    <tr>\n",
              "      <th>1388.0</th>\n",
              "      <td>16</td>\n",
              "    </tr>\n",
              "  </tbody>\n",
              "</table>\n",
              "<p>1239 rows × 1 columns</p>\n",
              "</div><br><label><b>dtype:</b> int64</label>"
            ]
          },
          "metadata": {},
          "execution_count": 89
        }
      ],
      "source": [
        "outlier.value_counts().sort_values()"
      ]
    },
    {
      "cell_type": "code",
      "execution_count": 90,
      "metadata": {
        "colab": {
          "base_uri": "https://localhost:8080/"
        },
        "id": "gCGEt257rTmr",
        "outputId": "3d8b2206-b1ab-4dda-be54-c653601b6f16"
      },
      "outputs": [
        {
          "output_type": "execute_result",
          "data": {
            "text/plain": [
              "np.float64(1371.5)"
            ]
          },
          "metadata": {},
          "execution_count": 90
        }
      ],
      "source": [
        "lower, upper= get_bounds(data, 'Booking Value')\n",
        "upper"
      ]
    },
    {
      "cell_type": "code",
      "execution_count": 91,
      "metadata": {
        "colab": {
          "base_uri": "https://localhost:8080/"
        },
        "id": "bPkEMCTjrTmu",
        "outputId": "3524f728-567b-4e3a-c86c-8f61b6f030b5"
      },
      "outputs": [
        {
          "output_type": "execute_result",
          "data": {
            "text/plain": [
              "4277.0"
            ]
          },
          "metadata": {},
          "execution_count": 91
        }
      ],
      "source": [
        "data['Booking Value'].max()"
      ]
    },
    {
      "cell_type": "code",
      "execution_count": 92,
      "metadata": {
        "id": "taC6FlU-rTmw"
      },
      "outputs": [],
      "source": [
        "high_fare= completed_status[completed_status['Booking Value'] > upper]\n",
        "normal_fare= completed_status[completed_status['Booking Value'] <= upper]"
      ]
    },
    {
      "cell_type": "code",
      "execution_count": 93,
      "metadata": {
        "colab": {
          "base_uri": "https://localhost:8080/"
        },
        "id": "zUbOJTezrTmy",
        "outputId": "4301ff60-42c4-4e4d-93ad-daa3200037ae"
      },
      "outputs": [
        {
          "output_type": "stream",
          "name": "stdout",
          "text": [
            "Normal Booking Values Ride Distance Mean:  25.99671804536582\n",
            "High Booking Values Ride Distance Mean:  26.234500965872506\n"
          ]
        }
      ],
      "source": [
        "print('Normal Booking Values Ride Distance Mean: ', normal_fare['Ride Distance'].mean())\n",
        "print('High Booking Values Ride Distance Mean: ',high_fare['Ride Distance'].mean())"
      ]
    },
    {
      "cell_type": "code",
      "execution_count": 94,
      "metadata": {
        "colab": {
          "base_uri": "https://localhost:8080/"
        },
        "id": "8XDkGR6vrTm0",
        "outputId": "0fd4fe5a-3070-4f8c-cb92-5c68a692619c"
      },
      "outputs": [
        {
          "output_type": "stream",
          "name": "stdout",
          "text": [
            "Normal Booking Values Most Vehicle:  Auto\n",
            "High Booking Values Most Vehicle:  Auto\n"
          ]
        }
      ],
      "source": [
        "print('Normal Booking Values Most Vehicle: ', normal_fare['Vehicle Type'].mode()[0])\n",
        "print('High Booking Values Most Vehicle: ',high_fare['Vehicle Type'].mode()[0])"
      ]
    },
    {
      "cell_type": "code",
      "execution_count": 95,
      "metadata": {
        "colab": {
          "base_uri": "https://localhost:8080/"
        },
        "id": "60Bp643mrTm1",
        "outputId": "8e430965-7319-473c-f0c0-af11838238b8"
      },
      "outputs": [
        {
          "output_type": "stream",
          "name": "stdout",
          "text": [
            "Normal Booking Values Driver Rating:  4.230756545736017\n",
            "High Booking Values Driver Rating:  4.230746941403735\n"
          ]
        }
      ],
      "source": [
        "print('Normal Booking Values Driver Rating: ', normal_fare['Driver Ratings'].mean())\n",
        "print('High Booking Values Driver Rating: ',high_fare['Driver Ratings'].mean())"
      ]
    },
    {
      "cell_type": "code",
      "execution_count": 96,
      "metadata": {
        "id": "hHMIeeKSrTm1"
      },
      "outputs": [],
      "source": [
        "data['Booking Value'] = np.log1p(data['Booking Value'])"
      ]
    },
    {
      "cell_type": "code",
      "execution_count": 97,
      "metadata": {
        "colab": {
          "base_uri": "https://localhost:8080/",
          "height": 448
        },
        "id": "4BGoIjuTrTm1",
        "outputId": "fba03908-1454-4e71-a4e6-00a986a24ec8"
      },
      "outputs": [
        {
          "output_type": "execute_result",
          "data": {
            "text/plain": [
              "<Axes: >"
            ]
          },
          "metadata": {},
          "execution_count": 97
        },
        {
          "output_type": "display_data",
          "data": {
            "text/plain": [
              "<Figure size 640x480 with 1 Axes>"
            ],
            "image/png": "[encoded data removed]"
          },
          "metadata": {}
        }
      ],
      "source": [
        "data['Booking Value'].hist()"
      ]
    },
    {
      "cell_type": "code",
      "execution_count": 98,
      "metadata": {
        "colab": {
          "base_uri": "https://localhost:8080/",
          "height": 429
        },
        "id": "W8lVJC-RrTm1",
        "outputId": "e2f922ef-c41f-49d0-8ae6-6deeb8bf25b9"
      },
      "outputs": [
        {
          "output_type": "execute_result",
          "data": {
            "text/plain": [
              "<Axes: ylabel='Booking Value'>"
            ]
          },
          "metadata": {},
          "execution_count": 98
        },
        {
          "output_type": "display_data",
          "data": {
            "text/plain": [
              "<Figure size 640x480 with 1 Axes>"
            ],
            "image/png": "[encoded data removed]"
          },
          "metadata": {}
        }
      ],
      "source": [
        "sns.boxplot(data['Booking Value'])"
      ]
    },
    {
      "cell_type": "markdown",
      "metadata": {
        "id": "uSfDJvQZrTm5"
      },
      "source": [
        "## Correlation Check"
      ]
    },
    {
      "cell_type": "code",
      "execution_count": 99,
      "metadata": {
        "colab": {
          "base_uri": "https://localhost:8080/",
          "height": 802
        },
        "id": "ayTBMZbQrTm6",
        "outputId": "a3bba6c4-1eb5-40e4-e934-4357623c68cb"
      },
      "outputs": [
        {
          "output_type": "execute_result",
          "data": {
            "text/plain": [
              "<Axes: >"
            ]
          },
          "metadata": {},
          "execution_count": 99
        },
        {
          "output_type": "display_data",
          "data": {
            "text/plain": [
              "<Figure size 1000x800 with 2 Axes>"
            ],
            "image/png": "[encoded data removed]"
          },
          "metadata": {}
        }
      ],
      "source": [
        "plt.figure(figsize= (10, 8))\n",
        "sns.heatmap(data= data[numeric].corr(), cmap= 'coolwarm', annot= True)"
      ]
    },
    {
      "cell_type": "markdown",
      "metadata": {
        "id": "ea1eOJmCGXol"
      },
      "source": [
        "# Machine Learning"
      ]
    },
    {
      "cell_type": "markdown",
      "metadata": {
        "id": "I6KKlflYGXol"
      },
      "source": [
        "Every cancelled ride is lost revenue and wasted time\n",
        "\n",
        "By predicting ride cancellations before they happen, ride-hailing platforms can:\n",
        "\n",
        "- Improve customer experience\n",
        "- Minimize lost revenue"
      ]
    },
    {
      "cell_type": "code",
      "execution_count": 100,
      "metadata": {
        "colab": {
          "base_uri": "https://localhost:8080/"
        },
        "id": "6BOJhtERGXol",
        "outputId": "a22f78af-4d8e-499e-e96a-0c1b6424e945"
      },
      "outputs": [
        {
          "output_type": "execute_result",
          "data": {
            "text/plain": [
              "array(['No Driver Found', 'Incomplete', 'Completed',\n",
              "       'Cancelled by Driver', 'Cancelled by Customer'], dtype=object)"
            ]
          },
          "metadata": {},
          "execution_count": 100
        }
      ],
      "source": [
        "data['Booking Status'].unique()"
      ]
    },
    {
      "cell_type": "code",
      "execution_count": 101,
      "metadata": {
        "colab": {
          "base_uri": "https://localhost:8080/",
          "height": 178
        },
        "id": "8l9Vv1TBGXom",
        "outputId": "e384a6f1-ded8-454e-ea6a-5ec529586d51"
      },
      "outputs": [
        {
          "output_type": "execute_result",
          "data": {
            "text/plain": [
              "is_cancelled\n",
              "0    92248\n",
              "1    56519\n",
              "Name: count, dtype: int64"
            ],
            "text/html": [
              "<div>\n",
              "<style scoped>\n",
              "    .dataframe tbody tr th:only-of-type {\n",
              "        vertical-align: middle;\n",
              "    }\n",
              "\n",
              "    .dataframe tbody tr th {\n",
              "        vertical-align: top;\n",
              "    }\n",
              "\n",
              "    .dataframe thead th {\n",
              "        text-align: right;\n",
              "    }\n",
              "</style>\n",
              "<table border=\"1\" class=\"dataframe\">\n",
              "  <thead>\n",
              "    <tr style=\"text-align: right;\">\n",
              "      <th></th>\n",
              "      <th>count</th>\n",
              "    </tr>\n",
              "    <tr>\n",
              "      <th>is_cancelled</th>\n",
              "      <th></th>\n",
              "    </tr>\n",
              "  </thead>\n",
              "  <tbody>\n",
              "    <tr>\n",
              "      <th>0</th>\n",
              "      <td>92248</td>\n",
              "    </tr>\n",
              "    <tr>\n",
              "      <th>1</th>\n",
              "      <td>56519</td>\n",
              "    </tr>\n",
              "  </tbody>\n",
              "</table>\n",
              "</div><br><label><b>dtype:</b> int64</label>"
            ]
          },
          "metadata": {},
          "execution_count": 101
        }
      ],
      "source": [
        "data['is_cancelled'] = data['Booking Status'].apply(\n",
        "    lambda x: 0 if x == 'Completed' else 1\n",
        ")\n",
        "data['is_cancelled'].value_counts()"
      ]
    },
    {
      "cell_type": "code",
      "execution_count": 102,
      "metadata": {
        "colab": {
          "base_uri": "https://localhost:8080/",
          "height": 458
        },
        "id": "A5e7JShQGXon",
        "outputId": "1f3754fb-14c9-47a1-eab6-01e54a3ca635"
      },
      "outputs": [
        {
          "output_type": "execute_result",
          "data": {
            "text/plain": [
              "0         1\n",
              "1         1\n",
              "2         0\n",
              "3         0\n",
              "4         0\n",
              "         ..\n",
              "149995    0\n",
              "149996    0\n",
              "149997    0\n",
              "149998    0\n",
              "149999    0\n",
              "Name: is_cancelled, Length: 148767, dtype: int64"
            ],
            "text/html": [
              "<div>\n",
              "<style scoped>\n",
              "    .dataframe tbody tr th:only-of-type {\n",
              "        vertical-align: middle;\n",
              "    }\n",
              "\n",
              "    .dataframe tbody tr th {\n",
              "        vertical-align: top;\n",
              "    }\n",
              "\n",
              "    .dataframe thead th {\n",
              "        text-align: right;\n",
              "    }\n",
              "</style>\n",
              "<table border=\"1\" class=\"dataframe\">\n",
              "  <thead>\n",
              "    <tr style=\"text-align: right;\">\n",
              "      <th></th>\n",
              "      <th>is_cancelled</th>\n",
              "    </tr>\n",
              "  </thead>\n",
              "  <tbody>\n",
              "    <tr>\n",
              "      <th>0</th>\n",
              "      <td>1</td>\n",
              "    </tr>\n",
              "    <tr>\n",
              "      <th>1</th>\n",
              "      <td>1</td>\n",
              "    </tr>\n",
              "    <tr>\n",
              "      <th>2</th>\n",
              "      <td>0</td>\n",
              "    </tr>\n",
              "    <tr>\n",
              "      <th>3</th>\n",
              "      <td>0</td>\n",
              "    </tr>\n",
              "    <tr>\n",
              "      <th>4</th>\n",
              "      <td>0</td>\n",
              "    </tr>\n",
              "    <tr>\n",
              "      <th>...</th>\n",
              "      <td>...</td>\n",
              "    </tr>\n",
              "    <tr>\n",
              "      <th>149995</th>\n",
              "      <td>0</td>\n",
              "    </tr>\n",
              "    <tr>\n",
              "      <th>149996</th>\n",
              "      <td>0</td>\n",
              "    </tr>\n",
              "    <tr>\n",
              "      <th>149997</th>\n",
              "      <td>0</td>\n",
              "    </tr>\n",
              "    <tr>\n",
              "      <th>149998</th>\n",
              "      <td>0</td>\n",
              "    </tr>\n",
              "    <tr>\n",
              "      <th>149999</th>\n",
              "      <td>0</td>\n",
              "    </tr>\n",
              "  </tbody>\n",
              "</table>\n",
              "<p>148767 rows × 1 columns</p>\n",
              "</div><br><label><b>dtype:</b> int64</label>"
            ]
          },
          "metadata": {},
          "execution_count": 102
        }
      ],
      "source": [
        "data['is_cancelled']"
      ]
    },
    {
      "cell_type": "code",
      "execution_count": 103,
      "metadata": {
        "id": "PHttXdu2GXon"
      },
      "outputs": [],
      "source": [
        "features = [\n",
        "    'Vehicle Type', 'Pickup Location', 'Drop Location', 'Month', 'Day',\n",
        "    'Hour', 'Is Weekend', 'time_of_day', 'Avg VTAT', 'Avg CTAT'\n",
        "]"
      ]
    },
    {
      "cell_type": "code",
      "execution_count": 104,
      "metadata": {
        "id": "swn1Oh0dGXon"
      },
      "outputs": [],
      "source": [
        "X = data[features]\n",
        "y = data['is_cancelled']"
      ]
    },
    {
      "cell_type": "code",
      "execution_count": 105,
      "metadata": {
        "colab": {
          "base_uri": "https://localhost:8080/",
          "height": 206
        },
        "id": "03_RJW1Pw6Vb",
        "outputId": "bc81ac98-3d66-4612-efb2-e3b80371fbf8"
      },
      "outputs": [
        {
          "output_type": "execute_result",
          "data": {
            "text/plain": [
              "    Vehicle Type      Pickup Location      Drop Location time_of_day\n",
              "0          eBike          Palam Vihar            Jhilmil     Morning\n",
              "1       Go Sedan        Shastri Nagar  Gurgaon Sector 56   Afternoon\n",
              "2           Auto              Khandsa      Malviya Nagar     Morning\n",
              "3  Premier Sedan  Central Secretariat           Inderlok   Afternoon\n",
              "4           Bike     Ghitorni Village        Khan Market     Evening"
            ],
            "text/html": [
              "\n",
              "  <div id=\"df-f4710b8e-df5b-402a-8b75-fa840ae00d6c\" class=\"colab-df-container\">\n",
              "    <div>\n",
              "<style scoped>\n",
              "    .dataframe tbody tr th:only-of-type {\n",
              "        vertical-align: middle;\n",
              "    }\n",
              "\n",
              "    .dataframe tbody tr th {\n",
              "        vertical-align: top;\n",
              "    }\n",
              "\n",
              "    .dataframe thead th {\n",
              "        text-align: right;\n",
              "    }\n",
              "</style>\n",
              "<table border=\"1\" class=\"dataframe\">\n",
              "  <thead>\n",
              "    <tr style=\"text-align: right;\">\n",
              "      <th></th>\n",
              "      <th>Vehicle Type</th>\n",
              "      <th>Pickup Location</th>\n",
              "      <th>Drop Location</th>\n",
              "      <th>time_of_day</th>\n",
              "    </tr>\n",
              "  </thead>\n",
              "  <tbody>\n",
              "    <tr>\n",
              "      <th>0</th>\n",
              "      <td>eBike</td>\n",
              "      <td>Palam Vihar</td>\n",
              "      <td>Jhilmil</td>\n",
              "      <td>Morning</td>\n",
              "    </tr>\n",
              "    <tr>\n",
              "      <th>1</th>\n",
              "      <td>Go Sedan</td>\n",
              "      <td>Shastri Nagar</td>\n",
              "      <td>Gurgaon Sector 56</td>\n",
              "      <td>Afternoon</td>\n",
              "    </tr>\n",
              "    <tr>\n",
              "      <th>2</th>\n",
              "      <td>Auto</td>\n",
              "      <td>Khandsa</td>\n",
              "      <td>Malviya Nagar</td>\n",
              "      <td>Morning</td>\n",
              "    </tr>\n",
              "    <tr>\n",
              "      <th>3</th>\n",
              "      <td>Premier Sedan</td>\n",
              "      <td>Central Secretariat</td>\n",
              "      <td>Inderlok</td>\n",
              "      <td>Afternoon</td>\n",
              "    </tr>\n",
              "    <tr>\n",
              "      <th>4</th>\n",
              "      <td>Bike</td>\n",
              "      <td>Ghitorni Village</td>\n",
              "      <td>Khan Market</td>\n",
              "      <td>Evening</td>\n",
              "    </tr>\n",
              "  </tbody>\n",
              "</table>\n",
              "</div>\n",
              "    <div class=\"colab-df-buttons\">\n",
              "\n",
              "  <div class=\"colab-df-container\">\n",
              "    <button class=\"colab-df-convert\" onclick=\"convertToInteractive('df-f4710b8e-df5b-402a-8b75-fa840ae00d6c')\"\n",
              "            title=\"Convert this dataframe to an interactive table.\"\n",
              "            style=\"display:none;\">\n",
              "\n",
              "  <svg xmlns=\"http://www.w3.org/2000/svg\" height=\"24px\" viewBox=\"0 -960 960 960\">\n",
              "    <path d=\"M120-120v-720h720v720H120Zm60-500h600v-160H180v160Zm220 220h160v-160H400v160Zm0 220h160v-160H400v160ZM180-400h160v-160H180v160Zm440 0h160v-160H620v160ZM180-180h160v-160H180v160Zm440 0h160v-160H620v160Z\"/>\n",
              "  </svg>\n",
              "    </button>\n",
              "\n",
              "  <style>\n",
              "    .colab-df-container {\n",
              "      display:flex;\n",
              "      gap: 12px;\n",
              "    }\n",
              "\n",
              "    .colab-df-convert {\n",
              "      background-color: #E8F0FE;\n",
              "      border: none;\n",
              "      border-radius: 50%;\n",
              "      cursor: pointer;\n",
              "      display: none;\n",
              "      fill: #1967D2;\n",
              "      height: 32px;\n",
              "      padding: 0 0 0 0;\n",
              "      width: 32px;\n",
              "    }\n",
              "\n",
              "    .colab-df-convert:hover {\n",
              "      background-color: #E2EBFA;\n",
              "      box-shadow: 0px 1px 2px rgba(60, 64, 67, 0.3), 0px 1px 3px 1px rgba(60, 64, 67, 0.15);\n",
              "      fill: #174EA6;\n",
              "    }\n",
              "\n",
              "    .colab-df-buttons div {\n",
              "      margin-bottom: 4px;\n",
              "    }\n",
              "\n",
              "    [theme=dark] .colab-df-convert {\n",
              "      background-color: #3B4455;\n",
              "      fill: #D2E3FC;\n",
              "    }\n",
              "\n",
              "    [theme=dark] .colab-df-convert:hover {\n",
              "      background-color: #434B5C;\n",
              "      box-shadow: 0px 1px 3px 1px rgba(0, 0, 0, 0.15);\n",
              "      filter: drop-shadow(0px 1px 2px rgba(0, 0, 0, 0.3));\n",
              "      fill: #FFFFFF;\n",
              "    }\n",
              "  </style>\n",
              "\n",
              "    <script>\n",
              "      const buttonEl =\n",
              "        document.querySelector('#df-f4710b8e-df5b-402a-8b75-fa840ae00d6c button.colab-df-convert');\n",
              "      buttonEl.style.display =\n",
              "        google.colab.kernel.accessAllowed ? 'block' : 'none';\n",
              "\n",
              "      async function convertToInteractive(key) {\n",
              "        const element = document.querySelector('#df-f4710b8e-df5b-402a-8b75-fa840ae00d6c');\n",
              "        const dataTable =\n",
              "          await google.colab.kernel.invokeFunction('convertToInteractive',\n",
              "                                                    [key], {});\n",
              "        if (!dataTable) return;\n",
              "\n",
              "        const docLinkHtml = 'Like what you see? Visit the ' +\n",
              "          '<a target=\"_blank\" href=https://colab.research.google.com/notebooks/data_table.ipynb>data table notebook</a>'\n",
              "          + ' to learn more about interactive tables.';\n",
              "        element.innerHTML = '';\n",
              "        dataTable['output_type'] = 'display_data';\n",
              "        await google.colab.output.renderOutput(dataTable, element);\n",
              "        const docLink = document.createElement('div');\n",
              "        docLink.innerHTML = docLinkHtml;\n",
              "        element.appendChild(docLink);\n",
              "      }\n",
              "    </script>\n",
              "  </div>\n",
              "\n",
              "\n",
              "    <div id=\"df-027ee488-dedd-451c-b8ec-8e36a37f89d9\">\n",
              "      <button class=\"colab-df-quickchart\" onclick=\"quickchart('df-027ee488-dedd-451c-b8ec-8e36a37f89d9')\"\n",
              "                title=\"Suggest charts\"\n",
              "                style=\"display:none;\">\n",
              "\n",
              "<svg xmlns=\"http://www.w3.org/2000/svg\" height=\"24px\"viewBox=\"0 0 24 24\"\n",
              "     width=\"24px\">\n",
              "    <g>\n",
              "        <path d=\"M19 3H5c-1.1 0-2 .9-2 2v14c0 1.1.9 2 2 2h14c1.1 0 2-.9 2-2V5c0-1.1-.9-2-2-2zM9 17H7v-7h2v7zm4 0h-2V7h2v10zm4 0h-2v-4h2v4z\"/>\n",
              "    </g>\n",
              "</svg>\n",
              "      </button>\n",
              "\n",
              "<style>\n",
              "  .colab-df-quickchart {\n",
              "      --bg-color: #E8F0FE;\n",
              "      --fill-color: #1967D2;\n",
              "      --hover-bg-color: #E2EBFA;\n",
              "      --hover-fill-color: #174EA6;\n",
              "      --disabled-fill-color: #AAA;\n",
              "      --disabled-bg-color: #DDD;\n",
              "  }\n",
              "\n",
              "  [theme=dark] .colab-df-quickchart {\n",
              "      --bg-color: #3B4455;\n",
              "      --fill-color: #D2E3FC;\n",
              "      --hover-bg-color: #434B5C;\n",
              "      --hover-fill-color: #FFFFFF;\n",
              "      --disabled-bg-color: #3B4455;\n",
              "      --disabled-fill-color: #666;\n",
              "  }\n",
              "\n",
              "  .colab-df-quickchart {\n",
              "    background-color: var(--bg-color);\n",
              "    border: none;\n",
              "    border-radius: 50%;\n",
              "    cursor: pointer;\n",
              "    display: none;\n",
              "    fill: var(--fill-color);\n",
              "    height: 32px;\n",
              "    padding: 0;\n",
              "    width: 32px;\n",
              "  }\n",
              "\n",
              "  .colab-df-quickchart:hover {\n",
              "    background-color: var(--hover-bg-color);\n",
              "    box-shadow: 0 1px 2px rgba(60, 64, 67, 0.3), 0 1px 3px 1px rgba(60, 64, 67, 0.15);\n",
              "    fill: var(--button-hover-fill-color);\n",
              "  }\n",
              "\n",
              "  .colab-df-quickchart-complete:disabled,\n",
              "  .colab-df-quickchart-complete:disabled:hover {\n",
              "    background-color: var(--disabled-bg-color);\n",
              "    fill: var(--disabled-fill-color);\n",
              "    box-shadow: none;\n",
              "  }\n",
              "\n",
              "  .colab-df-spinner {\n",
              "    border: 2px solid var(--fill-color);\n",
              "    border-color: transparent;\n",
              "    border-bottom-color: var(--fill-color);\n",
              "    animation:\n",
              "      spin 1s steps(1) infinite;\n",
              "  }\n",
              "\n",
              "  @keyframes spin {\n",
              "    0% {\n",
              "      border-color: transparent;\n",
              "      border-bottom-color: var(--fill-color);\n",
              "      border-left-color: var(--fill-color);\n",
              "    }\n",
              "    20% {\n",
              "      border-color: transparent;\n",
              "      border-left-color: var(--fill-color);\n",
              "      border-top-color: var(--fill-color);\n",
              "    }\n",
              "    30% {\n",
              "      border-color: transparent;\n",
              "      border-left-color: var(--fill-color);\n",
              "      border-top-color: var(--fill-color);\n",
              "      border-right-color: var(--fill-color);\n",
              "    }\n",
              "    40% {\n",
              "      border-color: transparent;\n",
              "      border-right-color: var(--fill-color);\n",
              "      border-top-color: var(--fill-color);\n",
              "    }\n",
              "    60% {\n",
              "      border-color: transparent;\n",
              "      border-right-color: var(--fill-color);\n",
              "    }\n",
              "    80% {\n",
              "      border-color: transparent;\n",
              "      border-right-color: var(--fill-color);\n",
              "      border-bottom-color: var(--fill-color);\n",
              "    }\n",
              "    90% {\n",
              "      border-color: transparent;\n",
              "      border-bottom-color: var(--fill-color);\n",
              "    }\n",
              "  }\n",
              "</style>\n",
              "\n",
              "      <script>\n",
              "        async function quickchart(key) {\n",
              "          const quickchartButtonEl =\n",
              "            document.querySelector('#' + key + ' button');\n",
              "          quickchartButtonEl.disabled = true;  // To prevent multiple clicks.\n",
              "          quickchartButtonEl.classList.add('colab-df-spinner');\n",
              "          try {\n",
              "            const charts = await google.colab.kernel.invokeFunction(\n",
              "                'suggestCharts', [key], {});\n",
              "          } catch (error) {\n",
              "            console.error('Error during call to suggestCharts:', error);\n",
              "          }\n",
              "          quickchartButtonEl.classList.remove('colab-df-spinner');\n",
              "          quickchartButtonEl.classList.add('colab-df-quickchart-complete');\n",
              "        }\n",
              "        (() => {\n",
              "          let quickchartButtonEl =\n",
              "            document.querySelector('#df-027ee488-dedd-451c-b8ec-8e36a37f89d9 button');\n",
              "          quickchartButtonEl.style.display =\n",
              "            google.colab.kernel.accessAllowed ? 'block' : 'none';\n",
              "        })();\n",
              "      </script>\n",
              "    </div>\n",
              "\n",
              "    </div>\n",
              "  </div>\n"
            ],
            "application/vnd.google.colaboratory.intrinsic+json": {
              "type": "dataframe",
              "variable_name": "data_categorical"
            }
          },
          "metadata": {},
          "execution_count": 105
        }
      ],
      "source": [
        "data_categorical = X.select_dtypes(include= ['object','category'])\n",
        "data_categorical.head()"
      ]
    },
    {
      "cell_type": "code",
      "execution_count": 106,
      "metadata": {
        "id": "Q_ftxfiZknl5"
      },
      "outputs": [],
      "source": [
        "from sklearn.preprocessing import StandardScaler, LabelEncoder\n",
        "\n",
        "ecoder = LabelEncoder()\n",
        "for col in data_categorical.columns:\n",
        "    data_categorical[col] = ecoder.fit_transform(data_categorical[col])"
      ]
    },
    {
      "cell_type": "code",
      "execution_count": 108,
      "metadata": {
        "colab": {
          "base_uri": "https://localhost:8080/",
          "height": 206
        },
        "id": "5V5LC9F5w6Ov",
        "outputId": "47bf93c1-8602-4d26-c97d-8d4308ce326c"
      },
      "outputs": [
        {
          "output_type": "execute_result",
          "data": {
            "text/plain": [
              "   Vehicle Type  Pickup Location  Drop Location  time_of_day\n",
              "0             6              116             68            2\n",
              "1             3              149             47            0\n",
              "2             0               80             90            2\n",
              "3             4               21             60            0\n",
              "4             1               39             79            1"
            ],
            "text/html": [
              "\n",
              "  <div id=\"df-a640c460-72af-47bd-a4ba-b509dff7813f\" class=\"colab-df-container\">\n",
              "    <div>\n",
              "<style scoped>\n",
              "    .dataframe tbody tr th:only-of-type {\n",
              "        vertical-align: middle;\n",
              "    }\n",
              "\n",
              "    .dataframe tbody tr th {\n",
              "        vertical-align: top;\n",
              "    }\n",
              "\n",
              "    .dataframe thead th {\n",
              "        text-align: right;\n",
              "    }\n",
              "</style>\n",
              "<table border=\"1\" class=\"dataframe\">\n",
              "  <thead>\n",
              "    <tr style=\"text-align: right;\">\n",
              "      <th></th>\n",
              "      <th>Vehicle Type</th>\n",
              "      <th>Pickup Location</th>\n",
              "      <th>Drop Location</th>\n",
              "      <th>time_of_day</th>\n",
              "    </tr>\n",
              "  </thead>\n",
              "  <tbody>\n",
              "    <tr>\n",
              "      <th>0</th>\n",
              "      <td>6</td>\n",
              "      <td>116</td>\n",
              "      <td>68</td>\n",
              "      <td>2</td>\n",
              "    </tr>\n",
              "    <tr>\n",
              "      <th>1</th>\n",
              "      <td>3</td>\n",
              "      <td>149</td>\n",
              "      <td>47</td>\n",
              "      <td>0</td>\n",
              "    </tr>\n",
              "    <tr>\n",
              "      <th>2</th>\n",
              "      <td>0</td>\n",
              "      <td>80</td>\n",
              "      <td>90</td>\n",
              "      <td>2</td>\n",
              "    </tr>\n",
              "    <tr>\n",
              "      <th>3</th>\n",
              "      <td>4</td>\n",
              "      <td>21</td>\n",
              "      <td>60</td>\n",
              "      <td>0</td>\n",
              "    </tr>\n",
              "    <tr>\n",
              "      <th>4</th>\n",
              "      <td>1</td>\n",
              "      <td>39</td>\n",
              "      <td>79</td>\n",
              "      <td>1</td>\n",
              "    </tr>\n",
              "  </tbody>\n",
              "</table>\n",
              "</div>\n",
              "    <div class=\"colab-df-buttons\">\n",
              "\n",
              "  <div class=\"colab-df-container\">\n",
              "    <button class=\"colab-df-convert\" onclick=\"convertToInteractive('df-a640c460-72af-47bd-a4ba-b509dff7813f')\"\n",
              "            title=\"Convert this dataframe to an interactive table.\"\n",
              "            style=\"display:none;\">\n",
              "\n",
              "  <svg xmlns=\"http://www.w3.org/2000/svg\" height=\"24px\" viewBox=\"0 -960 960 960\">\n",
              "    <path d=\"M120-120v-720h720v720H120Zm60-500h600v-160H180v160Zm220 220h160v-160H400v160Zm0 220h160v-160H400v160ZM180-400h160v-160H180v160Zm440 0h160v-160H620v160ZM180-180h160v-160H180v160Zm440 0h160v-160H620v160Z\"/>\n",
              "  </svg>\n",
              "    </button>\n",
              "\n",
              "  <style>\n",
              "    .colab-df-container {\n",
              "      display:flex;\n",
              "      gap: 12px;\n",
              "    }\n",
              "\n",
              "    .colab-df-convert {\n",
              "      background-color: #E8F0FE;\n",
              "      border: none;\n",
              "      border-radius: 50%;\n",
              "      cursor: pointer;\n",
              "      display: none;\n",
              "      fill: #1967D2;\n",
              "      height: 32px;\n",
              "      padding: 0 0 0 0;\n",
              "      width: 32px;\n",
              "    }\n",
              "\n",
              "    .colab-df-convert:hover {\n",
              "      background-color: #E2EBFA;\n",
              "      box-shadow: 0px 1px 2px rgba(60, 64, 67, 0.3), 0px 1px 3px 1px rgba(60, 64, 67, 0.15);\n",
              "      fill: #174EA6;\n",
              "    }\n",
              "\n",
              "    .colab-df-buttons div {\n",
              "      margin-bottom: 4px;\n",
              "    }\n",
              "\n",
              "    [theme=dark] .colab-df-convert {\n",
              "      background-color: #3B4455;\n",
              "      fill: #D2E3FC;\n",
              "    }\n",
              "\n",
              "    [theme=dark] .colab-df-convert:hover {\n",
              "      background-color: #434B5C;\n",
              "      box-shadow: 0px 1px 3px 1px rgba(0, 0, 0, 0.15);\n",
              "      filter: drop-shadow(0px 1px 2px rgba(0, 0, 0, 0.3));\n",
              "      fill: #FFFFFF;\n",
              "    }\n",
              "  </style>\n",
              "\n",
              "    <script>\n",
              "      const buttonEl =\n",
              "        document.querySelector('#df-a640c460-72af-47bd-a4ba-b509dff7813f button.colab-df-convert');\n",
              "      buttonEl.style.display =\n",
              "        google.colab.kernel.accessAllowed ? 'block' : 'none';\n",
              "\n",
              "      async function convertToInteractive(key) {\n",
              "        const element = document.querySelector('#df-a640c460-72af-47bd-a4ba-b509dff7813f');\n",
              "        const dataTable =\n",
              "          await google.colab.kernel.invokeFunction('convertToInteractive',\n",
              "                                                    [key], {});\n",
              "        if (!dataTable) return;\n",
              "\n",
              "        const docLinkHtml = 'Like what you see? Visit the ' +\n",
              "          '<a target=\"_blank\" href=https://colab.research.google.com/notebooks/data_table.ipynb>data table notebook</a>'\n",
              "          + ' to learn more about interactive tables.';\n",
              "        element.innerHTML = '';\n",
              "        dataTable['output_type'] = 'display_data';\n",
              "        await google.colab.output.renderOutput(dataTable, element);\n",
              "        const docLink = document.createElement('div');\n",
              "        docLink.innerHTML = docLinkHtml;\n",
              "        element.appendChild(docLink);\n",
              "      }\n",
              "    </script>\n",
              "  </div>\n",
              "\n",
              "\n",
              "    <div id=\"df-db80cde5-f25c-4b83-9ffb-a61823a9fae0\">\n",
              "      <button class=\"colab-df-quickchart\" onclick=\"quickchart('df-db80cde5-f25c-4b83-9ffb-a61823a9fae0')\"\n",
              "                title=\"Suggest charts\"\n",
              "                style=\"display:none;\">\n",
              "\n",
              "<svg xmlns=\"http://www.w3.org/2000/svg\" height=\"24px\"viewBox=\"0 0 24 24\"\n",
              "     width=\"24px\">\n",
              "    <g>\n",
              "        <path d=\"M19 3H5c-1.1 0-2 .9-2 2v14c0 1.1.9 2 2 2h14c1.1 0 2-.9 2-2V5c0-1.1-.9-2-2-2zM9 17H7v-7h2v7zm4 0h-2V7h2v10zm4 0h-2v-4h2v4z\"/>\n",
              "    </g>\n",
              "</svg>\n",
              "      </button>\n",
              "\n",
              "<style>\n",
              "  .colab-df-quickchart {\n",
              "      --bg-color: #E8F0FE;\n",
              "      --fill-color: #1967D2;\n",
              "      --hover-bg-color: #E2EBFA;\n",
              "      --hover-fill-color: #174EA6;\n",
              "      --disabled-fill-color: #AAA;\n",
              "      --disabled-bg-color: #DDD;\n",
              "  }\n",
              "\n",
              "  [theme=dark] .colab-df-quickchart {\n",
              "      --bg-color: #3B4455;\n",
              "      --fill-color: #D2E3FC;\n",
              "      --hover-bg-color: #434B5C;\n",
              "      --hover-fill-color: #FFFFFF;\n",
              "      --disabled-bg-color: #3B4455;\n",
              "      --disabled-fill-color: #666;\n",
              "  }\n",
              "\n",
              "  .colab-df-quickchart {\n",
              "    background-color: var(--bg-color);\n",
              "    border: none;\n",
              "    border-radius: 50%;\n",
              "    cursor: pointer;\n",
              "    display: none;\n",
              "    fill: var(--fill-color);\n",
              "    height: 32px;\n",
              "    padding: 0;\n",
              "    width: 32px;\n",
              "  }\n",
              "\n",
              "  .colab-df-quickchart:hover {\n",
              "    background-color: var(--hover-bg-color);\n",
              "    box-shadow: 0 1px 2px rgba(60, 64, 67, 0.3), 0 1px 3px 1px rgba(60, 64, 67, 0.15);\n",
              "    fill: var(--button-hover-fill-color);\n",
              "  }\n",
              "\n",
              "  .colab-df-quickchart-complete:disabled,\n",
              "  .colab-df-quickchart-complete:disabled:hover {\n",
              "    background-color: var(--disabled-bg-color);\n",
              "    fill: var(--disabled-fill-color);\n",
              "    box-shadow: none;\n",
              "  }\n",
              "\n",
              "  .colab-df-spinner {\n",
              "    border: 2px solid var(--fill-color);\n",
              "    border-color: transparent;\n",
              "    border-bottom-color: var(--fill-color);\n",
              "    animation:\n",
              "      spin 1s steps(1) infinite;\n",
              "  }\n",
              "\n",
              "  @keyframes spin {\n",
              "    0% {\n",
              "      border-color: transparent;\n",
              "      border-bottom-color: var(--fill-color);\n",
              "      border-left-color: var(--fill-color);\n",
              "    }\n",
              "    20% {\n",
              "      border-color: transparent;\n",
              "      border-left-color: var(--fill-color);\n",
              "      border-top-color: var(--fill-color);\n",
              "    }\n",
              "    30% {\n",
              "      border-color: transparent;\n",
              "      border-left-color: var(--fill-color);\n",
              "      border-top-color: var(--fill-color);\n",
              "      border-right-color: var(--fill-color);\n",
              "    }\n",
              "    40% {\n",
              "      border-color: transparent;\n",
              "      border-right-color: var(--fill-color);\n",
              "      border-top-color: var(--fill-color);\n",
              "    }\n",
              "    60% {\n",
              "      border-color: transparent;\n",
              "      border-right-color: var(--fill-color);\n",
              "    }\n",
              "    80% {\n",
              "      border-color: transparent;\n",
              "      border-right-color: var(--fill-color);\n",
              "      border-bottom-color: var(--fill-color);\n",
              "    }\n",
              "    90% {\n",
              "      border-color: transparent;\n",
              "      border-bottom-color: var(--fill-color);\n",
              "    }\n",
              "  }\n",
              "</style>\n",
              "\n",
              "      <script>\n",
              "        async function quickchart(key) {\n",
              "          const quickchartButtonEl =\n",
              "            document.querySelector('#' + key + ' button');\n",
              "          quickchartButtonEl.disabled = true;  // To prevent multiple clicks.\n",
              "          quickchartButtonEl.classList.add('colab-df-spinner');\n",
              "          try {\n",
              "            const charts = await google.colab.kernel.invokeFunction(\n",
              "                'suggestCharts', [key], {});\n",
              "          } catch (error) {\n",
              "            console.error('Error during call to suggestCharts:', error);\n",
              "          }\n",
              "          quickchartButtonEl.classList.remove('colab-df-spinner');\n",
              "          quickchartButtonEl.classList.add('colab-df-quickchart-complete');\n",
              "        }\n",
              "        (() => {\n",
              "          let quickchartButtonEl =\n",
              "            document.querySelector('#df-db80cde5-f25c-4b83-9ffb-a61823a9fae0 button');\n",
              "          quickchartButtonEl.style.display =\n",
              "            google.colab.kernel.accessAllowed ? 'block' : 'none';\n",
              "        })();\n",
              "      </script>\n",
              "    </div>\n",
              "\n",
              "    </div>\n",
              "  </div>\n"
            ],
            "application/vnd.google.colaboratory.intrinsic+json": {
              "type": "dataframe",
              "variable_name": "data_categorical"
            }
          },
          "metadata": {},
          "execution_count": 108
        }
      ],
      "source": [
        "data_categorical.head()"
      ]
    },
    {
      "cell_type": "code",
      "execution_count": 109,
      "metadata": {
        "id": "ltMI5iK7wk-E"
      },
      "outputs": [],
      "source": [
        "from sklearn.model_selection import train_test_split\n",
        "from sklearn.preprocessing import StandardScaler, OneHotEncoder\n",
        "from sklearn.compose import ColumnTransformer\n",
        "from sklearn.pipeline import Pipeline\n",
        "from sklearn.linear_model import LogisticRegression\n",
        "from sklearn.metrics import accuracy_score, classification_report, confusion_matrix\n",
        "from sklearn.ensemble import RandomForestClassifier, GradientBoostingClassifier\n",
        "from sklearn.tree import DecisionTreeClassifier\n",
        "from sklearn.svm import SVC"
      ]
    },
    {
      "cell_type": "code",
      "execution_count": 110,
      "metadata": {
        "id": "4pjF6oHQ1rtG"
      },
      "outputs": [],
      "source": [
        "new_data = pd.concat([data_categorical, data[numeric]], axis= 1)"
      ]
    },
    {
      "cell_type": "code",
      "execution_count": 111,
      "metadata": {
        "colab": {
          "base_uri": "https://localhost:8080/",
          "height": 441
        },
        "id": "IwL8jgNye8_u",
        "outputId": "aee6acb9-db24-43ba-8cce-ae7d71b8726d"
      },
      "outputs": [
        {
          "output_type": "execute_result",
          "data": {
            "text/plain": [
              "        Vehicle Type  Pickup Location  Drop Location  time_of_day  Avg VTAT  \\\n",
              "0                  6              116             68            2       NaN   \n",
              "1                  3              149             47            0       4.9   \n",
              "2                  0               80             90            2      13.4   \n",
              "3                  4               21             60            0      13.1   \n",
              "4                  1               39             79            1       5.3   \n",
              "...              ...              ...            ...          ...       ...   \n",
              "149995             2               87             38            1      10.2   \n",
              "149996             2               40              2            0       5.1   \n",
              "149997             3              146             69            2       2.7   \n",
              "149998             0               37            140            2       6.9   \n",
              "149999             4                8             46            0       3.5   \n",
              "\n",
              "        Avg CTAT  Booking Value  Ride Distance  Driver Ratings  \\\n",
              "0            NaN            NaN            NaN             NaN   \n",
              "1           14.0       5.472271           5.73             NaN   \n",
              "2           25.8       6.442540          13.58             4.9   \n",
              "3           28.5       6.033086          34.02             4.6   \n",
              "4           19.6       6.603944          48.21             4.1   \n",
              "...          ...            ...            ...             ...   \n",
              "149995      44.4       6.165418          40.08             3.7   \n",
              "149996      30.8       6.997596          21.31             4.8   \n",
              "149997      23.4       6.748760          15.93             3.9   \n",
              "149998      39.6       5.811141          45.54             4.1   \n",
              "149999      33.7       6.693324          21.19             4.6   \n",
              "\n",
              "        Customer Rating  Month  Day  Hour  Is Weekend  \n",
              "0                   NaN      3   23    12           1  \n",
              "1                   NaN     11   29    18           0  \n",
              "2                   4.9      8   23     8           0  \n",
              "3                   5.0     10   21    17           0  \n",
              "4                   4.3      9   16    22           0  \n",
              "...                 ...    ...  ...   ...         ...  \n",
              "149995              4.1     11   11    19           0  \n",
              "149996              5.0     11   24    15           1  \n",
              "149997              4.4      9   18    10           0  \n",
              "149998              3.7     10    5     7           1  \n",
              "149999              4.9      3   10    15           1  \n",
              "\n",
              "[148767 rows x 14 columns]"
            ],
            "text/html": [
              "\n",
              "  <div id=\"df-bed69748-c265-494b-bd57-e9f4d60f3a8b\" class=\"colab-df-container\">\n",
              "    <div>\n",
              "<style scoped>\n",
              "    .dataframe tbody tr th:only-of-type {\n",
              "        vertical-align: middle;\n",
              "    }\n",
              "\n",
              "    .dataframe tbody tr th {\n",
              "        vertical-align: top;\n",
              "    }\n",
              "\n",
              "    .dataframe thead th {\n",
              "        text-align: right;\n",
              "    }\n",
              "</style>\n",
              "<table border=\"1\" class=\"dataframe\">\n",
              "  <thead>\n",
              "    <tr style=\"text-align: right;\">\n",
              "      <th></th>\n",
              "      <th>Vehicle Type</th>\n",
              "      <th>Pickup Location</th>\n",
              "      <th>Drop Location</th>\n",
              "      <th>time_of_day</th>\n",
              "      <th>Avg VTAT</th>\n",
              "      <th>Avg CTAT</th>\n",
              "      <th>Booking Value</th>\n",
              "      <th>Ride Distance</th>\n",
              "      <th>Driver Ratings</th>\n",
              "      <th>Customer Rating</th>\n",
              "      <th>Month</th>\n",
              "      <th>Day</th>\n",
              "      <th>Hour</th>\n",
              "      <th>Is Weekend</th>\n",
              "    </tr>\n",
              "  </thead>\n",
              "  <tbody>\n",
              "    <tr>\n",
              "      <th>0</th>\n",
              "      <td>6</td>\n",
              "      <td>116</td>\n",
              "      <td>68</td>\n",
              "      <td>2</td>\n",
              "      <td>NaN</td>\n",
              "      <td>NaN</td>\n",
              "      <td>NaN</td>\n",
              "      <td>NaN</td>\n",
              "      <td>NaN</td>\n",
              "      <td>NaN</td>\n",
              "      <td>3</td>\n",
              "      <td>23</td>\n",
              "      <td>12</td>\n",
              "      <td>1</td>\n",
              "    </tr>\n",
              "    <tr>\n",
              "      <th>1</th>\n",
              "      <td>3</td>\n",
              "      <td>149</td>\n",
              "      <td>47</td>\n",
              "      <td>0</td>\n",
              "      <td>4.9</td>\n",
              "      <td>14.0</td>\n",
              "      <td>5.472271</td>\n",
              "      <td>5.73</td>\n",
              "      <td>NaN</td>\n",
              "      <td>NaN</td>\n",
              "      <td>11</td>\n",
              "      <td>29</td>\n",
              "      <td>18</td>\n",
              "      <td>0</td>\n",
              "    </tr>\n",
              "    <tr>\n",
              "      <th>2</th>\n",
              "      <td>0</td>\n",
              "      <td>80</td>\n",
              "      <td>90</td>\n",
              "      <td>2</td>\n",
              "      <td>13.4</td>\n",
              "      <td>25.8</td>\n",
              "      <td>6.442540</td>\n",
              "      <td>13.58</td>\n",
              "      <td>4.9</td>\n",
              "      <td>4.9</td>\n",
              "      <td>8</td>\n",
              "      <td>23</td>\n",
              "      <td>8</td>\n",
              "      <td>0</td>\n",
              "    </tr>\n",
              "    <tr>\n",
              "      <th>3</th>\n",
              "      <td>4</td>\n",
              "      <td>21</td>\n",
              "      <td>60</td>\n",
              "      <td>0</td>\n",
              "      <td>13.1</td>\n",
              "      <td>28.5</td>\n",
              "      <td>6.033086</td>\n",
              "      <td>34.02</td>\n",
              "      <td>4.6</td>\n",
              "      <td>5.0</td>\n",
              "      <td>10</td>\n",
              "      <td>21</td>\n",
              "      <td>17</td>\n",
              "      <td>0</td>\n",
              "    </tr>\n",
              "    <tr>\n",
              "      <th>4</th>\n",
              "      <td>1</td>\n",
              "      <td>39</td>\n",
              "      <td>79</td>\n",
              "      <td>1</td>\n",
              "      <td>5.3</td>\n",
              "      <td>19.6</td>\n",
              "      <td>6.603944</td>\n",
              "      <td>48.21</td>\n",
              "      <td>4.1</td>\n",
              "      <td>4.3</td>\n",
              "      <td>9</td>\n",
              "      <td>16</td>\n",
              "      <td>22</td>\n",
              "      <td>0</td>\n",
              "    </tr>\n",
              "    <tr>\n",
              "      <th>...</th>\n",
              "      <td>...</td>\n",
              "      <td>...</td>\n",
              "      <td>...</td>\n",
              "      <td>...</td>\n",
              "      <td>...</td>\n",
              "      <td>...</td>\n",
              "      <td>...</td>\n",
              "      <td>...</td>\n",
              "      <td>...</td>\n",
              "      <td>...</td>\n",
              "      <td>...</td>\n",
              "      <td>...</td>\n",
              "      <td>...</td>\n",
              "      <td>...</td>\n",
              "    </tr>\n",
              "    <tr>\n",
              "      <th>149995</th>\n",
              "      <td>2</td>\n",
              "      <td>87</td>\n",
              "      <td>38</td>\n",
              "      <td>1</td>\n",
              "      <td>10.2</td>\n",
              "      <td>44.4</td>\n",
              "      <td>6.165418</td>\n",
              "      <td>40.08</td>\n",
              "      <td>3.7</td>\n",
              "      <td>4.1</td>\n",
              "      <td>11</td>\n",
              "      <td>11</td>\n",
              "      <td>19</td>\n",
              "      <td>0</td>\n",
              "    </tr>\n",
              "    <tr>\n",
              "      <th>149996</th>\n",
              "      <td>2</td>\n",
              "      <td>40</td>\n",
              "      <td>2</td>\n",
              "      <td>0</td>\n",
              "      <td>5.1</td>\n",
              "      <td>30.8</td>\n",
              "      <td>6.997596</td>\n",
              "      <td>21.31</td>\n",
              "      <td>4.8</td>\n",
              "      <td>5.0</td>\n",
              "      <td>11</td>\n",
              "      <td>24</td>\n",
              "      <td>15</td>\n",
              "      <td>1</td>\n",
              "    </tr>\n",
              "    <tr>\n",
              "      <th>149997</th>\n",
              "      <td>3</td>\n",
              "      <td>146</td>\n",
              "      <td>69</td>\n",
              "      <td>2</td>\n",
              "      <td>2.7</td>\n",
              "      <td>23.4</td>\n",
              "      <td>6.748760</td>\n",
              "      <td>15.93</td>\n",
              "      <td>3.9</td>\n",
              "      <td>4.4</td>\n",
              "      <td>9</td>\n",
              "      <td>18</td>\n",
              "      <td>10</td>\n",
              "      <td>0</td>\n",
              "    </tr>\n",
              "    <tr>\n",
              "      <th>149998</th>\n",
              "      <td>0</td>\n",
              "      <td>37</td>\n",
              "      <td>140</td>\n",
              "      <td>2</td>\n",
              "      <td>6.9</td>\n",
              "      <td>39.6</td>\n",
              "      <td>5.811141</td>\n",
              "      <td>45.54</td>\n",
              "      <td>4.1</td>\n",
              "      <td>3.7</td>\n",
              "      <td>10</td>\n",
              "      <td>5</td>\n",
              "      <td>7</td>\n",
              "      <td>1</td>\n",
              "    </tr>\n",
              "    <tr>\n",
              "      <th>149999</th>\n",
              "      <td>4</td>\n",
              "      <td>8</td>\n",
              "      <td>46</td>\n",
              "      <td>0</td>\n",
              "      <td>3.5</td>\n",
              "      <td>33.7</td>\n",
              "      <td>6.693324</td>\n",
              "      <td>21.19</td>\n",
              "      <td>4.6</td>\n",
              "      <td>4.9</td>\n",
              "      <td>3</td>\n",
              "      <td>10</td>\n",
              "      <td>15</td>\n",
              "      <td>1</td>\n",
              "    </tr>\n",
              "  </tbody>\n",
              "</table>\n",
              "<p>148767 rows × 14 columns</p>\n",
              "</div>\n",
              "    <div class=\"colab-df-buttons\">\n",
              "\n",
              "  <div class=\"colab-df-container\">\n",
              "    <button class=\"colab-df-convert\" onclick=\"convertToInteractive('df-bed69748-c265-494b-bd57-e9f4d60f3a8b')\"\n",
              "            title=\"Convert this dataframe to an interactive table.\"\n",
              "            style=\"display:none;\">\n",
              "\n",
              "  <svg xmlns=\"http://www.w3.org/2000/svg\" height=\"24px\" viewBox=\"0 -960 960 960\">\n",
              "    <path d=\"M120-120v-720h720v720H120Zm60-500h600v-160H180v160Zm220 220h160v-160H400v160Zm0 220h160v-160H400v160ZM180-400h160v-160H180v160Zm440 0h160v-160H620v160ZM180-180h160v-160H180v160Zm440 0h160v-160H620v160Z\"/>\n",
              "  </svg>\n",
              "    </button>\n",
              "\n",
              "  <style>\n",
              "    .colab-df-container {\n",
              "      display:flex;\n",
              "      gap: 12px;\n",
              "    }\n",
              "\n",
              "    .colab-df-convert {\n",
              "      background-color: #E8F0FE;\n",
              "      border: none;\n",
              "      border-radius: 50%;\n",
              "      cursor: pointer;\n",
              "      display: none;\n",
              "      fill: #1967D2;\n",
              "      height: 32px;\n",
              "      padding: 0 0 0 0;\n",
              "      width: 32px;\n",
              "    }\n",
              "\n",
              "    .colab-df-convert:hover {\n",
              "      background-color: #E2EBFA;\n",
              "      box-shadow: 0px 1px 2px rgba(60, 64, 67, 0.3), 0px 1px 3px 1px rgba(60, 64, 67, 0.15);\n",
              "      fill: #174EA6;\n",
              "    }\n",
              "\n",
              "    .colab-df-buttons div {\n",
              "      margin-bottom: 4px;\n",
              "    }\n",
              "\n",
              "    [theme=dark] .colab-df-convert {\n",
              "      background-color: #3B4455;\n",
              "      fill: #D2E3FC;\n",
              "    }\n",
              "\n",
              "    [theme=dark] .colab-df-convert:hover {\n",
              "      background-color: #434B5C;\n",
              "      box-shadow: 0px 1px 3px 1px rgba(0, 0, 0, 0.15);\n",
              "      filter: drop-shadow(0px 1px 2px rgba(0, 0, 0, 0.3));\n",
              "      fill: #FFFFFF;\n",
              "    }\n",
              "  </style>\n",
              "\n",
              "    <script>\n",
              "      const buttonEl =\n",
              "        document.querySelector('#df-bed69748-c265-494b-bd57-e9f4d60f3a8b button.colab-df-convert');\n",
              "      buttonEl.style.display =\n",
              "        google.colab.kernel.accessAllowed ? 'block' : 'none';\n",
              "\n",
              "      async function convertToInteractive(key) {\n",
              "        const element = document.querySelector('#df-bed69748-c265-494b-bd57-e9f4d60f3a8b');\n",
              "        const dataTable =\n",
              "          await google.colab.kernel.invokeFunction('convertToInteractive',\n",
              "                                                    [key], {});\n",
              "        if (!dataTable) return;\n",
              "\n",
              "        const docLinkHtml = 'Like what you see? Visit the ' +\n",
              "          '<a target=\"_blank\" href=https://colab.research.google.com/notebooks/data_table.ipynb>data table notebook</a>'\n",
              "          + ' to learn more about interactive tables.';\n",
              "        element.innerHTML = '';\n",
              "        dataTable['output_type'] = 'display_data';\n",
              "        await google.colab.output.renderOutput(dataTable, element);\n",
              "        const docLink = document.createElement('div');\n",
              "        docLink.innerHTML = docLinkHtml;\n",
              "        element.appendChild(docLink);\n",
              "      }\n",
              "    </script>\n",
              "  </div>\n",
              "\n",
              "\n",
              "    <div id=\"df-fc5d1ba9-e31f-43a2-8c9f-25574466bb66\">\n",
              "      <button class=\"colab-df-quickchart\" onclick=\"quickchart('df-fc5d1ba9-e31f-43a2-8c9f-25574466bb66')\"\n",
              "                title=\"Suggest charts\"\n",
              "                style=\"display:none;\">\n",
              "\n",
              "<svg xmlns=\"http://www.w3.org/2000/svg\" height=\"24px\"viewBox=\"0 0 24 24\"\n",
              "     width=\"24px\">\n",
              "    <g>\n",
              "        <path d=\"M19 3H5c-1.1 0-2 .9-2 2v14c0 1.1.9 2 2 2h14c1.1 0 2-.9 2-2V5c0-1.1-.9-2-2-2zM9 17H7v-7h2v7zm4 0h-2V7h2v10zm4 0h-2v-4h2v4z\"/>\n",
              "    </g>\n",
              "</svg>\n",
              "      </button>\n",
              "\n",
              "<style>\n",
              "  .colab-df-quickchart {\n",
              "      --bg-color: #E8F0FE;\n",
              "      --fill-color: #1967D2;\n",
              "      --hover-bg-color: #E2EBFA;\n",
              "      --hover-fill-color: #174EA6;\n",
              "      --disabled-fill-color: #AAA;\n",
              "      --disabled-bg-color: #DDD;\n",
              "  }\n",
              "\n",
              "  [theme=dark] .colab-df-quickchart {\n",
              "      --bg-color: #3B4455;\n",
              "      --fill-color: #D2E3FC;\n",
              "      --hover-bg-color: #434B5C;\n",
              "      --hover-fill-color: #FFFFFF;\n",
              "      --disabled-bg-color: #3B4455;\n",
              "      --disabled-fill-color: #666;\n",
              "  }\n",
              "\n",
              "  .colab-df-quickchart {\n",
              "    background-color: var(--bg-color);\n",
              "    border: none;\n",
              "    border-radius: 50%;\n",
              "    cursor: pointer;\n",
              "    display: none;\n",
              "    fill: var(--fill-color);\n",
              "    height: 32px;\n",
              "    padding: 0;\n",
              "    width: 32px;\n",
              "  }\n",
              "\n",
              "  .colab-df-quickchart:hover {\n",
              "    background-color: var(--hover-bg-color);\n",
              "    box-shadow: 0 1px 2px rgba(60, 64, 67, 0.3), 0 1px 3px 1px rgba(60, 64, 67, 0.15);\n",
              "    fill: var(--button-hover-fill-color);\n",
              "  }\n",
              "\n",
              "  .colab-df-quickchart-complete:disabled,\n",
              "  .colab-df-quickchart-complete:disabled:hover {\n",
              "    background-color: var(--disabled-bg-color);\n",
              "    fill: var(--disabled-fill-color);\n",
              "    box-shadow: none;\n",
              "  }\n",
              "\n",
              "  .colab-df-spinner {\n",
              "    border: 2px solid var(--fill-color);\n",
              "    border-color: transparent;\n",
              "    border-bottom-color: var(--fill-color);\n",
              "    animation:\n",
              "      spin 1s steps(1) infinite;\n",
              "  }\n",
              "\n",
              "  @keyframes spin {\n",
              "    0% {\n",
              "      border-color: transparent;\n",
              "      border-bottom-color: var(--fill-color);\n",
              "      border-left-color: var(--fill-color);\n",
              "    }\n",
              "    20% {\n",
              "      border-color: transparent;\n",
              "      border-left-color: var(--fill-color);\n",
              "      border-top-color: var(--fill-color);\n",
              "    }\n",
              "    30% {\n",
              "      border-color: transparent;\n",
              "      border-left-color: var(--fill-color);\n",
              "      border-top-color: var(--fill-color);\n",
              "      border-right-color: var(--fill-color);\n",
              "    }\n",
              "    40% {\n",
              "      border-color: transparent;\n",
              "      border-right-color: var(--fill-color);\n",
              "      border-top-color: var(--fill-color);\n",
              "    }\n",
              "    60% {\n",
              "      border-color: transparent;\n",
              "      border-right-color: var(--fill-color);\n",
              "    }\n",
              "    80% {\n",
              "      border-color: transparent;\n",
              "      border-right-color: var(--fill-color);\n",
              "      border-bottom-color: var(--fill-color);\n",
              "    }\n",
              "    90% {\n",
              "      border-color: transparent;\n",
              "      border-bottom-color: var(--fill-color);\n",
              "    }\n",
              "  }\n",
              "</style>\n",
              "\n",
              "      <script>\n",
              "        async function quickchart(key) {\n",
              "          const quickchartButtonEl =\n",
              "            document.querySelector('#' + key + ' button');\n",
              "          quickchartButtonEl.disabled = true;  // To prevent multiple clicks.\n",
              "          quickchartButtonEl.classList.add('colab-df-spinner');\n",
              "          try {\n",
              "            const charts = await google.colab.kernel.invokeFunction(\n",
              "                'suggestCharts', [key], {});\n",
              "          } catch (error) {\n",
              "            console.error('Error during call to suggestCharts:', error);\n",
              "          }\n",
              "          quickchartButtonEl.classList.remove('colab-df-spinner');\n",
              "          quickchartButtonEl.classList.add('colab-df-quickchart-complete');\n",
              "        }\n",
              "        (() => {\n",
              "          let quickchartButtonEl =\n",
              "            document.querySelector('#df-fc5d1ba9-e31f-43a2-8c9f-25574466bb66 button');\n",
              "          quickchartButtonEl.style.display =\n",
              "            google.colab.kernel.accessAllowed ? 'block' : 'none';\n",
              "        })();\n",
              "      </script>\n",
              "    </div>\n",
              "\n",
              "  <div id=\"id_29b0dd0e-c39d-47a8-bac7-20f35bf3129c\">\n",
              "    <style>\n",
              "      .colab-df-generate {\n",
              "        background-color: #E8F0FE;\n",
              "        border: none;\n",
              "        border-radius: 50%;\n",
              "        cursor: pointer;\n",
              "        display: none;\n",
              "        fill: #1967D2;\n",
              "        height: 32px;\n",
              "        padding: 0 0 0 0;\n",
              "        width: 32px;\n",
              "      }\n",
              "\n",
              "      .colab-df-generate:hover {\n",
              "        background-color: #E2EBFA;\n",
              "        box-shadow: 0px 1px 2px rgba(60, 64, 67, 0.3), 0px 1px 3px 1px rgba(60, 64, 67, 0.15);\n",
              "        fill: #174EA6;\n",
              "      }\n",
              "\n",
              "      [theme=dark] .colab-df-generate {\n",
              "        background-color: #3B4455;\n",
              "        fill: #D2E3FC;\n",
              "      }\n",
              "\n",
              "      [theme=dark] .colab-df-generate:hover {\n",
              "        background-color: #434B5C;\n",
              "        box-shadow: 0px 1px 3px 1px rgba(0, 0, 0, 0.15);\n",
              "        filter: drop-shadow(0px 1px 2px rgba(0, 0, 0, 0.3));\n",
              "        fill: #FFFFFF;\n",
              "      }\n",
              "    </style>\n",
              "    <button class=\"colab-df-generate\" onclick=\"generateWithVariable('new_data')\"\n",
              "            title=\"Generate code using this dataframe.\"\n",
              "            style=\"display:none;\">\n",
              "\n",
              "  <svg xmlns=\"http://www.w3.org/2000/svg\" height=\"24px\"viewBox=\"0 0 24 24\"\n",
              "       width=\"24px\">\n",
              "    <path d=\"M7,19H8.4L18.45,9,17,7.55,7,17.6ZM5,21V16.75L18.45,3.32a2,2,0,0,1,2.83,0l1.4,1.43a1.91,1.91,0,0,1,.58,1.4,1.91,1.91,0,0,1-.58,1.4L9.25,21ZM18.45,9,17,7.55Zm-12,3A5.31,5.31,0,0,0,4.9,8.1,5.31,5.31,0,0,0,1,6.5,5.31,5.31,0,0,0,4.9,4.9,5.31,5.31,0,0,0,6.5,1,5.31,5.31,0,0,0,8.1,4.9,5.31,5.31,0,0,0,12,6.5,5.46,5.46,0,0,0,6.5,12Z\"/>\n",
              "  </svg>\n",
              "    </button>\n",
              "    <script>\n",
              "      (() => {\n",
              "      const buttonEl =\n",
              "        document.querySelector('#id_29b0dd0e-c39d-47a8-bac7-20f35bf3129c button.colab-df-generate');\n",
              "      buttonEl.style.display =\n",
              "        google.colab.kernel.accessAllowed ? 'block' : 'none';\n",
              "\n",
              "      buttonEl.onclick = () => {\n",
              "        google.colab.notebook.generateWithVariable('new_data');\n",
              "      }\n",
              "      })();\n",
              "    </script>\n",
              "  </div>\n",
              "\n",
              "    </div>\n",
              "  </div>\n"
            ],
            "application/vnd.google.colaboratory.intrinsic+json": {
              "type": "dataframe",
              "variable_name": "new_data"
            }
          },
          "metadata": {},
          "execution_count": 111
        }
      ],
      "source": [
        "new_data"
      ]
    },
    {
      "cell_type": "code",
      "source": [
        "# Handling nulls for model\n",
        "new_data['is_cancelled'] = data['is_cancelled']\n",
        "for col in new_data.columns:\n",
        "  new_data[col] = new_data[col].fillna(new_data[col].median())\n",
        "\n",
        "X = new_data.drop('is_cancelled', axis=1)\n",
        "y = new_data['is_cancelled']\n",
        "\n",
        "X_train, X_test, y_train, y_test = train_test_split(X, y, test_size= 0.2, random_state= 42, stratify=y)"
      ],
      "metadata": {
        "id": "l07TYojEKsVx"
      },
      "execution_count": 112,
      "outputs": []
    },
    {
      "cell_type": "code",
      "execution_count": 113,
      "metadata": {
        "colab": {
          "base_uri": "https://localhost:8080/",
          "height": 441
        },
        "id": "nFTiJG-VGXoq",
        "outputId": "28bb600d-a486-493e-f284-fd81fb2e5233"
      },
      "outputs": [
        {
          "output_type": "execute_result",
          "data": {
            "text/plain": [
              "        Vehicle Type  Pickup Location  Drop Location  time_of_day  Avg VTAT  \\\n",
              "34079              0               68            146            1       2.3   \n",
              "113697             1               32            134            0       6.6   \n",
              "12648              6               96            142            0       6.6   \n",
              "141685             1                0             51            2       4.7   \n",
              "143131             1               83             22            0      14.2   \n",
              "...              ...              ...            ...          ...       ...   \n",
              "67144              3              142            117            0       8.3   \n",
              "70434              3               39             93            2       8.0   \n",
              "139396             1               91            126            1       4.1   \n",
              "64069              2                5             91            1       8.3   \n",
              "44156              2              122            102            1       7.0   \n",
              "\n",
              "        Avg CTAT  Booking Value  Ride Distance  Driver Ratings  \\\n",
              "34079       44.1       6.461468           8.45            3.35   \n",
              "113697      34.3       6.484635          15.13            4.50   \n",
              "12648       28.8       6.028279          23.72            4.30   \n",
              "141685      28.8       6.028279          23.72            4.30   \n",
              "143131      16.7       6.659294          12.32            5.00   \n",
              "...          ...            ...            ...             ...   \n",
              "67144       28.8       6.028279          23.72            4.30   \n",
              "70434       28.8       6.028279          23.72            4.30   \n",
              "139396      18.9       6.059123           9.70            4.20   \n",
              "64069       28.8       6.028279          23.72            4.30   \n",
              "44156       42.7       6.102559          17.08            4.90   \n",
              "\n",
              "        Customer Rating  Month  Day  Hour  Is Weekend  \n",
              "34079               4.1      5   10    22           0  \n",
              "113697              4.3      4   11    16           0  \n",
              "12648               4.5      2    8    18           0  \n",
              "141685              4.5      5   24    12           0  \n",
              "143131              3.8      2   13    16           0  \n",
              "...                 ...    ...  ...   ...         ...  \n",
              "67144               4.5      6   26    16           0  \n",
              "70434               4.5      9    5     8           0  \n",
              "139396              3.7     12    8    21           1  \n",
              "64069               4.5     11   14    19           0  \n",
              "44156               5.0      4    6    22           1  \n",
              "\n",
              "[119013 rows x 14 columns]"
            ],
            "text/html": [
              "\n",
              "  <div id=\"df-6e4a5a76-ec1b-4e64-b500-4d68f8454868\" class=\"colab-df-container\">\n",
              "    <div>\n",
              "<style scoped>\n",
              "    .dataframe tbody tr th:only-of-type {\n",
              "        vertical-align: middle;\n",
              "    }\n",
              "\n",
              "    .dataframe tbody tr th {\n",
              "        vertical-align: top;\n",
              "    }\n",
              "\n",
              "    .dataframe thead th {\n",
              "        text-align: right;\n",
              "    }\n",
              "</style>\n",
              "<table border=\"1\" class=\"dataframe\">\n",
              "  <thead>\n",
              "    <tr style=\"text-align: right;\">\n",
              "      <th></th>\n",
              "      <th>Vehicle Type</th>\n",
              "      <th>Pickup Location</th>\n",
              "      <th>Drop Location</th>\n",
              "      <th>time_of_day</th>\n",
              "      <th>Avg VTAT</th>\n",
              "      <th>Avg CTAT</th>\n",
              "      <th>Booking Value</th>\n",
              "      <th>Ride Distance</th>\n",
              "      <th>Driver Ratings</th>\n",
              "      <th>Customer Rating</th>\n",
              "      <th>Month</th>\n",
              "      <th>Day</th>\n",
              "      <th>Hour</th>\n",
              "      <th>Is Weekend</th>\n",
              "    </tr>\n",
              "  </thead>\n",
              "  <tbody>\n",
              "    <tr>\n",
              "      <th>34079</th>\n",
              "      <td>0</td>\n",
              "      <td>68</td>\n",
              "      <td>146</td>\n",
              "      <td>1</td>\n",
              "      <td>2.3</td>\n",
              "      <td>44.1</td>\n",
              "      <td>6.461468</td>\n",
              "      <td>8.45</td>\n",
              "      <td>3.35</td>\n",
              "      <td>4.1</td>\n",
              "      <td>5</td>\n",
              "      <td>10</td>\n",
              "      <td>22</td>\n",
              "      <td>0</td>\n",
              "    </tr>\n",
              "    <tr>\n",
              "      <th>113697</th>\n",
              "      <td>1</td>\n",
              "      <td>32</td>\n",
              "      <td>134</td>\n",
              "      <td>0</td>\n",
              "      <td>6.6</td>\n",
              "      <td>34.3</td>\n",
              "      <td>6.484635</td>\n",
              "      <td>15.13</td>\n",
              "      <td>4.50</td>\n",
              "      <td>4.3</td>\n",
              "      <td>4</td>\n",
              "      <td>11</td>\n",
              "      <td>16</td>\n",
              "      <td>0</td>\n",
              "    </tr>\n",
              "    <tr>\n",
              "      <th>12648</th>\n",
              "      <td>6</td>\n",
              "      <td>96</td>\n",
              "      <td>142</td>\n",
              "      <td>0</td>\n",
              "      <td>6.6</td>\n",
              "      <td>28.8</td>\n",
              "      <td>6.028279</td>\n",
              "      <td>23.72</td>\n",
              "      <td>4.30</td>\n",
              "      <td>4.5</td>\n",
              "      <td>2</td>\n",
              "      <td>8</td>\n",
              "      <td>18</td>\n",
              "      <td>0</td>\n",
              "    </tr>\n",
              "    <tr>\n",
              "      <th>141685</th>\n",
              "      <td>1</td>\n",
              "      <td>0</td>\n",
              "      <td>51</td>\n",
              "      <td>2</td>\n",
              "      <td>4.7</td>\n",
              "      <td>28.8</td>\n",
              "      <td>6.028279</td>\n",
              "      <td>23.72</td>\n",
              "      <td>4.30</td>\n",
              "      <td>4.5</td>\n",
              "      <td>5</td>\n",
              "      <td>24</td>\n",
              "      <td>12</td>\n",
              "      <td>0</td>\n",
              "    </tr>\n",
              "    <tr>\n",
              "      <th>143131</th>\n",
              "      <td>1</td>\n",
              "      <td>83</td>\n",
              "      <td>22</td>\n",
              "      <td>0</td>\n",
              "      <td>14.2</td>\n",
              "      <td>16.7</td>\n",
              "      <td>6.659294</td>\n",
              "      <td>12.32</td>\n",
              "      <td>5.00</td>\n",
              "      <td>3.8</td>\n",
              "      <td>2</td>\n",
              "      <td>13</td>\n",
              "      <td>16</td>\n",
              "      <td>0</td>\n",
              "    </tr>\n",
              "    <tr>\n",
              "      <th>...</th>\n",
              "      <td>...</td>\n",
              "      <td>...</td>\n",
              "      <td>...</td>\n",
              "      <td>...</td>\n",
              "      <td>...</td>\n",
              "      <td>...</td>\n",
              "      <td>...</td>\n",
              "      <td>...</td>\n",
              "      <td>...</td>\n",
              "      <td>...</td>\n",
              "      <td>...</td>\n",
              "      <td>...</td>\n",
              "      <td>...</td>\n",
              "      <td>...</td>\n",
              "    </tr>\n",
              "    <tr>\n",
              "      <th>67144</th>\n",
              "      <td>3</td>\n",
              "      <td>142</td>\n",
              "      <td>117</td>\n",
              "      <td>0</td>\n",
              "      <td>8.3</td>\n",
              "      <td>28.8</td>\n",
              "      <td>6.028279</td>\n",
              "      <td>23.72</td>\n",
              "      <td>4.30</td>\n",
              "      <td>4.5</td>\n",
              "      <td>6</td>\n",
              "      <td>26</td>\n",
              "      <td>16</td>\n",
              "      <td>0</td>\n",
              "    </tr>\n",
              "    <tr>\n",
              "      <th>70434</th>\n",
              "      <td>3</td>\n",
              "      <td>39</td>\n",
              "      <td>93</td>\n",
              "      <td>2</td>\n",
              "      <td>8.0</td>\n",
              "      <td>28.8</td>\n",
              "      <td>6.028279</td>\n",
              "      <td>23.72</td>\n",
              "      <td>4.30</td>\n",
              "      <td>4.5</td>\n",
              "      <td>9</td>\n",
              "      <td>5</td>\n",
              "      <td>8</td>\n",
              "      <td>0</td>\n",
              "    </tr>\n",
              "    <tr>\n",
              "      <th>139396</th>\n",
              "      <td>1</td>\n",
              "      <td>91</td>\n",
              "      <td>126</td>\n",
              "      <td>1</td>\n",
              "      <td>4.1</td>\n",
              "      <td>18.9</td>\n",
              "      <td>6.059123</td>\n",
              "      <td>9.70</td>\n",
              "      <td>4.20</td>\n",
              "      <td>3.7</td>\n",
              "      <td>12</td>\n",
              "      <td>8</td>\n",
              "      <td>21</td>\n",
              "      <td>1</td>\n",
              "    </tr>\n",
              "    <tr>\n",
              "      <th>64069</th>\n",
              "      <td>2</td>\n",
              "      <td>5</td>\n",
              "      <td>91</td>\n",
              "      <td>1</td>\n",
              "      <td>8.3</td>\n",
              "      <td>28.8</td>\n",
              "      <td>6.028279</td>\n",
              "      <td>23.72</td>\n",
              "      <td>4.30</td>\n",
              "      <td>4.5</td>\n",
              "      <td>11</td>\n",
              "      <td>14</td>\n",
              "      <td>19</td>\n",
              "      <td>0</td>\n",
              "    </tr>\n",
              "    <tr>\n",
              "      <th>44156</th>\n",
              "      <td>2</td>\n",
              "      <td>122</td>\n",
              "      <td>102</td>\n",
              "      <td>1</td>\n",
              "      <td>7.0</td>\n",
              "      <td>42.7</td>\n",
              "      <td>6.102559</td>\n",
              "      <td>17.08</td>\n",
              "      <td>4.90</td>\n",
              "      <td>5.0</td>\n",
              "      <td>4</td>\n",
              "      <td>6</td>\n",
              "      <td>22</td>\n",
              "      <td>1</td>\n",
              "    </tr>\n",
              "  </tbody>\n",
              "</table>\n",
              "<p>119013 rows × 14 columns</p>\n",
              "</div>\n",
              "    <div class=\"colab-df-buttons\">\n",
              "\n",
              "  <div class=\"colab-df-container\">\n",
              "    <button class=\"colab-df-convert\" onclick=\"convertToInteractive('df-6e4a5a76-ec1b-4e64-b500-4d68f8454868')\"\n",
              "            title=\"Convert this dataframe to an interactive table.\"\n",
              "            style=\"display:none;\">\n",
              "\n",
              "  <svg xmlns=\"http://www.w3.org/2000/svg\" height=\"24px\" viewBox=\"0 -960 960 960\">\n",
              "    <path d=\"M120-120v-720h720v720H120Zm60-500h600v-160H180v160Zm220 220h160v-160H400v160Zm0 220h160v-160H400v160ZM180-400h160v-160H180v160Zm440 0h160v-160H620v160ZM180-180h160v-160H180v160Zm440 0h160v-160H620v160Z\"/>\n",
              "  </svg>\n",
              "    </button>\n",
              "\n",
              "  <style>\n",
              "    .colab-df-container {\n",
              "      display:flex;\n",
              "      gap: 12px;\n",
              "    }\n",
              "\n",
              "    .colab-df-convert {\n",
              "      background-color: #E8F0FE;\n",
              "      border: none;\n",
              "      border-radius: 50%;\n",
              "      cursor: pointer;\n",
              "      display: none;\n",
              "      fill: #1967D2;\n",
              "      height: 32px;\n",
              "      padding: 0 0 0 0;\n",
              "      width: 32px;\n",
              "    }\n",
              "\n",
              "    .colab-df-convert:hover {\n",
              "      background-color: #E2EBFA;\n",
              "      box-shadow: 0px 1px 2px rgba(60, 64, 67, 0.3), 0px 1px 3px 1px rgba(60, 64, 67, 0.15);\n",
              "      fill: #174EA6;\n",
              "    }\n",
              "\n",
              "    .colab-df-buttons div {\n",
              "      margin-bottom: 4px;\n",
              "    }\n",
              "\n",
              "    [theme=dark] .colab-df-convert {\n",
              "      background-color: #3B4455;\n",
              "      fill: #D2E3FC;\n",
              "    }\n",
              "\n",
              "    [theme=dark] .colab-df-convert:hover {\n",
              "      background-color: #434B5C;\n",
              "      box-shadow: 0px 1px 3px 1px rgba(0, 0, 0, 0.15);\n",
              "      filter: drop-shadow(0px 1px 2px rgba(0, 0, 0, 0.3));\n",
              "      fill: #FFFFFF;\n",
              "    }\n",
              "  </style>\n",
              "\n",
              "    <script>\n",
              "      const buttonEl =\n",
              "        document.querySelector('#df-6e4a5a76-ec1b-4e64-b500-4d68f8454868 button.colab-df-convert');\n",
              "      buttonEl.style.display =\n",
              "        google.colab.kernel.accessAllowed ? 'block' : 'none';\n",
              "\n",
              "      async function convertToInteractive(key) {\n",
              "        const element = document.querySelector('#df-6e4a5a76-ec1b-4e64-b500-4d68f8454868');\n",
              "        const dataTable =\n",
              "          await google.colab.kernel.invokeFunction('convertToInteractive',\n",
              "                                                    [key], {});\n",
              "        if (!dataTable) return;\n",
              "\n",
              "        const docLinkHtml = 'Like what you see? Visit the ' +\n",
              "          '<a target=\"_blank\" href=https://colab.research.google.com/notebooks/data_table.ipynb>data table notebook</a>'\n",
              "          + ' to learn more about interactive tables.';\n",
              "        element.innerHTML = '';\n",
              "        dataTable['output_type'] = 'display_data';\n",
              "        await google.colab.output.renderOutput(dataTable, element);\n",
              "        const docLink = document.createElement('div');\n",
              "        docLink.innerHTML = docLinkHtml;\n",
              "        element.appendChild(docLink);\n",
              "      }\n",
              "    </script>\n",
              "  </div>\n",
              "\n",
              "\n",
              "    <div id=\"df-38318dea-af32-45b4-96c8-c8351e384d3e\">\n",
              "      <button class=\"colab-df-quickchart\" onclick=\"quickchart('df-38318dea-af32-45b4-96c8-c8351e384d3e')\"\n",
              "                title=\"Suggest charts\"\n",
              "                style=\"display:none;\">\n",
              "\n",
              "<svg xmlns=\"http://www.w3.org/2000/svg\" height=\"24px\"viewBox=\"0 0 24 24\"\n",
              "     width=\"24px\">\n",
              "    <g>\n",
              "        <path d=\"M19 3H5c-1.1 0-2 .9-2 2v14c0 1.1.9 2 2 2h14c1.1 0 2-.9 2-2V5c0-1.1-.9-2-2-2zM9 17H7v-7h2v7zm4 0h-2V7h2v10zm4 0h-2v-4h2v4z\"/>\n",
              "    </g>\n",
              "</svg>\n",
              "      </button>\n",
              "\n",
              "<style>\n",
              "  .colab-df-quickchart {\n",
              "      --bg-color: #E8F0FE;\n",
              "      --fill-color: #1967D2;\n",
              "      --hover-bg-color: #E2EBFA;\n",
              "      --hover-fill-color: #174EA6;\n",
              "      --disabled-fill-color: #AAA;\n",
              "      --disabled-bg-color: #DDD;\n",
              "  }\n",
              "\n",
              "  [theme=dark] .colab-df-quickchart {\n",
              "      --bg-color: #3B4455;\n",
              "      --fill-color: #D2E3FC;\n",
              "      --hover-bg-color: #434B5C;\n",
              "      --hover-fill-color: #FFFFFF;\n",
              "      --disabled-bg-color: #3B4455;\n",
              "      --disabled-fill-color: #666;\n",
              "  }\n",
              "\n",
              "  .colab-df-quickchart {\n",
              "    background-color: var(--bg-color);\n",
              "    border: none;\n",
              "    border-radius: 50%;\n",
              "    cursor: pointer;\n",
              "    display: none;\n",
              "    fill: var(--fill-color);\n",
              "    height: 32px;\n",
              "    padding: 0;\n",
              "    width: 32px;\n",
              "  }\n",
              "\n",
              "  .colab-df-quickchart:hover {\n",
              "    background-color: var(--hover-bg-color);\n",
              "    box-shadow: 0 1px 2px rgba(60, 64, 67, 0.3), 0 1px 3px 1px rgba(60, 64, 67, 0.15);\n",
              "    fill: var(--button-hover-fill-color);\n",
              "  }\n",
              "\n",
              "  .colab-df-quickchart-complete:disabled,\n",
              "  .colab-df-quickchart-complete:disabled:hover {\n",
              "    background-color: var(--disabled-bg-color);\n",
              "    fill: var(--disabled-fill-color);\n",
              "    box-shadow: none;\n",
              "  }\n",
              "\n",
              "  .colab-df-spinner {\n",
              "    border: 2px solid var(--fill-color);\n",
              "    border-color: transparent;\n",
              "    border-bottom-color: var(--fill-color);\n",
              "    animation:\n",
              "      spin 1s steps(1) infinite;\n",
              "  }\n",
              "\n",
              "  @keyframes spin {\n",
              "    0% {\n",
              "      border-color: transparent;\n",
              "      border-bottom-color: var(--fill-color);\n",
              "      border-left-color: var(--fill-color);\n",
              "    }\n",
              "    20% {\n",
              "      border-color: transparent;\n",
              "      border-left-color: var(--fill-color);\n",
              "      border-top-color: var(--fill-color);\n",
              "    }\n",
              "    30% {\n",
              "      border-color: transparent;\n",
              "      border-left-color: var(--fill-color);\n",
              "      border-top-color: var(--fill-color);\n",
              "      border-right-color: var(--fill-color);\n",
              "    }\n",
              "    40% {\n",
              "      border-color: transparent;\n",
              "      border-right-color: var(--fill-color);\n",
              "      border-top-color: var(--fill-color);\n",
              "    }\n",
              "    60% {\n",
              "      border-color: transparent;\n",
              "      border-right-color: var(--fill-color);\n",
              "    }\n",
              "    80% {\n",
              "      border-color: transparent;\n",
              "      border-right-color: var(--fill-color);\n",
              "      border-bottom-color: var(--fill-color);\n",
              "    }\n",
              "    90% {\n",
              "      border-color: transparent;\n",
              "      border-bottom-color: var(--fill-color);\n",
              "    }\n",
              "  }\n",
              "</style>\n",
              "\n",
              "      <script>\n",
              "        async function quickchart(key) {\n",
              "          const quickchartButtonEl =\n",
              "            document.querySelector('#' + key + ' button');\n",
              "          quickchartButtonEl.disabled = true;  // To prevent multiple clicks.\n",
              "          quickchartButtonEl.classList.add('colab-df-spinner');\n",
              "          try {\n",
              "            const charts = await google.colab.kernel.invokeFunction(\n",
              "                'suggestCharts', [key], {});\n",
              "          } catch (error) {\n",
              "            console.error('Error during call to suggestCharts:', error);\n",
              "          }\n",
              "          quickchartButtonEl.classList.remove('colab-df-spinner');\n",
              "          quickchartButtonEl.classList.add('colab-df-quickchart-complete');\n",
              "        }\n",
              "        (() => {\n",
              "          let quickchartButtonEl =\n",
              "            document.querySelector('#df-38318dea-af32-45b4-96c8-c8351e384d3e button');\n",
              "          quickchartButtonEl.style.display =\n",
              "            google.colab.kernel.accessAllowed ? 'block' : 'none';\n",
              "        })();\n",
              "      </script>\n",
              "    </div>\n",
              "\n",
              "  <div id=\"id_7378be5b-ee34-450f-9685-ad28e5a725a7\">\n",
              "    <style>\n",
              "      .colab-df-generate {\n",
              "        background-color: #E8F0FE;\n",
              "        border: none;\n",
              "        border-radius: 50%;\n",
              "        cursor: pointer;\n",
              "        display: none;\n",
              "        fill: #1967D2;\n",
              "        height: 32px;\n",
              "        padding: 0 0 0 0;\n",
              "        width: 32px;\n",
              "      }\n",
              "\n",
              "      .colab-df-generate:hover {\n",
              "        background-color: #E2EBFA;\n",
              "        box-shadow: 0px 1px 2px rgba(60, 64, 67, 0.3), 0px 1px 3px 1px rgba(60, 64, 67, 0.15);\n",
              "        fill: #174EA6;\n",
              "      }\n",
              "\n",
              "      [theme=dark] .colab-df-generate {\n",
              "        background-color: #3B4455;\n",
              "        fill: #D2E3FC;\n",
              "      }\n",
              "\n",
              "      [theme=dark] .colab-df-generate:hover {\n",
              "        background-color: #434B5C;\n",
              "        box-shadow: 0px 1px 3px 1px rgba(0, 0, 0, 0.15);\n",
              "        filter: drop-shadow(0px 1px 2px rgba(0, 0, 0, 0.3));\n",
              "        fill: #FFFFFF;\n",
              "      }\n",
              "    </style>\n",
              "    <button class=\"colab-df-generate\" onclick=\"generateWithVariable('X_train')\"\n",
              "            title=\"Generate code using this dataframe.\"\n",
              "            style=\"display:none;\">\n",
              "\n",
              "  <svg xmlns=\"http://www.w3.org/2000/svg\" height=\"24px\"viewBox=\"0 0 24 24\"\n",
              "       width=\"24px\">\n",
              "    <path d=\"M7,19H8.4L18.45,9,17,7.55,7,17.6ZM5,21V16.75L18.45,3.32a2,2,0,0,1,2.83,0l1.4,1.43a1.91,1.91,0,0,1,.58,1.4,1.91,1.91,0,0,1-.58,1.4L9.25,21ZM18.45,9,17,7.55Zm-12,3A5.31,5.31,0,0,0,4.9,8.1,5.31,5.31,0,0,0,1,6.5,5.31,5.31,0,0,0,4.9,4.9,5.31,5.31,0,0,0,6.5,1,5.31,5.31,0,0,0,8.1,4.9,5.31,5.31,0,0,0,12,6.5,5.46,5.46,0,0,0,6.5,12Z\"/>\n",
              "  </svg>\n",
              "    </button>\n",
              "    <script>\n",
              "      (() => {\n",
              "      const buttonEl =\n",
              "        document.querySelector('#id_7378be5b-ee34-450f-9685-ad28e5a725a7 button.colab-df-generate');\n",
              "      buttonEl.style.display =\n",
              "        google.colab.kernel.accessAllowed ? 'block' : 'none';\n",
              "\n",
              "      buttonEl.onclick = () => {\n",
              "        google.colab.notebook.generateWithVariable('X_train');\n",
              "      }\n",
              "      })();\n",
              "    </script>\n",
              "  </div>\n",
              "\n",
              "    </div>\n",
              "  </div>\n"
            ],
            "application/vnd.google.colaboratory.intrinsic+json": {
              "type": "dataframe",
              "variable_name": "X_train"
            }
          },
          "metadata": {},
          "execution_count": 113
        }
      ],
      "source": [
        "X_train"
      ]
    },
    {
      "cell_type": "code",
      "execution_count": 114,
      "metadata": {
        "colab": {
          "base_uri": "https://localhost:8080/"
        },
        "id": "ydrdOxNrw2du",
        "outputId": "c182e8aa-a4cf-4297-a382-74c5ffc94b13"
      },
      "outputs": [
        {
          "output_type": "stream",
          "name": "stdout",
          "text": [
            "Accuracy: 0.552732405726961\n"
          ]
        },
        {
          "output_type": "stream",
          "name": "stderr",
          "text": [
            "/usr/local/lib/python3.12/dist-packages/sklearn/linear_model/_logistic.py:465: ConvergenceWarning: lbfgs failed to converge (status=1):\n",
            "STOP: TOTAL NO. OF ITERATIONS REACHED LIMIT.\n",
            "\n",
            "Increase the number of iterations (max_iter) or scale the data as shown in:\n",
            "    https://scikit-learn.org/stable/modules/preprocessing.html\n",
            "Please also refer to the documentation for alternative solver options:\n",
            "    https://scikit-learn.org/stable/modules/linear_model.html#logistic-regression\n",
            "  n_iter_i = _check_optimize_result(\n"
          ]
        }
      ],
      "source": [
        "model = LogisticRegression(random_state=42, max_iter=1000)\n",
        "model.fit(X_train, y_train)\n",
        "accuracy = model.score(X_test, y_test)\n",
        "print(\"Accuracy:\", accuracy)"
      ]
    },
    {
      "cell_type": "code",
      "execution_count": 115,
      "metadata": {
        "colab": {
          "base_uri": "https://localhost:8080/"
        },
        "id": "qaHEUWDDw2Xd",
        "outputId": "89aee26f-a0a4-4d1b-9f53-d9f21c85ca69"
      },
      "outputs": [
        {
          "output_type": "stream",
          "name": "stdout",
          "text": [
            "Accuracy: 0.999395039322444\n"
          ]
        }
      ],
      "source": [
        "rf = RandomForestClassifier(\n",
        "    n_estimators=500,\n",
        "    max_depth=10,\n",
        "    min_samples_split=5,\n",
        "    min_samples_leaf=2,\n",
        "    class_weight='balanced',\n",
        "    random_state=42,\n",
        "    n_jobs=-1\n",
        ")\n",
        "rf.fit(X_train, y_train)\n",
        "accuracy = rf.score(X_test, y_test)\n",
        "print(\"Accuracy:\", accuracy)"
      ]
    }
  ],
  "metadata": {
    "colab": {
      "provenance": []
    },
    "kernelspec": {
      "display_name": "Python 3",
      "name": "python3"
    },
    "language_info": {
      "codemirror_mode": {
        "name": "ipython",
        "version": 3
      },
      "file_extension": ".py",
      "mimetype": "text/x-python",
      "name": "python",
      "nbconvert_exporter": "python",
      "pygments_lexer": "ipython3",
      "version": "3.13.2"
    }
  },
  "nbformat": 4,
  "nbformat_minor": 0
}