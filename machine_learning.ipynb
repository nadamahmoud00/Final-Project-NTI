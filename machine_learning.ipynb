{
 "cells": [
  {
   "cell_type": "markdown",
   "id": "168a55ef",
   "metadata": {},
   "source": [
    "# Machine Learning"
   ]
  },
  {
   "cell_type": "markdown",
   "id": "61cce1d9",
   "metadata": {},
   "source": [
    "Every cancelled ride is lost revenue and wasted time\n",
    "\n",
    "By predicting ride cancellations before they happen, ride-hailing platforms can:\n",
    "\n",
    "- Improve customer experience\n",
    "- Minimize lost revenue"
   ]
  },
  {
   "cell_type": "code",
   "execution_count": 1,
   "id": "3f0be349",
   "metadata": {},
   "outputs": [],
   "source": [
    "import pandas as pd\n",
    "import numpy as np\n",
    "import matplotlib.pyplot as plt\n",
    "import seaborn as sns"
   ]
  },
  {
   "cell_type": "code",
   "execution_count": 2,
   "id": "2284983a",
   "metadata": {},
   "outputs": [],
   "source": [
    "from sklearn.model_selection import train_test_split\n",
    "from sklearn.preprocessing import StandardScaler, OneHotEncoder\n",
    "from sklearn.compose import ColumnTransformer\n",
    "from sklearn.pipeline import Pipeline\n",
    "from sklearn.linear_model import LogisticRegression\n",
    "from sklearn.linear_model import LinearRegression\n",
    "from sklearn.metrics import accuracy_score, classification_report, confusion_matrix\n",
    "from sklearn.ensemble import RandomForestClassifier, GradientBoostingClassifier\n",
    "from sklearn.tree import DecisionTreeClassifier\n",
    "from sklearn.svm import SVC\n",
    "from sklearn.model_selection import train_test_split\n",
    "from sklearn.preprocessing import LabelEncoder, StandardScaler\n",
    "from sklearn.ensemble import RandomForestRegressor\n",
    "from sklearn.metrics import mean_absolute_error, mean_squared_error, r2_score\n",
    "from sklearn.model_selection import cross_val_score"
   ]
  },
  {
   "cell_type": "code",
   "execution_count": 3,
   "id": "f9520271",
   "metadata": {},
   "outputs": [],
   "source": [
    "data2= pd.read_csv('final.csv', index_col= 0)"
   ]
  },
  {
   "cell_type": "code",
   "execution_count": 4,
   "id": "f1742fab",
   "metadata": {},
   "outputs": [
    {
     "data": {
      "text/plain": [
       "['Avg VTAT',\n",
       " 'Avg CTAT',\n",
       " 'Cancelled Rides by Customer',\n",
       " 'Cancelled Rides by Driver',\n",
       " 'Incomplete Rides',\n",
       " 'Booking Value',\n",
       " 'Ride Distance',\n",
       " 'Driver Ratings',\n",
       " 'Customer Rating',\n",
       " 'Month',\n",
       " 'Day',\n",
       " 'Hour',\n",
       " 'Is Weekend']"
      ]
     },
     "execution_count": 4,
     "metadata": {},
     "output_type": "execute_result"
    }
   ],
   "source": [
    "numeric= list(data2.describe().columns)\n",
    "numeric"
   ]
  },
  {
   "cell_type": "code",
   "execution_count": 5,
   "id": "d4a861c8",
   "metadata": {},
   "outputs": [],
   "source": [
    "data2[numeric]= data2[numeric].fillna(data2[numeric].mean())"
   ]
  },
  {
   "cell_type": "code",
   "execution_count": 6,
   "id": "75d81953",
   "metadata": {},
   "outputs": [
    {
     "data": {
      "text/plain": [
       "array(['No Driver Found', 'Incomplete', 'Completed',\n",
       "       'Cancelled by Driver', 'Cancelled by Customer'], dtype=object)"
      ]
     },
     "execution_count": 6,
     "metadata": {},
     "output_type": "execute_result"
    }
   ],
   "source": [
    "data2['Booking Status'].unique()"
   ]
  },
  {
   "cell_type": "code",
   "execution_count": 7,
   "id": "432f7171",
   "metadata": {},
   "outputs": [
    {
     "data": {
      "text/plain": [
       "is_cancelled\n",
       "0    92248\n",
       "1    56519\n",
       "Name: count, dtype: int64"
      ]
     },
     "execution_count": 7,
     "metadata": {},
     "output_type": "execute_result"
    }
   ],
   "source": [
    "data2['is_cancelled'] = data2['Booking Status'].apply(\n",
    "    lambda x: 0 if x == 'Completed' else 1\n",
    ")\n",
    "data2['is_cancelled'].value_counts()"
   ]
  },
  {
   "cell_type": "code",
   "execution_count": 8,
   "id": "c19b78de",
   "metadata": {},
   "outputs": [
    {
     "data": {
      "text/html": [
       "<div>\n",
       "<style scoped>\n",
       "    .dataframe tbody tr th:only-of-type {\n",
       "        vertical-align: middle;\n",
       "    }\n",
       "\n",
       "    .dataframe tbody tr th {\n",
       "        vertical-align: top;\n",
       "    }\n",
       "\n",
       "    .dataframe thead th {\n",
       "        text-align: right;\n",
       "    }\n",
       "</style>\n",
       "<table border=\"1\" class=\"dataframe\">\n",
       "  <thead>\n",
       "    <tr style=\"text-align: right;\">\n",
       "      <th></th>\n",
       "      <th>Booking ID</th>\n",
       "      <th>Booking Status</th>\n",
       "      <th>Customer ID</th>\n",
       "      <th>Vehicle Type</th>\n",
       "      <th>Pickup Location</th>\n",
       "      <th>Drop Location</th>\n",
       "      <th>Reason for cancelling by Customer</th>\n",
       "      <th>Driver Cancellation Reason</th>\n",
       "      <th>Incomplete Rides Reason</th>\n",
       "      <th>Payment Method</th>\n",
       "      <th>time_of_day</th>\n",
       "    </tr>\n",
       "  </thead>\n",
       "  <tbody>\n",
       "    <tr>\n",
       "      <th>0</th>\n",
       "      <td>\"CNR5884300\"</td>\n",
       "      <td>No Driver Found</td>\n",
       "      <td>\"CID1982111\"</td>\n",
       "      <td>eBike</td>\n",
       "      <td>Palam Vihar</td>\n",
       "      <td>Jhilmil</td>\n",
       "      <td>NaN</td>\n",
       "      <td>NaN</td>\n",
       "      <td>NaN</td>\n",
       "      <td>NaN</td>\n",
       "      <td>Morning</td>\n",
       "    </tr>\n",
       "    <tr>\n",
       "      <th>1</th>\n",
       "      <td>\"CNR1326809\"</td>\n",
       "      <td>Incomplete</td>\n",
       "      <td>\"CID4604802\"</td>\n",
       "      <td>Go Sedan</td>\n",
       "      <td>Shastri Nagar</td>\n",
       "      <td>Gurgaon Sector 56</td>\n",
       "      <td>NaN</td>\n",
       "      <td>NaN</td>\n",
       "      <td>Vehicle Breakdown</td>\n",
       "      <td>UPI</td>\n",
       "      <td>Afternoon</td>\n",
       "    </tr>\n",
       "    <tr>\n",
       "      <th>2</th>\n",
       "      <td>\"CNR8494506\"</td>\n",
       "      <td>Completed</td>\n",
       "      <td>\"CID9202816\"</td>\n",
       "      <td>Auto</td>\n",
       "      <td>Khandsa</td>\n",
       "      <td>Malviya Nagar</td>\n",
       "      <td>NaN</td>\n",
       "      <td>NaN</td>\n",
       "      <td>NaN</td>\n",
       "      <td>Debit Card</td>\n",
       "      <td>Morning</td>\n",
       "    </tr>\n",
       "    <tr>\n",
       "      <th>3</th>\n",
       "      <td>\"CNR8906825\"</td>\n",
       "      <td>Completed</td>\n",
       "      <td>\"CID2610914\"</td>\n",
       "      <td>Premier Sedan</td>\n",
       "      <td>Central Secretariat</td>\n",
       "      <td>Inderlok</td>\n",
       "      <td>NaN</td>\n",
       "      <td>NaN</td>\n",
       "      <td>NaN</td>\n",
       "      <td>UPI</td>\n",
       "      <td>Afternoon</td>\n",
       "    </tr>\n",
       "    <tr>\n",
       "      <th>4</th>\n",
       "      <td>\"CNR1950162\"</td>\n",
       "      <td>Completed</td>\n",
       "      <td>\"CID9933542\"</td>\n",
       "      <td>Bike</td>\n",
       "      <td>Ghitorni Village</td>\n",
       "      <td>Khan Market</td>\n",
       "      <td>NaN</td>\n",
       "      <td>NaN</td>\n",
       "      <td>NaN</td>\n",
       "      <td>UPI</td>\n",
       "      <td>Evening</td>\n",
       "    </tr>\n",
       "  </tbody>\n",
       "</table>\n",
       "</div>"
      ],
      "text/plain": [
       "     Booking ID   Booking Status   Customer ID   Vehicle Type  \\\n",
       "0  \"CNR5884300\"  No Driver Found  \"CID1982111\"          eBike   \n",
       "1  \"CNR1326809\"       Incomplete  \"CID4604802\"       Go Sedan   \n",
       "2  \"CNR8494506\"        Completed  \"CID9202816\"           Auto   \n",
       "3  \"CNR8906825\"        Completed  \"CID2610914\"  Premier Sedan   \n",
       "4  \"CNR1950162\"        Completed  \"CID9933542\"           Bike   \n",
       "\n",
       "       Pickup Location      Drop Location Reason for cancelling by Customer  \\\n",
       "0          Palam Vihar            Jhilmil                               NaN   \n",
       "1        Shastri Nagar  Gurgaon Sector 56                               NaN   \n",
       "2              Khandsa      Malviya Nagar                               NaN   \n",
       "3  Central Secretariat           Inderlok                               NaN   \n",
       "4     Ghitorni Village        Khan Market                               NaN   \n",
       "\n",
       "  Driver Cancellation Reason Incomplete Rides Reason Payment Method  \\\n",
       "0                        NaN                     NaN            NaN   \n",
       "1                        NaN       Vehicle Breakdown            UPI   \n",
       "2                        NaN                     NaN     Debit Card   \n",
       "3                        NaN                     NaN            UPI   \n",
       "4                        NaN                     NaN            UPI   \n",
       "\n",
       "  time_of_day  \n",
       "0     Morning  \n",
       "1   Afternoon  \n",
       "2     Morning  \n",
       "3   Afternoon  \n",
       "4     Evening  "
      ]
     },
     "execution_count": 8,
     "metadata": {},
     "output_type": "execute_result"
    }
   ],
   "source": [
    "data_categorical = data2.select_dtypes(include= ['object','category'])\n",
    "data_categorical.head()"
   ]
  },
  {
   "cell_type": "code",
   "execution_count": 9,
   "id": "9aef06c9",
   "metadata": {},
   "outputs": [],
   "source": [
    "from sklearn.preprocessing import StandardScaler, LabelEncoder\n",
    "\n",
    "ecoder = LabelEncoder()\n",
    "for col in data_categorical.columns:\n",
    "    data2[col] = ecoder.fit_transform(data_categorical[col])"
   ]
  },
  {
   "cell_type": "code",
   "execution_count": 10,
   "id": "de91f3d6",
   "metadata": {},
   "outputs": [
    {
     "data": {
      "text/plain": [
       "Index(['Booking ID', 'Booking Status', 'Customer ID', 'Vehicle Type',\n",
       "       'Pickup Location', 'Drop Location', 'Avg VTAT', 'Avg CTAT',\n",
       "       'Cancelled Rides by Customer', 'Reason for cancelling by Customer',\n",
       "       'Cancelled Rides by Driver', 'Driver Cancellation Reason',\n",
       "       'Incomplete Rides', 'Incomplete Rides Reason', 'Booking Value',\n",
       "       'Ride Distance', 'Driver Ratings', 'Customer Rating', 'Payment Method',\n",
       "       'Month', 'Day', 'Hour', 'Is Weekend', 'time_of_day', 'is_cancelled'],\n",
       "      dtype='object')"
      ]
     },
     "execution_count": 10,
     "metadata": {},
     "output_type": "execute_result"
    }
   ],
   "source": [
    "data2.columns"
   ]
  },
  {
   "cell_type": "code",
   "execution_count": 11,
   "id": "f13bc5cf",
   "metadata": {},
   "outputs": [],
   "source": [
    "data2= data2.drop({'Booking ID', 'Customer ID', 'Pickup Location', 'Drop Location', 'Booking Status', 'Cancelled Rides by Customer', 'Reason for cancelling by Customer',\n",
    "       'Cancelled Rides by Driver', 'Driver Cancellation Reason',\n",
    "       'Incomplete Rides', 'Incomplete Rides Reason'}, axis= 1)"
   ]
  },
  {
   "cell_type": "code",
   "execution_count": 32,
   "id": "5bdf541b",
   "metadata": {},
   "outputs": [],
   "source": [
    "X = data2.drop('is_cancelled', axis=1)\n",
    "y = data2['is_cancelled']\n",
    "\n",
    "X_train, X_test, y_train, y_test = train_test_split(X, y, test_size= 0.2, random_state= 42, stratify= y)"
   ]
  },
  {
   "cell_type": "code",
   "execution_count": 33,
   "id": "bd507594",
   "metadata": {},
   "outputs": [
    {
     "data": {
      "text/html": [
       "<div>\n",
       "<style scoped>\n",
       "    .dataframe tbody tr th:only-of-type {\n",
       "        vertical-align: middle;\n",
       "    }\n",
       "\n",
       "    .dataframe tbody tr th {\n",
       "        vertical-align: top;\n",
       "    }\n",
       "\n",
       "    .dataframe thead th {\n",
       "        text-align: right;\n",
       "    }\n",
       "</style>\n",
       "<table border=\"1\" class=\"dataframe\">\n",
       "  <thead>\n",
       "    <tr style=\"text-align: right;\">\n",
       "      <th></th>\n",
       "      <th>Vehicle Type</th>\n",
       "      <th>Avg VTAT</th>\n",
       "      <th>Avg CTAT</th>\n",
       "      <th>Booking Value</th>\n",
       "      <th>Ride Distance</th>\n",
       "      <th>Driver Ratings</th>\n",
       "      <th>Customer Rating</th>\n",
       "      <th>Payment Method</th>\n",
       "      <th>Month</th>\n",
       "      <th>Day</th>\n",
       "      <th>Hour</th>\n",
       "      <th>Is Weekend</th>\n",
       "      <th>time_of_day</th>\n",
       "    </tr>\n",
       "  </thead>\n",
       "  <tbody>\n",
       "    <tr>\n",
       "      <th>34079</th>\n",
       "      <td>0</td>\n",
       "      <td>2.300000</td>\n",
       "      <td>44.100000</td>\n",
       "      <td>639.00000</td>\n",
       "      <td>8.450000</td>\n",
       "      <td>3.350000</td>\n",
       "      <td>4.100000</td>\n",
       "      <td>0</td>\n",
       "      <td>5</td>\n",
       "      <td>10</td>\n",
       "      <td>22</td>\n",
       "      <td>0</td>\n",
       "      <td>1</td>\n",
       "    </tr>\n",
       "    <tr>\n",
       "      <th>113697</th>\n",
       "      <td>1</td>\n",
       "      <td>6.600000</td>\n",
       "      <td>34.300000</td>\n",
       "      <td>654.00000</td>\n",
       "      <td>15.130000</td>\n",
       "      <td>4.500000</td>\n",
       "      <td>4.300000</td>\n",
       "      <td>3</td>\n",
       "      <td>4</td>\n",
       "      <td>11</td>\n",
       "      <td>16</td>\n",
       "      <td>0</td>\n",
       "      <td>0</td>\n",
       "    </tr>\n",
       "    <tr>\n",
       "      <th>12648</th>\n",
       "      <td>6</td>\n",
       "      <td>6.600000</td>\n",
       "      <td>29.150249</td>\n",
       "      <td>508.29023</td>\n",
       "      <td>24.640956</td>\n",
       "      <td>4.240752</td>\n",
       "      <td>4.408932</td>\n",
       "      <td>5</td>\n",
       "      <td>2</td>\n",
       "      <td>8</td>\n",
       "      <td>18</td>\n",
       "      <td>0</td>\n",
       "      <td>0</td>\n",
       "    </tr>\n",
       "    <tr>\n",
       "      <th>141685</th>\n",
       "      <td>1</td>\n",
       "      <td>4.700000</td>\n",
       "      <td>29.150249</td>\n",
       "      <td>508.29023</td>\n",
       "      <td>24.640956</td>\n",
       "      <td>4.240752</td>\n",
       "      <td>4.408932</td>\n",
       "      <td>5</td>\n",
       "      <td>5</td>\n",
       "      <td>24</td>\n",
       "      <td>12</td>\n",
       "      <td>0</td>\n",
       "      <td>2</td>\n",
       "    </tr>\n",
       "    <tr>\n",
       "      <th>143131</th>\n",
       "      <td>1</td>\n",
       "      <td>14.200000</td>\n",
       "      <td>16.700000</td>\n",
       "      <td>779.00000</td>\n",
       "      <td>12.320000</td>\n",
       "      <td>5.000000</td>\n",
       "      <td>3.800000</td>\n",
       "      <td>4</td>\n",
       "      <td>2</td>\n",
       "      <td>13</td>\n",
       "      <td>16</td>\n",
       "      <td>0</td>\n",
       "      <td>0</td>\n",
       "    </tr>\n",
       "    <tr>\n",
       "      <th>...</th>\n",
       "      <td>...</td>\n",
       "      <td>...</td>\n",
       "      <td>...</td>\n",
       "      <td>...</td>\n",
       "      <td>...</td>\n",
       "      <td>...</td>\n",
       "      <td>...</td>\n",
       "      <td>...</td>\n",
       "      <td>...</td>\n",
       "      <td>...</td>\n",
       "      <td>...</td>\n",
       "      <td>...</td>\n",
       "      <td>...</td>\n",
       "    </tr>\n",
       "    <tr>\n",
       "      <th>67144</th>\n",
       "      <td>3</td>\n",
       "      <td>8.454819</td>\n",
       "      <td>29.150249</td>\n",
       "      <td>508.29023</td>\n",
       "      <td>24.640956</td>\n",
       "      <td>4.240752</td>\n",
       "      <td>4.408932</td>\n",
       "      <td>5</td>\n",
       "      <td>6</td>\n",
       "      <td>26</td>\n",
       "      <td>16</td>\n",
       "      <td>0</td>\n",
       "      <td>0</td>\n",
       "    </tr>\n",
       "    <tr>\n",
       "      <th>70434</th>\n",
       "      <td>3</td>\n",
       "      <td>8.000000</td>\n",
       "      <td>29.150249</td>\n",
       "      <td>508.29023</td>\n",
       "      <td>24.640956</td>\n",
       "      <td>4.240752</td>\n",
       "      <td>4.408932</td>\n",
       "      <td>5</td>\n",
       "      <td>9</td>\n",
       "      <td>5</td>\n",
       "      <td>8</td>\n",
       "      <td>0</td>\n",
       "      <td>2</td>\n",
       "    </tr>\n",
       "    <tr>\n",
       "      <th>139396</th>\n",
       "      <td>1</td>\n",
       "      <td>4.100000</td>\n",
       "      <td>18.900000</td>\n",
       "      <td>427.00000</td>\n",
       "      <td>9.700000</td>\n",
       "      <td>4.200000</td>\n",
       "      <td>3.700000</td>\n",
       "      <td>3</td>\n",
       "      <td>12</td>\n",
       "      <td>8</td>\n",
       "      <td>21</td>\n",
       "      <td>1</td>\n",
       "      <td>1</td>\n",
       "    </tr>\n",
       "    <tr>\n",
       "      <th>64069</th>\n",
       "      <td>2</td>\n",
       "      <td>8.454819</td>\n",
       "      <td>29.150249</td>\n",
       "      <td>508.29023</td>\n",
       "      <td>24.640956</td>\n",
       "      <td>4.240752</td>\n",
       "      <td>4.408932</td>\n",
       "      <td>5</td>\n",
       "      <td>11</td>\n",
       "      <td>14</td>\n",
       "      <td>19</td>\n",
       "      <td>0</td>\n",
       "      <td>1</td>\n",
       "    </tr>\n",
       "    <tr>\n",
       "      <th>44156</th>\n",
       "      <td>2</td>\n",
       "      <td>7.000000</td>\n",
       "      <td>42.700000</td>\n",
       "      <td>446.00000</td>\n",
       "      <td>17.080000</td>\n",
       "      <td>4.900000</td>\n",
       "      <td>5.000000</td>\n",
       "      <td>4</td>\n",
       "      <td>4</td>\n",
       "      <td>6</td>\n",
       "      <td>22</td>\n",
       "      <td>1</td>\n",
       "      <td>1</td>\n",
       "    </tr>\n",
       "  </tbody>\n",
       "</table>\n",
       "<p>119013 rows × 13 columns</p>\n",
       "</div>"
      ],
      "text/plain": [
       "        Vehicle Type   Avg VTAT   Avg CTAT  Booking Value  Ride Distance  \\\n",
       "34079              0   2.300000  44.100000      639.00000       8.450000   \n",
       "113697             1   6.600000  34.300000      654.00000      15.130000   \n",
       "12648              6   6.600000  29.150249      508.29023      24.640956   \n",
       "141685             1   4.700000  29.150249      508.29023      24.640956   \n",
       "143131             1  14.200000  16.700000      779.00000      12.320000   \n",
       "...              ...        ...        ...            ...            ...   \n",
       "67144              3   8.454819  29.150249      508.29023      24.640956   \n",
       "70434              3   8.000000  29.150249      508.29023      24.640956   \n",
       "139396             1   4.100000  18.900000      427.00000       9.700000   \n",
       "64069              2   8.454819  29.150249      508.29023      24.640956   \n",
       "44156              2   7.000000  42.700000      446.00000      17.080000   \n",
       "\n",
       "        Driver Ratings  Customer Rating  Payment Method  Month  Day  Hour  \\\n",
       "34079         3.350000         4.100000               0      5   10    22   \n",
       "113697        4.500000         4.300000               3      4   11    16   \n",
       "12648         4.240752         4.408932               5      2    8    18   \n",
       "141685        4.240752         4.408932               5      5   24    12   \n",
       "143131        5.000000         3.800000               4      2   13    16   \n",
       "...                ...              ...             ...    ...  ...   ...   \n",
       "67144         4.240752         4.408932               5      6   26    16   \n",
       "70434         4.240752         4.408932               5      9    5     8   \n",
       "139396        4.200000         3.700000               3     12    8    21   \n",
       "64069         4.240752         4.408932               5     11   14    19   \n",
       "44156         4.900000         5.000000               4      4    6    22   \n",
       "\n",
       "        Is Weekend  time_of_day  \n",
       "34079            0            1  \n",
       "113697           0            0  \n",
       "12648            0            0  \n",
       "141685           0            2  \n",
       "143131           0            0  \n",
       "...            ...          ...  \n",
       "67144            0            0  \n",
       "70434            0            2  \n",
       "139396           1            1  \n",
       "64069            0            1  \n",
       "44156            1            1  \n",
       "\n",
       "[119013 rows x 13 columns]"
      ]
     },
     "execution_count": 33,
     "metadata": {},
     "output_type": "execute_result"
    }
   ],
   "source": [
    "X_train"
   ]
  },
  {
   "cell_type": "code",
   "execution_count": 34,
   "id": "5916f5c6",
   "metadata": {},
   "outputs": [],
   "source": [
    "scaler = StandardScaler()\n",
    "X_train = scaler.fit_transform(X_train)\n",
    "X_test = scaler.transform(X_test)"
   ]
  },
  {
   "cell_type": "markdown",
   "id": "c3a0e307",
   "metadata": {},
   "source": [
    "### LogisticRegression"
   ]
  },
  {
   "cell_type": "code",
   "execution_count": 35,
   "id": "e2b47eae",
   "metadata": {},
   "outputs": [
    {
     "name": "stdout",
     "output_type": "stream",
     "text": [
      "Accuracy: 0.9096592054849768\n"
     ]
    }
   ],
   "source": [
    "model = LogisticRegression(random_state=42, max_iter=1000)\n",
    "model.fit(X_train, y_train)\n",
    "accuracy = model.score(X_test, y_test)\n",
    "print(\"Accuracy:\", accuracy)"
   ]
  },
  {
   "cell_type": "markdown",
   "id": "c3c07b58",
   "metadata": {},
   "source": [
    "### KNeighbors Classifier"
   ]
  },
  {
   "cell_type": "code",
   "execution_count": 36,
   "id": "82ad9371",
   "metadata": {},
   "outputs": [],
   "source": [
    "from sklearn.neighbors import KNeighborsClassifier"
   ]
  },
  {
   "cell_type": "code",
   "execution_count": 37,
   "metadata": {},
   "outputs": [
    {
     "name": "stdout",
     "output_type": "stream",
     "text": [
      "Accuracy: 0.9687773072528063\n"
     ]
    }
   ],
   "source": [
    "model= KNeighborsClassifier(n_neighbors=5)\n",
    "model.fit(X_train, y_train)\n",
    "accuracy = model.score(X_test, y_test)\n",
    "print(\"Accuracy:\", accuracy)"
   ]
  }
 ],
 "metadata": {
  "kernelspec": {
   "display_name": "Python 3",
   "language": "python",
   "name": "python3"
  },
  "language_info": {
   "codemirror_mode": {
    "name": "ipython",
    "version": 3
   },
   "file_extension": ".py",
   "mimetype": "text/x-python",
   "name": "python",
   "nbconvert_exporter": "python",
   "pygments_lexer": "ipython3",
   "version": "3.13.2"
  }
 },
 "nbformat": 4,
 "nbformat_minor": 5
}
